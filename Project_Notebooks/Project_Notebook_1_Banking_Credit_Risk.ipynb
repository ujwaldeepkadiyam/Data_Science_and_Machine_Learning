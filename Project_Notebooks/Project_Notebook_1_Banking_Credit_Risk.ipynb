{
  "nbformat": 4,
  "nbformat_minor": 0,
  "metadata": {
    "colab": {
      "provenance": [],
      "collapsed_sections": [
        "uAhUVOnJJ6ny"
      ],
      "include_colab_link": true
    },
    "kernelspec": {
      "name": "python3",
      "display_name": "Python 3"
    },
    "language_info": {
      "name": "python"
    }
  },
  "cells": [
    {
      "cell_type": "markdown",
      "metadata": {
        "id": "view-in-github",
        "colab_type": "text"
      },
      "source": [
        "<a href=\"https://colab.research.google.com/github/ujwaldeepkadiyam/Data_Science_and_Machine_Learning/blob/main/Project_Notebook_1_Banking_Credit_Risk.ipynb\" target=\"_parent\"><img src=\"https://colab.research.google.com/assets/colab-badge.svg\" alt=\"Open In Colab\"/></a>"
      ]
    },
    {
      "cell_type": "markdown",
      "source": [
        "#Stages in ML Project\n",
        "\n",
        "1) Problem statement/Goal/Objective\n",
        "\n",
        "2) Data Exploration Validation\n",
        "\n",
        "3) Data cleaning\n",
        "\n",
        "4) Model Building and Validation\n",
        "\n"
      ],
      "metadata": {
        "id": "HhLCrUgjY1Lq"
      }
    },
    {
      "cell_type": "markdown",
      "source": [
        "#  \\[1\\]  Problem Statement"
      ],
      "metadata": {
        "id": "SCqppCaloBsE"
      }
    },
    {
      "cell_type": "markdown",
      "source": [
        "A **credit score** is a numerical representation of an individual's creditworthiness, typically ranging from 300 to 850. It helps lenders assess the risk of lending money to individuals. Higher credit scores indicate better creditworthiness, meaning the individual is more likely to repay loans on time, while lower scores indicate higher risk.\n",
        "\n",
        "### Key Factors That Determine a Credit Score:\n",
        "1. **Payment History (35%)**:\n",
        "   - This is the most significant factor. It includes whether you’ve paid past credit accounts on time. Late payments, defaults, bankruptcies, and foreclosures negatively impact your score.\n",
        "\n",
        "2. **Credit Utilization (30%)**:\n",
        "   - This is the ratio of current credit card balances to the total credit limit. It’s recommended to keep credit utilization below 30%. For example, if your total credit limit is \\$10,000 and your balance is \\$3,000, your utilization rate is 30%."
      ],
      "metadata": {
        "id": "NyY0p_Y4yMNh"
      }
    },
    {
      "cell_type": "markdown",
      "source": [
        "3. **Length of Credit History (15%)**:\n",
        "   - The longer your credit history, the better. This includes the age of your oldest account, the average age of all accounts, and how long it’s been since you used certain accounts.\n",
        "\n",
        "4. **Credit Mix (10%)**:\n",
        "   - Having a variety of credit types (e.g., credit cards, mortgages, auto loans) can help your score. It shows you can manage different types of debt.\n",
        "\n",
        "5. **New Credit (10%)**:\n",
        "   - Opening several new credit accounts in a short period can negatively impact your score. Each time you apply for credit, a hard inquiry is made, which can lower your score temporarily."
      ],
      "metadata": {
        "id": "x49zio5x8Vlq"
      }
    },
    {
      "cell_type": "markdown",
      "source": [
        "**Credit risk model building** is the process of developing statistical or machine learning models to assess the likelihood that a borrower or customer will default on their financial obligations. These models are essential in banking, lending, and financial services as they help institutions quantify the level of risk associated with granting loans or credit to customers. A critical model within this domain is the **Probability of Default (PD) model**, which estimates the likelihood that a borrower will default on a loan within a specific timeframe, often one year.\n"
      ],
      "metadata": {
        "id": "KytV0Jrxof-V"
      }
    },
    {
      "cell_type": "markdown",
      "source": [
        "Dataset Location - https://github.com/venkatareddykonasani/Datasets/tree/master/Give%20me%20some%20Credit"
      ],
      "metadata": {
        "id": "NVrgB1jezNei"
      }
    },
    {
      "cell_type": "markdown",
      "source": [
        "# [2] Data Exploration and Data Validation"
      ],
      "metadata": {
        "id": "0Ug8WSFYoFdH"
      }
    },
    {
      "cell_type": "code",
      "source": [
        "import matplotlib.pyplot as plt\n",
        "import pandas as pd\n",
        "import seaborn as sns"
      ],
      "metadata": {
        "id": "d6ckZt9dqZQi"
      },
      "execution_count": null,
      "outputs": []
    },
    {
      "cell_type": "markdown",
      "metadata": {
        "id": "qQD1LWFDGwLR"
      },
      "source": [
        "## Import Give me some Credit\\cs-training.csv"
      ]
    },
    {
      "cell_type": "code",
      "metadata": {
        "id": "MUrAq-D0GtzX"
      },
      "source": [
        "loans=pd.read_csv(\"https://raw.githubusercontent.com/venkatareddykonasani/Datasets/master/Give%20me%20some%20Credit/cs-training.csv\")"
      ],
      "execution_count": null,
      "outputs": []
    },
    {
      "cell_type": "markdown",
      "source": [
        "Here is a table listing all the methods to read data using pandas, formatted for easy viewing:\n",
        "\n",
        "| **Method**           | **Function**                  | **Description**                                    | **Common Parameters**                            |\n",
        "|-----------------------|-------------------------------|---------------------------------------------------|--------------------------------------------------|\n",
        "| **CSV**              | `pd.read_csv()`              | Reads a CSV file.                                | `delimiter`, `header`, `usecols`                |\n",
        "| **Excel**            | `pd.read_excel()`            | Reads an Excel file.                             | `sheet_name`, `usecols`, `header`               |\n",
        "| **JSON**             | `pd.read_json()`             | Reads a JSON file.                               | `orient`                                        |\n",
        "| **SQL**              | `pd.read_sql()`              | Reads from a SQL database.                       | `sql`, `con`                                    |\n",
        "| **HTML**             | `pd.read_html()`             | Reads tables from an HTML page.                  | `match`, `flavor`                               |\n",
        "| **Text/Flat Files**  | `pd.read_csv()`              | Reads delimited text files (e.g., TSV).          | `delimiter`, `header`, `usecols`                |\n",
        "| **Parquet**          | `pd.read_parquet()`          | Reads a Parquet file.                            | `columns`, `engine`                             |\n",
        "| **Pickle**           | `pd.read_pickle()`           | Reads a serialized Python object.                | N/A                                             |\n",
        "| **HDF5**             | `pd.read_hdf()`              | Reads data from an HDF5 file.                    | `key`, `mode`                                   |\n",
        "| **Clipboard**        | `pd.read_clipboard()`        | Reads data from the clipboard.                   | `sep`                                           |\n",
        "| **Feather**          | `pd.read_feather()`          | Reads a Feather file.                            | N/A                                             |\n",
        "| **Stata**            | `pd.read_stata()`            | Reads a Stata file (`.dta`).                     | `convert_categoricals`, `columns`               |\n",
        "| **SPSS**             | `pd.read_spss()`            | Reads an SPSS file (`.sav`).                     | `usecols`, `convert_categoricals`               |\n",
        "| **ORC**              | `pd.read_orc()`              | Reads an ORC file.                               | N/A                                             |\n",
        "| **XML**              | `pd.read_xml()`              | Reads an XML file.                               | `xpath`, `parser`                               |\n",
        "| **Avro**             | Third-party libraries        | Avro files require libraries like `fastavro`.    | N/A                                             |\n"
      ],
      "metadata": {
        "id": "wKZr3P00tpxF"
      }
    },
    {
      "cell_type": "code",
      "metadata": {
        "id": "JoB6jGmLtvSt"
      },
      "source": [
        "loans.info()"
      ],
      "execution_count": null,
      "outputs": []
    },
    {
      "cell_type": "code",
      "metadata": {
        "id": "cxPOj-WGG_FW"
      },
      "source": [
        "#What are number of rows and columns\n",
        "loans.shape"
      ],
      "execution_count": null,
      "outputs": []
    },
    {
      "cell_type": "code",
      "source": [
        "#Are there any suspicious variables?\n",
        "loans.columns"
      ],
      "metadata": {
        "id": "JTN8AQbmpY4j"
      },
      "execution_count": null,
      "outputs": []
    },
    {
      "cell_type": "code",
      "metadata": {
        "id": "Aoq0EXaDHZht"
      },
      "source": [
        "#Display the variable formats\n",
        "loans.dtypes"
      ],
      "execution_count": null,
      "outputs": []
    },
    {
      "cell_type": "code",
      "metadata": {
        "id": "kocke9VpHaqS"
      },
      "source": [
        "#Print the first 10 observations\n",
        "loans.head(10)"
      ],
      "execution_count": null,
      "outputs": []
    },
    {
      "cell_type": "code",
      "source": [
        "# Calculating null values\n",
        "loans.isnull().sum()"
      ],
      "metadata": {
        "id": "Ay4HAn34r02e"
      },
      "execution_count": null,
      "outputs": []
    },
    {
      "cell_type": "code",
      "source": [
        "loans.isnull().sum()"
      ],
      "metadata": {
        "id": "4AkefUr3r9dN"
      },
      "execution_count": null,
      "outputs": []
    },
    {
      "cell_type": "code",
      "source": [
        "loans.isnull().sum().values.sum()# Total number of null entries in the entire data frame"
      ],
      "metadata": {
        "id": "UlIFSUk77pBV"
      },
      "execution_count": null,
      "outputs": []
    },
    {
      "cell_type": "code",
      "source": [
        "loans.describe()"
      ],
      "metadata": {
        "id": "FSY0aHZkpi5j"
      },
      "execution_count": null,
      "outputs": []
    },
    {
      "cell_type": "code",
      "source": [
        "loans.describe().transpose()"
      ],
      "metadata": {
        "id": "oRrQFAE1f4Wy"
      },
      "execution_count": null,
      "outputs": []
    },
    {
      "cell_type": "code",
      "source": [
        "loans.describe(percentiles=[0.25,0.5,0.75,0.90,0.95,0.99]).transpose()"
      ],
      "metadata": {
        "id": "LGG98SMSprt-"
      },
      "execution_count": null,
      "outputs": []
    },
    {
      "cell_type": "code",
      "source": [
        "loans.mean(numeric_only=True) # calculate mean of numeric columns"
      ],
      "metadata": {
        "id": "cxaGoCbvp1xX"
      },
      "execution_count": null,
      "outputs": []
    },
    {
      "cell_type": "code",
      "source": [
        "loans.median(numeric_only=True)"
      ],
      "metadata": {
        "id": "r74EgUxlp9mZ"
      },
      "execution_count": null,
      "outputs": []
    },
    {
      "cell_type": "code",
      "source": [
        "for col in loans.columns:\n",
        "  print(\"---------------------------\")\n",
        "  print(\"The difference between mean and median for the variable\",col,\"is\",loans[col].mean() - loans[col].median())\n",
        "  print(\"---------------------------\")"
      ],
      "metadata": {
        "id": "_IL3oS-BgX7m"
      },
      "execution_count": null,
      "outputs": []
    },
    {
      "cell_type": "code",
      "source": [
        "print(\"Number of features:=\", len(loans.columns))#loans.shape[0]\n",
        "print(\"Number of observations:=\", len(loans))#loans.shape[1]"
      ],
      "metadata": {
        "id": "6gQ00u9JrXsD"
      },
      "execution_count": null,
      "outputs": []
    },
    {
      "cell_type": "code",
      "source": [
        "loans['NumberOfDependents'].nunique()"
      ],
      "metadata": {
        "id": "EtrNCzwoDchf"
      },
      "execution_count": null,
      "outputs": []
    },
    {
      "cell_type": "code",
      "source": [
        "for col in loans.columns:\n",
        "  print(\"---------------------------\")\n",
        "  print(\"The unique values in\",col,\"is\",loans[col].nunique())\n",
        "  print(\"---------------------------\")"
      ],
      "metadata": {
        "id": "znfw-WVsxnDY"
      },
      "execution_count": null,
      "outputs": []
    },
    {
      "cell_type": "markdown",
      "source": [
        "**Variable Data Types**"
      ],
      "metadata": {
        "id": "slpBTwxUezN8"
      }
    },
    {
      "cell_type": "code",
      "metadata": {
        "id": "S7SiwZFRHfNC"
      },
      "source": [
        "#What are the categorical and discrete variables? What are the continues variables.\n",
        "loans.dtypes"
      ],
      "execution_count": null,
      "outputs": []
    },
    {
      "cell_type": "markdown",
      "source": [
        "**Discrete :**\n",
        "\n",
        "  * SeriousDlqin2yrs\n",
        "  * age\n",
        "  * NumberOfTime30-59DaysPastDueNotWorse\n",
        "  * NumberOfOpenCreditLinesAndLoans\n",
        "  * NumberOfTimes90DaysLate\n",
        "  * NumberRealEstateLoansOrLines\n",
        "  * NumberOfTime60-89DaysPastDueNotWorse\n",
        "  * NumberOfDependents\n",
        "\n",
        "**Continuous :**\n",
        "\n",
        "  * monthly_utilization\n",
        "  * DebtRatio\n",
        "  * MonthlyIncome\n",
        "\n",
        "**Nominal/Categorical :**\n",
        "\n",
        "  * No Nominal Variables\n",
        "\n",
        "  * a nominal variable is a type of data used to label or categorize things without assigning any numerical value or order\n",
        "  "
      ],
      "metadata": {
        "id": "7mtbLFUuLyiO"
      }
    },
    {
      "cell_type": "markdown",
      "metadata": {
        "id": "ATtndMPSHg9r"
      },
      "source": [
        "# Discrete variables exploration\n",
        "\n",
        "  * **Tip :** Note down the observations for each variable"
      ]
    },
    {
      "cell_type": "markdown",
      "source": [
        "## Number of dependents is in Float ?"
      ],
      "metadata": {
        "id": "u6oalPk8IsLE"
      }
    },
    {
      "cell_type": "code",
      "source": [
        "loans['NumberOfDependents'].value_counts()"
      ],
      "metadata": {
        "id": "K8M_K4n2IKcV"
      },
      "execution_count": null,
      "outputs": []
    },
    {
      "cell_type": "markdown",
      "source": [
        "*Convert it to integer"
      ],
      "metadata": {
        "id": "fh4gw8YC-KLq"
      }
    },
    {
      "cell_type": "code",
      "source": [
        "loans['NumberOfDependents']=loans['NumberOfDependents'].astype('Int64')"
      ],
      "metadata": {
        "id": "L1AW0g03Eg4f"
      },
      "execution_count": null,
      "outputs": []
    },
    {
      "cell_type": "code",
      "source": [
        "loans['NumberOfDependents'].value_counts()"
      ],
      "metadata": {
        "id": "np6dCJkYIaO1"
      },
      "execution_count": null,
      "outputs": []
    },
    {
      "cell_type": "markdown",
      "source": [
        "## Check for Null Values"
      ],
      "metadata": {
        "id": "p5gNwYKQJ-4B"
      }
    },
    {
      "cell_type": "code",
      "source": [
        "#Are there any   variables with missing values?\n",
        "loans.isnull().sum()"
      ],
      "metadata": {
        "id": "3uBeh3UhKBcX"
      },
      "execution_count": null,
      "outputs": []
    },
    {
      "cell_type": "markdown",
      "source": [
        "**Steps for exploration of discrete variables:**\n",
        "\n",
        "\n",
        "\n",
        "1.   Use countplot, barplot etc.\n",
        "2.   Use percentiles.\n",
        "3.   Check for Null values.\n",
        "4.   Decide upon outliers.\n",
        "\n"
      ],
      "metadata": {
        "id": "sq8vykh98qSA"
      }
    },
    {
      "cell_type": "markdown",
      "source": [
        "## Serious Delinquency"
      ],
      "metadata": {
        "id": "TeK_jQh0I6_b"
      }
    },
    {
      "cell_type": "code",
      "metadata": {
        "id": "ASIxF0pWHlAX"
      },
      "source": [
        "# print(loans['SeriousDlqin2yrs'].value_counts())\n",
        "loans['SeriousDlqin2yrs'].value_counts(sort=False)"
      ],
      "execution_count": null,
      "outputs": []
    },
    {
      "cell_type": "code",
      "source": [
        "sns.countplot(x  = \"SeriousDlqin2yrs\" , data = loans)"
      ],
      "metadata": {
        "id": "M1mDSQEwzSOB"
      },
      "execution_count": null,
      "outputs": []
    },
    {
      "cell_type": "markdown",
      "source": [
        "* No Outliers in this variable and Class imbalance exists"
      ],
      "metadata": {
        "id": "ztnJeXMSNMKw"
      }
    },
    {
      "cell_type": "code",
      "source": [
        "plt.figure(figsize=(10,5))\n",
        "sns.countplot(x='NumberOfDependents', hue = \"SeriousDlqin2yrs\" , data = loans) # class imbalance\n",
        "plt.show()"
      ],
      "metadata": {
        "id": "uRyUi1TMgEWX"
      },
      "execution_count": null,
      "outputs": []
    },
    {
      "cell_type": "markdown",
      "source": [
        "* comment on outlier"
      ],
      "metadata": {
        "id": "YhVe-lmwYdKI"
      }
    },
    {
      "cell_type": "code",
      "source": [
        "sns.countplot(x = \"SeriousDlqin2yrs\" , hue = 'age', data = loans)"
      ],
      "metadata": {
        "id": "Eqo53wHngi2q"
      },
      "execution_count": null,
      "outputs": []
    },
    {
      "cell_type": "markdown",
      "source": [
        "* Tip: create a rough colab worksheet copy this cell as well as other needed info for reference."
      ],
      "metadata": {
        "id": "_2jTMZHX_MIH"
      }
    },
    {
      "cell_type": "code",
      "source": [
        "loans.dtypes"
      ],
      "metadata": {
        "id": "QoDmTWenjYaz"
      },
      "execution_count": null,
      "outputs": []
    },
    {
      "cell_type": "code",
      "source": [
        "sns.countplot(hue = \"SeriousDlqin2yrs\" , x = 'age', data = loans)"
      ],
      "metadata": {
        "id": "_BEzBnX9hg4M"
      },
      "execution_count": null,
      "outputs": []
    },
    {
      "cell_type": "code",
      "source": [
        "plt.figure(figsize=(15,6))\n",
        "sns.countplot(hue = \"SeriousDlqin2yrs\" , x = 'NumberOfTime30-59DaysPastDueNotWorse', data = loans)\n",
        "plt.show()"
      ],
      "metadata": {
        "id": "maT6EcT5iZ1v"
      },
      "execution_count": null,
      "outputs": []
    },
    {
      "cell_type": "code",
      "source": [
        "plt.figure(figsize=(15,6))\n",
        "sns.countplot(hue = \"SeriousDlqin2yrs\" , x = 'NumberOfTime60-89DaysPastDueNotWorse', data = loans)\n",
        "plt.show()"
      ],
      "metadata": {
        "id": "rgT7yXJ9zrj_"
      },
      "execution_count": null,
      "outputs": []
    },
    {
      "cell_type": "code",
      "source": [
        "plt.figure(figsize=(15,6))\n",
        "sns.countplot(hue = \"SeriousDlqin2yrs\" , x = 'NumberOfTimes90DaysLate', data = loans)\n",
        "plt.show()"
      ],
      "metadata": {
        "id": "Ras200U5zxEd"
      },
      "execution_count": null,
      "outputs": []
    },
    {
      "cell_type": "code",
      "source": [
        "sns.scatterplot(data=loans, x=\"NumberRealEstateLoansOrLines\", y=\"NumberOfDependents\", hue=\"SeriousDlqin2yrs\")"
      ],
      "metadata": {
        "id": "XBydlg1xi2Tu"
      },
      "execution_count": null,
      "outputs": []
    },
    {
      "cell_type": "code",
      "source": [
        "plt.figure(figsize=(15,8))\n",
        "sns.scatterplot(data=loans, x=\"NumberRealEstateLoansOrLines\", y=\"NumberOfTime30-59DaysPastDueNotWorse\", hue=\"SeriousDlqin2yrs\")\n",
        "plt.show()"
      ],
      "metadata": {
        "id": "H-6BSwPY_hBS"
      },
      "execution_count": null,
      "outputs": []
    },
    {
      "cell_type": "code",
      "source": [
        "plt.figure(figsize=(20,5))\n",
        "sns.scatterplot(data=loans, y=\"NumberRealEstateLoansOrLines\", x=\"MonthlyIncome\", hue=\"SeriousDlqin2yrs\")\n",
        "plt.show()"
      ],
      "metadata": {
        "id": "kictprcv0mEC"
      },
      "execution_count": null,
      "outputs": []
    },
    {
      "cell_type": "code",
      "source": [
        "plt.figure(figsize=(15,10))\n",
        "sns.scatterplot(data=loans, x=\"NumberRealEstateLoansOrLines\", y=\"NumberOfTime60-89DaysPastDueNotWorse\", hue=\"SeriousDlqin2yrs\")\n",
        "plt.show()"
      ],
      "metadata": {
        "id": "m0HBu_Rr2EIo"
      },
      "execution_count": null,
      "outputs": []
    },
    {
      "cell_type": "code",
      "source": [
        "plt.figure(figsize=(15,10))\n",
        "sns.scatterplot(data=loans, x=\"NumberRealEstateLoansOrLines\", y=\"NumberOfTimes90DaysLate\", hue=\"SeriousDlqin2yrs\")\n",
        "plt.show()"
      ],
      "metadata": {
        "id": "5QnhyfJw2OxD"
      },
      "execution_count": null,
      "outputs": []
    },
    {
      "cell_type": "code",
      "source": [
        "plt.figure(figsize=(15,10))\n",
        "sns.scatterplot(data=loans, y=\"NumberRealEstateLoansOrLines\", x=\"NumberOfOpenCreditLinesAndLoans\", hue=\"SeriousDlqin2yrs\")\n",
        "plt.show()"
      ],
      "metadata": {
        "id": "5ZXbOPTf2aMV"
      },
      "execution_count": null,
      "outputs": []
    },
    {
      "cell_type": "code",
      "source": [
        "plt.figure(figsize=(15,10))\n",
        "sns.scatterplot(data=loans, x=\"NumberOfTime30-59DaysPastDueNotWorse\", y=\"NumberOfOpenCreditLinesAndLoans\", hue=\"SeriousDlqin2yrs\") # redraw graph after cleaning outliers\n",
        "plt.show()"
      ],
      "metadata": {
        "id": "XDP4OXwY22Bp"
      },
      "execution_count": null,
      "outputs": []
    },
    {
      "cell_type": "code",
      "source": [
        "plt.figure(figsize=(15,10))\n",
        "sns.scatterplot(data=loans, y=\"NumberOfTime30-59DaysPastDueNotWorse\", x=\"NumberOfOpenCreditLinesAndLoans\", hue=\"SeriousDlqin2yrs\") # redraw graph after cleaning outliers\n",
        "plt.show()"
      ],
      "metadata": {
        "id": "nbHCspVZ8CYe"
      },
      "execution_count": null,
      "outputs": []
    },
    {
      "cell_type": "code",
      "source": [
        "plt.figure(figsize=(15,10))\n",
        "sns.scatterplot(data=loans, y=\"NumberOfTime60-89DaysPastDueNotWorse\", x=\"NumberOfOpenCreditLinesAndLoans\", hue=\"SeriousDlqin2yrs\") # redraw graph after cleaning outliers\n",
        "plt.show()"
      ],
      "metadata": {
        "id": "81Ylwmwt3vNr"
      },
      "execution_count": null,
      "outputs": []
    },
    {
      "cell_type": "code",
      "source": [
        "\n",
        "plt.figure(figsize=(15,10))\n",
        "sns.scatterplot(data=loans, y=\"NumberOfTimes90DaysLate\", x=\"NumberOfOpenCreditLinesAndLoans\", hue=\"SeriousDlqin2yrs\") # redraw graph after cleaning outliers\n",
        "plt.show()"
      ],
      "metadata": {
        "id": "zdwzwjtf34mJ"
      },
      "execution_count": null,
      "outputs": []
    },
    {
      "cell_type": "code",
      "source": [
        "sns.scatterplot(data=loans, x=\"NumberOfDependents\", y=\"NumberOfOpenCreditLinesAndLoans\", hue=\"SeriousDlqin2yrs\") # redraw graph after cleaning outliers"
      ],
      "metadata": {
        "id": "X5B28Uus4XAO"
      },
      "execution_count": null,
      "outputs": []
    },
    {
      "cell_type": "code",
      "source": [
        "sns.relplot(\n",
        "    data=loans, x=\"NumberOfDependents\", y=\"NumberOfOpenCreditLinesAndLoans\", col=\"SeriousDlqin2yrs\",\n",
        "    kind=\"scatter\"\n",
        ")"
      ],
      "metadata": {
        "id": "PFjbkuYCjtQZ"
      },
      "execution_count": null,
      "outputs": []
    },
    {
      "cell_type": "code",
      "source": [
        "sns.relplot(\n",
        "    data=loans, x=\"age\", y=\"NumberRealEstateLoansOrLines\", col=\"SeriousDlqin2yrs\",# hue = \"age\",\n",
        "    kind=\"scatter\"\n",
        ")"
      ],
      "metadata": {
        "id": "Ug3-WId6lR0u"
      },
      "execution_count": null,
      "outputs": []
    },
    {
      "cell_type": "code",
      "source": [
        "plt.figure(figsize=(20,10))# this doesnt work\n",
        "sns.relplot(data=loans, x=\"age\", y=\"NumberRealEstateLoansOrLines\", hue=\"SeriousDlqin2yrs\")\n",
        "plt.show()"
      ],
      "metadata": {
        "id": "Z5Y4mifi5kQp"
      },
      "execution_count": null,
      "outputs": []
    },
    {
      "cell_type": "code",
      "source": [
        "plt.figure(figsize=(10,8))# this doesnt work\n",
        "sns.scatterplot(data=loans, x=\"age\", y=\"NumberRealEstateLoansOrLines\", hue=\"SeriousDlqin2yrs\")\n",
        "plt.show()"
      ],
      "metadata": {
        "id": "8RRA1gBLBGJt"
      },
      "execution_count": null,
      "outputs": []
    },
    {
      "cell_type": "markdown",
      "source": [
        "## Age"
      ],
      "metadata": {
        "id": "mioNB-5HJfBi"
      }
    },
    {
      "cell_type": "code",
      "metadata": {
        "id": "JRAEoJwoHm7y"
      },
      "source": [
        "print(loans['age'].nunique())"
      ],
      "execution_count": null,
      "outputs": []
    },
    {
      "cell_type": "code",
      "source": [
        "plt.figure(figsize=(20,10))# this doesnt work\n",
        "sns.countplot(loans, x=\"age\")#,  hue=\"SeriousDlqin2yrs\")#y=\"body_mass_g\",\n",
        "plt.show()"
      ],
      "metadata": {
        "id": "5pyhfAvw6WwA"
      },
      "execution_count": null,
      "outputs": []
    },
    {
      "cell_type": "code",
      "source": [
        "\n",
        "plt.figure(figsize=(20,5))# this doesnt work\n",
        "sns.countplot(loans, x=\"age\",  hue=\"SeriousDlqin2yrs\")#,multiple=\"stack\")#y=\"body_mass_g\",\n",
        "plt.show()\n"
      ],
      "metadata": {
        "id": "WMSiLpiBZqVj"
      },
      "execution_count": null,
      "outputs": []
    },
    {
      "cell_type": "code",
      "source": [
        "plt.figure(figsize=(20,5))\n",
        "sns.histplot(loans, x=\"age\",  hue=\"SeriousDlqin2yrs\",multiple=\"stack\")#y=\"body_mass_g\",\n",
        "plt.show()\n"
      ],
      "metadata": {
        "id": "CgcVBDpW68OY"
      },
      "execution_count": null,
      "outputs": []
    },
    {
      "cell_type": "markdown",
      "source": [
        "no delinquents after 90."
      ],
      "metadata": {
        "id": "mRF9xyD4NIhF"
      }
    },
    {
      "cell_type": "code",
      "source": [
        "loans.loc[loans['age']<20].value_counts().sum()"
      ],
      "metadata": {
        "id": "X5XIA-0xJQRt"
      },
      "execution_count": null,
      "outputs": []
    },
    {
      "cell_type": "code",
      "source": [
        "loans['NumberOfTime30-59DaysPastDueNotWorse'].value_counts()"
      ],
      "metadata": {
        "id": "LK9Nulaci6vj"
      },
      "execution_count": null,
      "outputs": []
    },
    {
      "cell_type": "markdown",
      "source": [
        "## 1 month delay"
      ],
      "metadata": {
        "id": "Y_xhm9WxNwqP"
      }
    },
    {
      "cell_type": "code",
      "source": [
        "print(loans['NumberOfTime30-59DaysPastDueNotWorse'].nunique())"
      ],
      "metadata": {
        "id": "r8z17Ayt9mvF"
      },
      "execution_count": null,
      "outputs": []
    },
    {
      "cell_type": "code",
      "source": [
        "plt.figure(figsize=(10,8))# this doesnt work\n",
        "sns.countplot(loans, x=\"NumberOfTime30-59DaysPastDueNotWorse\",  hue=\"SeriousDlqin2yrs\")#,multiple=\"stack\")#y=\"body_mass_g\",\n",
        "plt.show()"
      ],
      "metadata": {
        "id": "6NLqxuX6NSPS"
      },
      "execution_count": null,
      "outputs": []
    },
    {
      "cell_type": "code",
      "source": [
        "loans['NumberOfTime30-59DaysPastDueNotWorse'].value_counts()"
      ],
      "metadata": {
        "id": "QjFkNeHaRD4y"
      },
      "execution_count": null,
      "outputs": []
    },
    {
      "cell_type": "markdown",
      "source": [
        "## Number of open credit loans"
      ],
      "metadata": {
        "id": "VI1d_z7sQ3-B"
      }
    },
    {
      "cell_type": "code",
      "source": [
        "plt.figure(figsize=(15,10))# this doesnt work\n",
        "sns.countplot(loans, x=\"NumberOfOpenCreditLinesAndLoans\",  hue=\"SeriousDlqin2yrs\")#,multiple=\"stack\")#y=\"body_mass_g\",\n",
        "plt.show()"
      ],
      "metadata": {
        "id": "gOz1HNYXN_Qg"
      },
      "execution_count": null,
      "outputs": []
    },
    {
      "cell_type": "code",
      "metadata": {
        "id": "B48hDm6FHnGr"
      },
      "source": [
        "loans['NumberOfOpenCreditLinesAndLoans'].value_counts(sort=True)"
      ],
      "execution_count": null,
      "outputs": []
    },
    {
      "cell_type": "markdown",
      "source": [
        "## 3 month late"
      ],
      "metadata": {
        "id": "yGVdgto0Q9nz"
      }
    },
    {
      "cell_type": "code",
      "source": [
        "plt.figure(figsize=(15,10))# this doesnt work\n",
        "sns.countplot(loans, x=\"NumberOfTimes90DaysLate\",  hue=\"SeriousDlqin2yrs\")#,multiple=\"stack\")#y=\"body_mass_g\",\n",
        "plt.show()"
      ],
      "metadata": {
        "id": "27aIIq3SOHZH"
      },
      "execution_count": null,
      "outputs": []
    },
    {
      "cell_type": "code",
      "metadata": {
        "id": "92spjYIMHqZi"
      },
      "source": [
        "loans['NumberOfTimes90DaysLate'].value_counts()"
      ],
      "execution_count": null,
      "outputs": []
    },
    {
      "cell_type": "markdown",
      "source": [
        "## number of real estate loans"
      ],
      "metadata": {
        "id": "WxbKFiRIRAvj"
      }
    },
    {
      "cell_type": "code",
      "source": [
        "plt.figure(figsize=(15,8))# this doesnt work\n",
        "sns.countplot(loans, x='NumberRealEstateLoansOrLines',  hue=\"SeriousDlqin2yrs\")#,multiple=\"stack\")#y=\"body_mass_g\",\n",
        "plt.show()"
      ],
      "metadata": {
        "id": "dedFWj5MOavb"
      },
      "execution_count": null,
      "outputs": []
    },
    {
      "cell_type": "code",
      "metadata": {
        "id": "4LP5V2szHqgt"
      },
      "source": [
        "loans['NumberRealEstateLoansOrLines'].value_counts()"
      ],
      "execution_count": null,
      "outputs": []
    },
    {
      "cell_type": "markdown",
      "source": [
        "## 2 month delay"
      ],
      "metadata": {
        "id": "LHdOc8D_RDwt"
      }
    },
    {
      "cell_type": "code",
      "source": [
        "plt.figure(figsize=(15,10))# this doesnt work\n",
        "sns.countplot(loans, x='NumberOfTime60-89DaysPastDueNotWorse',  hue=\"SeriousDlqin2yrs\")#,multiple=\"stack\")#y=\"body_mass_g\",\n",
        "plt.show()"
      ],
      "metadata": {
        "id": "3ZNS3OX3OvG7"
      },
      "execution_count": null,
      "outputs": []
    },
    {
      "cell_type": "code",
      "metadata": {
        "id": "yChuq-YtHqlD"
      },
      "source": [
        "loans['NumberOfTime60-89DaysPastDueNotWorse'].value_counts()"
      ],
      "execution_count": null,
      "outputs": []
    },
    {
      "cell_type": "markdown",
      "source": [
        "## dependents."
      ],
      "metadata": {
        "id": "LCZEs79wRHG2"
      }
    },
    {
      "cell_type": "code",
      "source": [
        "loans['NumberOfDependents'].isnull().any()"
      ],
      "metadata": {
        "id": "N6NzvaRdt09R"
      },
      "execution_count": null,
      "outputs": []
    },
    {
      "cell_type": "code",
      "source": [
        "plt.figure(figsize=(15,10))# this doesnt work\n",
        "sns.countplot(loans, x='NumberOfDependents',  hue=\"SeriousDlqin2yrs\")#,multiple=\"stack\")#y=\"body_mass_g\",\n",
        "plt.show()"
      ],
      "metadata": {
        "id": "ufnx0UilO_Ek"
      },
      "execution_count": null,
      "outputs": []
    },
    {
      "cell_type": "code",
      "metadata": {
        "id": "0U4zdFxVHqqg"
      },
      "source": [
        "loans['NumberOfDependents'].value_counts()"
      ],
      "execution_count": null,
      "outputs": []
    },
    {
      "cell_type": "markdown",
      "metadata": {
        "id": "kySyhDctI99D"
      },
      "source": [
        "# Continuous variables exploration"
      ]
    },
    {
      "cell_type": "markdown",
      "source": [
        "**Steps for exploration of Count variables:**\n",
        "\n",
        "\n",
        "\n",
        "1.   Use boxplot, histplot etc.\n",
        "2.   Use percentiles.\n",
        "3.   Check for Null values.\n",
        "4.   Decide upon outliers.\n",
        "\n"
      ],
      "metadata": {
        "id": "jJhY6GkK9XsA"
      }
    },
    {
      "cell_type": "markdown",
      "metadata": {
        "id": "eJ-UyFTdJLml"
      },
      "source": [
        "### Credit utilization"
      ]
    },
    {
      "cell_type": "code",
      "source": [
        "loans.info()"
      ],
      "metadata": {
        "id": "16Mye2dbffkT"
      },
      "execution_count": null,
      "outputs": []
    },
    {
      "cell_type": "code",
      "source": [
        "# cols=loans.columns\n",
        "# for var in cols:\n",
        "#   # print(loans[var].value_counts())\n",
        "#   # print(pd.unique(loans[var]).sum())\n",
        "#   print(loans[var].nunique())"
      ],
      "metadata": {
        "id": "yQUiQEWZf0Th"
      },
      "execution_count": null,
      "outputs": []
    },
    {
      "cell_type": "code",
      "source": [
        "plt.boxplot(loans[\"monthly_utilization\"])"
      ],
      "metadata": {
        "id": "fecfoOK4xpPc"
      },
      "execution_count": null,
      "outputs": []
    },
    {
      "cell_type": "code",
      "metadata": {
        "id": "Al7hSnjAJJ1K"
      },
      "source": [
        "util_percentiles=loans['monthly_utilization'].quantile([0, 0.1, 0.2,0.3,0.4, 0.5, 0.75, 0.80, 0.9,0.91,0.95,0.96,0.97,0.975,0.98,0.99,1])\n",
        "round(util_percentiles,2)"
      ],
      "execution_count": null,
      "outputs": []
    },
    {
      "cell_type": "code",
      "source": [
        "loans['monthly_utilization'].describe()"
      ],
      "metadata": {
        "id": "8lSRfynDooUJ"
      },
      "execution_count": null,
      "outputs": []
    },
    {
      "cell_type": "code",
      "source": [
        "sns.histplot(loans[\"monthly_utilization\"], bins=30, kde=True, color='skyblue')#, ax=axes[1])"
      ],
      "metadata": {
        "id": "fUQhzOnd-Og8"
      },
      "execution_count": null,
      "outputs": []
    },
    {
      "cell_type": "markdown",
      "source": [
        "* Plot again after cleaning the data"
      ],
      "metadata": {
        "id": "ovwr6BcU-pVH"
      }
    },
    {
      "cell_type": "markdown",
      "source": [
        "### Debt Ratio"
      ],
      "metadata": {
        "id": "NAwVo_XwRhOr"
      }
    },
    {
      "cell_type": "code",
      "source": [
        "plt.boxplot(loans['DebtRatio'])"
      ],
      "metadata": {
        "id": "0bJDT3wWRg2t"
      },
      "execution_count": null,
      "outputs": []
    },
    {
      "cell_type": "code",
      "source": [
        "round(loans['DebtRatio'].quantile([0.05, 0.1, 0.25, 0.5, 0.75, 0.80, 0.9,0.91,0.95,0.96,0.97,0.975,0.98,0.99,1]),2)"
      ],
      "metadata": {
        "id": "_mtpdkYAR0fo"
      },
      "execution_count": null,
      "outputs": []
    },
    {
      "cell_type": "code",
      "source": [
        "sns.histplot(loans[\"DebtRatio\"], bins=30, kde=True, color='skyblue')#, ax=axes[1])"
      ],
      "metadata": {
        "id": "ZmFp754rSkhS"
      },
      "execution_count": null,
      "outputs": []
    },
    {
      "cell_type": "markdown",
      "metadata": {
        "id": "q1U2Cez3JOze"
      },
      "source": [
        "### MonthlyIncome"
      ]
    },
    {
      "cell_type": "code",
      "source": [
        "loans['MonthlyIncome'].isnull().any()"
      ],
      "metadata": {
        "id": "Bt5Z1kXotiV6"
      },
      "execution_count": null,
      "outputs": []
    },
    {
      "cell_type": "code",
      "source": [
        "loans.boxplot(column=\"MonthlyIncome\")"
      ],
      "metadata": {
        "id": "8zlVLY6ruuy-"
      },
      "execution_count": null,
      "outputs": []
    },
    {
      "cell_type": "code",
      "metadata": {
        "id": "Abjkb5OrH3ss"
      },
      "source": [
        "#loans.boxplot(column=\"MonthlyIncome\")\n",
        "non_null_monthly_income=loans[\"MonthlyIncome\"][loans[\"MonthlyIncome\"].isnull()==False]\n",
        "plt.boxplot(non_null_monthly_income)"
      ],
      "execution_count": null,
      "outputs": []
    },
    {
      "cell_type": "code",
      "source": [
        "# round(loans['MonthlyIncome'].describe(),2)"
      ],
      "metadata": {
        "id": "_aMiqAbQknEh"
      },
      "execution_count": null,
      "outputs": []
    },
    {
      "cell_type": "code",
      "source": [
        "sns.histplot(non_null_monthly_income, bins=30, kde=True, color='skyblue')#, ax=axes[1])"
      ],
      "metadata": {
        "id": "Ydm6sxZojKno"
      },
      "execution_count": null,
      "outputs": []
    },
    {
      "cell_type": "code",
      "source": [
        "round(loans['MonthlyIncome'].quantile([0.05, 0.1, 0.25, 0.5, 0.75, 0.80, 0.9,0.91,0.95,0.96,0.97,0.975,0.98,0.99,1]),2)"
      ],
      "metadata": {
        "id": "CnxSljNEgkRv"
      },
      "execution_count": null,
      "outputs": []
    },
    {
      "cell_type": "code",
      "source": [
        "loans.loc[loans['MonthlyIncome']<200].value_counts().sum()\n"
      ],
      "metadata": {
        "id": "Y14XqX4cjLMj"
      },
      "execution_count": null,
      "outputs": []
    },
    {
      "cell_type": "code",
      "source": [
        "loans.loc[loans['MonthlyIncome']<200].value_counts().sum()/len(loans)"
      ],
      "metadata": {
        "id": "nXT0FGfJjO9d"
      },
      "execution_count": null,
      "outputs": []
    },
    {
      "cell_type": "code",
      "metadata": {
        "id": "0eR1mifsH7it"
      },
      "source": [
        "#Find the percentage of missing values\n",
        "print(\"Count of missing values\")\n",
        "print(loans['MonthlyIncome'].isnull().sum())\n",
        "print(\"% of missing values\")\n",
        "print(round(loans['MonthlyIncome'].isnull().sum()/len(loans),2))"
      ],
      "execution_count": null,
      "outputs": []
    },
    {
      "cell_type": "markdown",
      "source": [
        "# [3] Data Cleaning"
      ],
      "metadata": {
        "id": "nNNAiSUXkFrW"
      }
    },
    {
      "cell_type": "markdown",
      "metadata": {
        "id": "SI34aZHyIIZ2"
      },
      "source": [
        "# Data Cleaning: Continuous"
      ]
    },
    {
      "cell_type": "markdown",
      "source": [
        "### Data Cleaning - Credit_utilization"
      ],
      "metadata": {
        "id": "9Mi5BpVz0fhD"
      }
    },
    {
      "cell_type": "code",
      "metadata": {
        "id": "7Qp4yfMqIC0T"
      },
      "source": [
        "util_percentiles=loans['monthly_utilization'].quantile([0.05, 0.1, 0.25, 0.5, 0.75, 0.80, 0.9,0.91,0.95,0.96,0.97,0.975,0.98,0.99,1])\n",
        "# util_percentiles\n",
        "round(util_percentiles,2)\n",
        "# round(loans['monthly_utilization'].quantile([0.05, 0.1, 0.25, 0.5, 0.75, 0.80, 0.9,0.91,0.95,0.96,0.97,0.975,0.98,0.99,1]),2)"
      ],
      "execution_count": null,
      "outputs": []
    },
    {
      "cell_type": "code",
      "source": [
        "median_util=loans['monthly_utilization'].median()\n",
        "median_util"
      ],
      "metadata": {
        "id": "2LSDIVYZSLoi"
      },
      "execution_count": null,
      "outputs": []
    },
    {
      "cell_type": "code",
      "metadata": {
        "id": "y4brogxmIL1d"
      },
      "source": [
        "loans['cred_util_new']=loans['monthly_utilization']\n",
        "loans.loc[loans['monthly_utilization']>1,'cred_util_new']=median_util"
      ],
      "execution_count": null,
      "outputs": []
    },
    {
      "cell_type": "markdown",
      "source": [
        "* Check percentiles again, after imputation"
      ],
      "metadata": {
        "id": "cVlko61HSbY0"
      }
    },
    {
      "cell_type": "code",
      "metadata": {
        "id": "ipafFm7jINkR"
      },
      "source": [
        "# percentile distribution for new variable\n",
        "util_percentiles1=loans['cred_util_new'].quantile([0.05, 0.1, 0.25, 0.5, 0.75, 0.80, 0.9,0.91,0.95,0.96,0.97,0.975,0.98,0.99,1])\n",
        "round(util_percentiles1,2)\n"
      ],
      "execution_count": null,
      "outputs": []
    },
    {
      "cell_type": "code",
      "source": [
        "sns.histplot(loans[\"cred_util_new\"], bins=30, kde=True, color='skyblue')#, ax=axes[1])"
      ],
      "metadata": {
        "id": "tC2cdJp1-9cy"
      },
      "execution_count": null,
      "outputs": []
    },
    {
      "cell_type": "markdown",
      "metadata": {
        "id": "5-XFPxbxIlBM"
      },
      "source": [
        "### Data Cleaning Monthly Income"
      ]
    },
    {
      "cell_type": "code",
      "metadata": {
        "id": "co3bYfWhT55x"
      },
      "source": [
        "#Find the missing value percentage in monthly income\n",
        "#Once identified where missing values exist, the next task usually is to fill them (data imputation). Depending upon the context,\n",
        "#in this case, I am assigning median value to all those positions where missing value is present:\n"
      ],
      "execution_count": null,
      "outputs": []
    },
    {
      "cell_type": "code",
      "source": [
        "round(loans['MonthlyIncome'].quantile([0.05, 0.1, 0.25, 0.5, 0.75, 0.80, 0.9,0.91,0.95,0.96,0.97,0.975,0.98,0.99,1]),2)"
      ],
      "metadata": {
        "id": "mgjs4MxngxPF"
      },
      "execution_count": null,
      "outputs": []
    },
    {
      "cell_type": "code",
      "source": [
        "loans['MonthlyIncome'].isnull().sum()"
      ],
      "metadata": {
        "id": "vYPhGKTTTlzc"
      },
      "execution_count": null,
      "outputs": []
    },
    {
      "cell_type": "code",
      "source": [
        "round(loans['MonthlyIncome'].isnull().sum()/len(loans),2)"
      ],
      "metadata": {
        "id": "hy2wZenYTwBv"
      },
      "execution_count": null,
      "outputs": []
    },
    {
      "cell_type": "markdown",
      "source": [
        "* create a flag variable"
      ],
      "metadata": {
        "id": "ahJ0kQmUUent"
      }
    },
    {
      "cell_type": "code",
      "source": [
        "loans['MonthlyIncome_ind'] = 1\n",
        "loans.loc[loans['MonthlyIncome'].isnull(), 'MonthlyIncome_ind'] = 0\n",
        "loans.loc[loans['MonthlyIncome']>19600, 'MonthlyIncome_ind'] = 0\n",
        "loans['MonthlyIncome_ind'].value_counts()"
      ],
      "metadata": {
        "id": "doPEvEgYUGKc"
      },
      "execution_count": null,
      "outputs": []
    },
    {
      "cell_type": "markdown",
      "source": [
        "* Imputation"
      ],
      "metadata": {
        "id": "15HPpMpWUhhM"
      }
    },
    {
      "cell_type": "code",
      "source": [
        "loans['MonthlyIncome_new'] = loans['MonthlyIncome']\n",
        "loans.loc[loans['MonthlyIncome'].isnull(), 'MonthlyIncome_new'] = loans['MonthlyIncome'].median()\n",
        "loans.loc[loans['MonthlyIncome']>19600, 'MonthlyIncome_new'] = loans['MonthlyIncome'].median()"
      ],
      "metadata": {
        "id": "4SaOQ0DkUkMl"
      },
      "execution_count": null,
      "outputs": []
    },
    {
      "cell_type": "code",
      "metadata": {
        "id": "gfwFxqDEIpoG"
      },
      "source": [
        "loans['MonthlyIncome_new'].describe()"
      ],
      "execution_count": null,
      "outputs": []
    },
    {
      "cell_type": "code",
      "source": [
        "sns.histplot(loans[\"MonthlyIncome_new\"], bins=30, kde=True, color='skyblue')#, ax=axes[1])"
      ],
      "metadata": {
        "id": "6C5c0r7Nf2Uh"
      },
      "execution_count": null,
      "outputs": []
    },
    {
      "cell_type": "markdown",
      "source": [
        "### Data cleaning - Debt Ratio"
      ],
      "metadata": {
        "id": "Un6gDCPvQmpw"
      }
    },
    {
      "cell_type": "markdown",
      "source": [
        "* 24\\% of data is outliers\n",
        "* Create flag variable\n",
        "* Impute with median"
      ],
      "metadata": {
        "id": "1ekUjT9XVWNO"
      }
    },
    {
      "cell_type": "code",
      "source": [
        "# creating flag variables. FIRST CHECK THE DATA FRAME\n",
        "loans.info()"
      ],
      "metadata": {
        "id": "ijg0fTqoS9wj"
      },
      "execution_count": null,
      "outputs": []
    },
    {
      "cell_type": "markdown",
      "source": [
        "* creating a flag variable"
      ],
      "metadata": {
        "id": "eMmlTb1tYILM"
      }
    },
    {
      "cell_type": "code",
      "source": [
        "loans['DebtRatio_ind']=1\n",
        "loans.loc[loans['DebtRatio']>1,'DebtRatio_ind']=0"
      ],
      "metadata": {
        "id": "GguzZmV4XLFI"
      },
      "execution_count": null,
      "outputs": []
    },
    {
      "cell_type": "code",
      "source": [
        "loans.DebtRatio_ind.value_counts()"
      ],
      "metadata": {
        "id": "wNhZp8NbXePF"
      },
      "execution_count": null,
      "outputs": []
    },
    {
      "cell_type": "markdown",
      "source": [
        "* checking if the number of flags for each class mataches with the original data"
      ],
      "metadata": {
        "id": "n1uukwioSE4f"
      }
    },
    {
      "cell_type": "code",
      "source": [
        "len(loans.loc[loans['DebtRatio']<=1])"
      ],
      "metadata": {
        "id": "o7REOy_qXydO"
      },
      "execution_count": null,
      "outputs": []
    },
    {
      "cell_type": "code",
      "source": [
        "len(loans.loc[loans['DebtRatio']>1])"
      ],
      "metadata": {
        "id": "5-V9RdyvXiiF"
      },
      "execution_count": null,
      "outputs": []
    },
    {
      "cell_type": "markdown",
      "source": [
        "* Imputing with median"
      ],
      "metadata": {
        "id": "j94aFqcmYLbc"
      }
    },
    {
      "cell_type": "code",
      "source": [
        "loans['DebtRatio_new']=loans['DebtRatio']\n",
        "loans.loc[loans['DebtRatio']>1,'DebtRatio_new']=loans['DebtRatio'].median()"
      ],
      "metadata": {
        "id": "7lNAmxMoYNZ9"
      },
      "execution_count": null,
      "outputs": []
    },
    {
      "cell_type": "code",
      "source": [
        "loans.DebtRatio_new.describe()"
      ],
      "metadata": {
        "id": "ymBTiXD7YX0J"
      },
      "execution_count": null,
      "outputs": []
    },
    {
      "cell_type": "code",
      "source": [
        "loans.info()"
      ],
      "metadata": {
        "id": "IMFMxXhsYp_P"
      },
      "execution_count": null,
      "outputs": []
    },
    {
      "cell_type": "code",
      "source": [
        "sns.histplot(loans[\"DebtRatio_new\"], bins=30, kde=True, color='skyblue')#, ax=axes[1])"
      ],
      "metadata": {
        "id": "EsR6lrcjLRS_"
      },
      "execution_count": null,
      "outputs": []
    },
    {
      "cell_type": "markdown",
      "source": [
        "# Data cleaning: Discrete"
      ],
      "metadata": {
        "id": "-UPYy9kxYjpd"
      }
    },
    {
      "cell_type": "markdown",
      "source": [
        "### Age"
      ],
      "metadata": {
        "id": "ktlaHsGRY69U"
      }
    },
    {
      "cell_type": "code",
      "source": [
        "len(loans.loc[loans['age']>80])/len(loans)"
      ],
      "metadata": {
        "id": "0bYqKGNcc_6g"
      },
      "execution_count": null,
      "outputs": []
    },
    {
      "cell_type": "code",
      "source": [
        "loans['age_new']=loans['age']\n",
        "loans.loc[loans['age']>80, 'age_new']=loans['age'].median()"
      ],
      "metadata": {
        "id": "dD6skUWeY9aN"
      },
      "execution_count": null,
      "outputs": []
    },
    {
      "cell_type": "code",
      "source": [
        "\n",
        "plt.figure(figsize=(20,10))# this doesnt work\n",
        "sns.countplot(loans, x=\"age_new\",  hue=\"SeriousDlqin2yrs\")#,multiple=\"stack\")#y=\"body_mass_g\",\n",
        "plt.show()\n"
      ],
      "metadata": {
        "id": "6g43V1IPZ7U5"
      },
      "execution_count": null,
      "outputs": []
    },
    {
      "cell_type": "code",
      "source": [
        "loans.age_new.info()"
      ],
      "metadata": {
        "id": "VhSSbmtmZUgv"
      },
      "execution_count": null,
      "outputs": []
    },
    {
      "cell_type": "markdown",
      "source": [
        "### 1 month delay"
      ],
      "metadata": {
        "id": "1IxCfF_zaGix"
      }
    },
    {
      "cell_type": "code",
      "source": [
        "len(loans.loc[loans['NumberOfTime30-59DaysPastDueNotWorse']>13])/len(loans)"
      ],
      "metadata": {
        "id": "YzdCUS5Gef6a"
      },
      "execution_count": null,
      "outputs": []
    },
    {
      "cell_type": "code",
      "metadata": {
        "id": "ZrV7vDSrITYd"
      },
      "source": [
        "freq_table_30dpd=loans['NumberOfTime30-59DaysPastDueNotWorse'].value_counts()\n",
        "freq_table_30dpd"
      ],
      "execution_count": null,
      "outputs": []
    },
    {
      "cell_type": "markdown",
      "source": [
        "* Question : When should cross tab be used ?"
      ],
      "metadata": {
        "id": "B-e_L5m9L8Yx"
      }
    },
    {
      "cell_type": "code",
      "metadata": {
        "id": "LD--xgxKIaAY"
      },
      "source": [
        "#Clean the variable- Look at the cross tab of variable vs target. Impute based on target .\n",
        "#Cross tab with target\n",
        "import pandas as pd\n",
        "cross_tab_30dpd_target=pd.crosstab(loans['NumberOfTime30-59DaysPastDueNotWorse'],loans['SeriousDlqin2yrs'])\n",
        "cross_tab_30dpd_target.transpose()"
      ],
      "execution_count": null,
      "outputs": []
    },
    {
      "cell_type": "markdown",
      "source": [
        "* **cross_tab_30dpd_target:** A pandas DataFrame (likely a cross-tabulation) with categories as rows and columns.\n",
        "\n",
        "* **Purpose:** Normalize each row in the DataFrame to calculate percentages of column values relative to the row total.\n",
        "\n",
        "* **apply(lambda x: x/x.sum(), axis=1):** Applies a function row-wise (axis=1) to divide each value in a row by the row's sum.\n",
        "\n",
        "* **Result:** Converts raw counts in the table to proportions (or percentages).\n",
        "\n",
        "* **round(..., 2):** Rounds the resulting proportions to 2 decimal places for clarity."
      ],
      "metadata": {
        "id": "HD0elEzXr9aa"
      }
    },
    {
      "cell_type": "code",
      "metadata": {
        "id": "kLS2oz3EIdp2"
      },
      "source": [
        "#Cross tab row Percentages\n",
        "cross_tab_30dpd_target_percent=cross_tab_30dpd_target.apply(lambda x: x/x.sum(), axis=1)\n",
        "round(cross_tab_30dpd_target_percent,2).transpose()"
      ],
      "execution_count": null,
      "outputs": []
    },
    {
      "cell_type": "code",
      "metadata": {
        "id": "NpkLjBo_IfOG"
      },
      "source": [
        "\n",
        "#Percentage of 0 and 1 are of 98 is near to percentages of 6.\n",
        "#Replacing error values with 6\n",
        "\n",
        "loans['num_30_59_dpd_new']=loans['NumberOfTime30-59DaysPastDueNotWorse']\n",
        "# loans['num_30_59_dpd_new'][loans['num_30_59_dpd_new']>13]=6\n",
        "loans.loc[loans['num_30_59_dpd_new']>13,'num_30_59_dpd_new']=6\n",
        "loans['num_30_59_dpd_new']\n",
        "\n",
        "loans['num_30_59_dpd_new'].value_counts()"
      ],
      "execution_count": null,
      "outputs": []
    },
    {
      "cell_type": "code",
      "source": [
        "cross_tab_new_target=pd.crosstab(loans['num_30_59_dpd_new'],loans['SeriousDlqin2yrs'])\n",
        "round(cross_tab_new_target.apply(lambda x: x/x.sum(), axis=1),2)\n",
        "# round(cross_tab_30dpd_target_percent,2)"
      ],
      "metadata": {
        "id": "WZ3WiwdEs6Da"
      },
      "execution_count": null,
      "outputs": []
    },
    {
      "cell_type": "code",
      "source": [
        "loans.columns"
      ],
      "metadata": {
        "id": "LNVVvE_91B94"
      },
      "execution_count": null,
      "outputs": []
    },
    {
      "cell_type": "markdown",
      "source": [
        "### NumberOfOpenCreditLinesAndLoans"
      ],
      "metadata": {
        "id": "J8o0VXqF3XfZ"
      }
    },
    {
      "cell_type": "code",
      "source": [
        "len(loans.loc[loans['NumberOfOpenCreditLinesAndLoans']>25])/len(loans)"
      ],
      "metadata": {
        "id": "HSG6C_M2ex_W"
      },
      "execution_count": null,
      "outputs": []
    },
    {
      "cell_type": "code",
      "source": [
        "loans[\"NumberOfOpenCreditLinesAndLoans\"].nunique()"
      ],
      "metadata": {
        "id": "VUQ1K58XAx93"
      },
      "execution_count": null,
      "outputs": []
    },
    {
      "cell_type": "code",
      "source": [
        "loans[\"NumberOfOpenCreditLinesAndLoans\"].value_counts(sort=False)"
      ],
      "metadata": {
        "id": "8JJ3bkbQ0ukx"
      },
      "execution_count": null,
      "outputs": []
    },
    {
      "cell_type": "code",
      "source": [
        "round(len(loans.loc[loans['NumberOfOpenCreditLinesAndLoans']<20])/len(loans),2)"
      ],
      "metadata": {
        "id": "Ph24kkVjcSMk"
      },
      "execution_count": null,
      "outputs": []
    },
    {
      "cell_type": "code",
      "source": [
        "round(len(loans.loc[loans['NumberOfOpenCreditLinesAndLoans']<25])/len(loans),2)"
      ],
      "metadata": {
        "id": "FOQu4UEDhTPG"
      },
      "execution_count": null,
      "outputs": []
    },
    {
      "cell_type": "code",
      "source": [
        "loans[\"NumberOfOpenCreditLinesAndLoans\"].quantile([0, 0.1, 0.2,0.3,0.4, 0.5, 0.75, 0.80, 0.9,0.91,0.95,0.96,0.97,0.975,0.98,0.99,1])"
      ],
      "metadata": {
        "id": "Edkg59Fihqe-"
      },
      "execution_count": null,
      "outputs": []
    },
    {
      "cell_type": "code",
      "source": [
        "loans[\"Open_Credit_lines_new\"]=loans[\"NumberOfOpenCreditLinesAndLoans\"]\n",
        "# loans[\"Open_Credit_lines_new\"][loans[\"Open_Credit_lines_new\"]>20]=loans[\"NumberOfOpenCreditLinesAndLoans\"].median()\n",
        "loans.loc[loans['Open_Credit_lines_new']>10,'Open_Credit_lines_new']=loans['NumberOfOpenCreditLinesAndLoans'].median()\n",
        "loans.info()"
      ],
      "metadata": {
        "id": "UzHYtpaj0uuY"
      },
      "execution_count": null,
      "outputs": []
    },
    {
      "cell_type": "markdown",
      "source": [
        "## NumberOfTimes90DaysLate"
      ],
      "metadata": {
        "id": "sxfH9YCn4wh0"
      }
    },
    {
      "cell_type": "code",
      "source": [
        "len(loans.loc[loans['NumberOfTimes90DaysLate']>12])/len(loans)"
      ],
      "metadata": {
        "id": "TGJnMPGTe_pc"
      },
      "execution_count": null,
      "outputs": []
    },
    {
      "cell_type": "code",
      "source": [
        "cross_tab_90dpd_target=pd.crosstab(loans['NumberOfTimes90DaysLate'],loans['SeriousDlqin2yrs'])\n",
        "cross_tab_90dpd_target"
      ],
      "metadata": {
        "id": "srNv27et4v0v"
      },
      "execution_count": null,
      "outputs": []
    },
    {
      "cell_type": "code",
      "source": [
        "cross_tab_90dpd_target_percent=cross_tab_90dpd_target.astype(float).div(cross_tab_90dpd_target.sum(axis=1), axis=0)\n",
        "round(cross_tab_90dpd_target_percent,2)"
      ],
      "metadata": {
        "id": "-N8-aio_4v3g"
      },
      "execution_count": null,
      "outputs": []
    },
    {
      "cell_type": "markdown",
      "source": [
        "**cross_tab_90dpd_target.astype(float):**\n",
        "\n",
        "Converts all values in the DataFrame to type float. This ensures numerical operations, such as division, are performed without errors (e.g., avoiding integer division).\n",
        "\n",
        "**cross_tab_90dpd_target.sum(axis=1):**\n",
        "\n",
        "Computes the sum of values along each row (row-wise sum).\n",
        "\n",
        "**.div(..., axis=0):**\n",
        "\n",
        "Divides each element of the DataFrame by the corresponding row sum.\n",
        "axis=0 specifies that the division should align along the rows (apply the row-wise sum for each corresponding row)."
      ],
      "metadata": {
        "id": "aVMHjNydw7Dw"
      }
    },
    {
      "cell_type": "code",
      "source": [
        "loans['num_90_dpd_new']=loans['NumberOfTimes90DaysLate']\n",
        "# loans['num_90_dpd_new'][loans['num_90_dpd_new']>12]=3\n",
        "loans.loc[loans['num_90_dpd_new']>12,'num_90_dpd_new']=3\n",
        "loans['num_90_dpd_new']\n",
        "\n",
        "loans['num_90_dpd_new'].value_counts(sort=False)"
      ],
      "metadata": {
        "id": "pvC8nWa44v6W"
      },
      "execution_count": null,
      "outputs": []
    },
    {
      "cell_type": "markdown",
      "source": [
        "## NumberRealEstateLoansOrLines"
      ],
      "metadata": {
        "id": "Yvugh_uUJl8y"
      }
    },
    {
      "cell_type": "code",
      "source": [
        "len(loans.loc[loans['NumberRealEstateLoansOrLines']>4])/len(loans)"
      ],
      "metadata": {
        "id": "bQJUoMHTfkGB"
      },
      "execution_count": null,
      "outputs": []
    },
    {
      "cell_type": "code",
      "source": [
        "loans[\"NumberRealEstateLoansOrLines\"].quantile([0, 0.1, 0.2,0.3,0.4, 0.5, 0.75, 0.80, 0.9,0.91,0.95,0.96,0.97,0.975,0.98,0.99,1])"
      ],
      "metadata": {
        "id": "cg6vVbcg4v9L"
      },
      "execution_count": null,
      "outputs": []
    },
    {
      "cell_type": "code",
      "source": [
        "loans[\"Real_estate_loans_new\"]=loans[\"NumberRealEstateLoansOrLines\"]\n",
        "# loans[\"Real_estate_loans_new\"][loans[\"Real_estate_loans_new\"]>4]=loans[\"NumberRealEstateLoansOrLines\"].median()\n",
        "loans.loc[loans['Real_estate_loans_new']>4,'Real_estate_loans_new']=loans['NumberRealEstateLoansOrLines'].median()"
      ],
      "metadata": {
        "id": "qV6P2Tlw4wAC",
        "collapsed": true
      },
      "execution_count": null,
      "outputs": []
    },
    {
      "cell_type": "markdown",
      "source": [
        "## NumberOfTime60-89DaysPastDueNotWorse"
      ],
      "metadata": {
        "id": "uAhUVOnJJ6ny"
      }
    },
    {
      "cell_type": "code",
      "source": [
        "len(loans.loc[loans['NumberOfTime60-89DaysPastDueNotWorse']>10])/len(loans)"
      ],
      "metadata": {
        "id": "hphPIwGmf1tt"
      },
      "execution_count": null,
      "outputs": []
    },
    {
      "cell_type": "code",
      "source": [
        "loans[\"NumberOfTime60-89DaysPastDueNotWorse\"].quantile([0, 0.1, 0.2,0.3,0.4, 0.5, 0.75, 0.80, 0.9,0.91,0.95,0.96,0.97,0.975,0.98,0.99,1])"
      ],
      "metadata": {
        "id": "EsiLzoL3rQPu"
      },
      "execution_count": null,
      "outputs": []
    },
    {
      "cell_type": "code",
      "source": [
        "loans['num_60_dpd_new']=loans['NumberOfTime60-89DaysPastDueNotWorse']\n",
        "loans.loc[loans['num_60_dpd_new']>10,'num_60_dpd_new']=3\n",
        "loans['num_60_dpd_new']\n",
        "\n",
        "loans['num_60_dpd_new'].value_counts(sort=False)"
      ],
      "metadata": {
        "id": "U2KRggWm4wC-"
      },
      "execution_count": null,
      "outputs": []
    },
    {
      "cell_type": "markdown",
      "source": [
        "## NumberOfDependents"
      ],
      "metadata": {
        "id": "_MXR701IKesN"
      }
    },
    {
      "cell_type": "code",
      "source": [
        "len(loans.loc[loans['NumberOfDependents']>10])/len(loans)"
      ],
      "metadata": {
        "id": "A9E_pcJ1gDId"
      },
      "execution_count": null,
      "outputs": []
    },
    {
      "cell_type": "code",
      "source": [
        "len(loans.loc[loans['NumberOfDependents'].isnull()])/len(loans)"
      ],
      "metadata": {
        "id": "A6wr_cTwgj5n"
      },
      "execution_count": null,
      "outputs": []
    },
    {
      "cell_type": "code",
      "source": [
        "loans['NumberOfDependents'].isnull().sum()/len(loans)"
      ],
      "metadata": {
        "id": "cdAMtE_kgwxG"
      },
      "execution_count": null,
      "outputs": []
    },
    {
      "cell_type": "code",
      "source": [
        "loans[\"NumberOfDependents\"].value_counts()"
      ],
      "metadata": {
        "id": "xFBYG4KC4wF1"
      },
      "execution_count": null,
      "outputs": []
    },
    {
      "cell_type": "code",
      "source": [
        "loans[\"NumberOfDependents\"].isnull().sum()"
      ],
      "metadata": {
        "id": "ze500xgI4wJh"
      },
      "execution_count": null,
      "outputs": []
    },
    {
      "cell_type": "code",
      "source": [
        "loans[\"NumberOfDependents_new\"]=loans[\"NumberOfDependents\"]\n",
        "loans.loc[(loans['NumberOfDependents_new']>10) | (loans['NumberOfDependents_new'].isnull()), 'NumberOfDependents_new'] = loans['NumberOfDependents'].median()"
      ],
      "metadata": {
        "id": "FlLjGThwK-Wz",
        "collapsed": true
      },
      "execution_count": null,
      "outputs": []
    },
    {
      "cell_type": "code",
      "source": [
        "loans[\"NumberOfDependents_new\"].isnull().sum()"
      ],
      "metadata": {
        "id": "AGMr48wbLSbw"
      },
      "execution_count": null,
      "outputs": []
    },
    {
      "cell_type": "code",
      "source": [
        "loans[\"NumberOfDependents_new\"].value_counts()"
      ],
      "metadata": {
        "id": "T9Kbx16mLcn8"
      },
      "execution_count": null,
      "outputs": []
    },
    {
      "cell_type": "markdown",
      "source": [
        "# Exporting the final dataset"
      ],
      "metadata": {
        "id": "o6dQSmxWLhQ9"
      }
    },
    {
      "cell_type": "code",
      "source": [
        "loans.to_csv(\"loans_cleaned.csv\")"
      ],
      "metadata": {
        "id": "u8LhXbN5Lkia"
      },
      "execution_count": null,
      "outputs": []
    },
    {
      "cell_type": "markdown",
      "source": [
        "# Importing Already Cleaned Dataset"
      ],
      "metadata": {
        "id": "2iwIBGZmpjR_"
      }
    },
    {
      "cell_type": "code",
      "source": [
        "loans=pd.read_csv(\"https://raw.githubusercontent.com/venkatareddykonasani/Datasets/master/Credit_Risk_Cleaned/Cleaned_cs_training.csv\")"
      ],
      "metadata": {
        "id": "dF9YbzWKphNv"
      },
      "execution_count": null,
      "outputs": []
    },
    {
      "cell_type": "code",
      "source": [
        "loans.describe()"
      ],
      "metadata": {
        "id": "MdCWXen7sN60"
      },
      "execution_count": null,
      "outputs": []
    },
    {
      "cell_type": "code",
      "source": [
        "loans.columns"
      ],
      "metadata": {
        "id": "DCwZNfqh0Lq3"
      },
      "execution_count": null,
      "outputs": []
    },
    {
      "cell_type": "markdown",
      "source": [
        "# [4] Model Building and Validation"
      ],
      "metadata": {
        "id": "CSCYxMeNkR8A"
      }
    },
    {
      "cell_type": "markdown",
      "source": [
        "# Model - 1: Logistic Regression."
      ],
      "metadata": {
        "id": "iVlynfRroK3y"
      }
    },
    {
      "cell_type": "code",
      "source": [
        "X = loans.drop(['Sr_No', 'SeriousDlqin2yrs'],axis = 1)\n",
        "y = loans['SeriousDlqin2yrs']"
      ],
      "metadata": {
        "id": "A9JQgvTi8be7"
      },
      "execution_count": null,
      "outputs": []
    },
    {
      "cell_type": "code",
      "source": [
        "from sklearn.linear_model import LogisticRegression\n",
        "from sklearn.model_selection import train_test_split\n",
        "logistic = LogisticRegression()\n",
        "logistic.fit(X,y)"
      ],
      "metadata": {
        "id": "UFvwc5m78sQm"
      },
      "execution_count": null,
      "outputs": []
    },
    {
      "cell_type": "code",
      "source": [
        "# Checking the intercept and coefficient values.\n",
        "print(\"Intercept =\" , logistic.intercept_)\n",
        "print(\"coefficients = \\n \" , logistic.coef_)"
      ],
      "metadata": {
        "id": "DGSr125W86FX"
      },
      "execution_count": null,
      "outputs": []
    },
    {
      "cell_type": "code",
      "source": [
        "# calculating the accuracy of the model on train data\n",
        "import numpy as np\n",
        "from sklearn.metrics import confusion_matrix\n",
        "\n",
        "predict = logistic.predict(X)\n",
        "cm = confusion_matrix(y,predict)\n",
        "print(\"COnfusion matrix = \\n\" , cm)\n",
        "\n",
        "total = sum(sum(cm))\n",
        "accuracy = (cm[0,0] + cm[1,1]) / total\n",
        "print(\"Overall accuracy for all the variables = \" , accuracy)"
      ],
      "metadata": {
        "id": "kiDvWKcU9Ewq"
      },
      "execution_count": null,
      "outputs": []
    },
    {
      "cell_type": "markdown",
      "source": [
        "* **Checking the p value of the variables to find the impactful and non impactful variables.**\n",
        "\n",
        "A variable is impactful if the p value is $<$0.05 and non impactful if the p value is $\\ge$ 0.05."
      ],
      "metadata": {
        "id": "dV7dIjmq9Sab"
      }
    },
    {
      "cell_type": "code",
      "source": [
        "# Checking the p value for individual impact of the variables on the targe variable.\n",
        "import statsmodels.api as sm\n",
        "sm = sm.Logit(y,X)\n",
        "sm.fit()\n",
        "print(sm.fit().summary())"
      ],
      "metadata": {
        "id": "3fMHc_3Z9nlh"
      },
      "execution_count": null,
      "outputs": []
    },
    {
      "cell_type": "markdown",
      "source": [
        "## Multicollinearity Checking"
      ],
      "metadata": {
        "id": "H22Lq_ULtaAs"
      }
    },
    {
      "cell_type": "markdown",
      "source": [
        "**VIF**\n",
        "\n",
        "If VIF $>5$ for any two or more variables, then it is a clear case of multicollinearity between those variables."
      ],
      "metadata": {
        "id": "yl2uLqbp-Stv"
      }
    },
    {
      "cell_type": "code",
      "source": [
        "# Defining user defined function for Variation Inflation Factor\n",
        "def vif_cal(input_data,dependent_col):\n",
        "  import statsmodels.formula.api as sm\n",
        "  x_vars=input_data.drop([dependent_col], axis=1)\n",
        "  xvar_names=x_vars.columns\n",
        "  for i in range(0,xvar_names.shape[0]):\n",
        "    y=x_vars[xvar_names[i]]\n",
        "    x=x_vars[xvar_names.drop(xvar_names[i])]\n",
        "    rsq=sm.ols(formula=\"y~x\", data=x_vars).fit().rsquared\n",
        "    vif=round(1/(1-rsq),2)\n",
        "    print (xvar_names[i], \" VIF = \" , vif)"
      ],
      "metadata": {
        "id": "A91Jik309x0A"
      },
      "execution_count": null,
      "outputs": []
    },
    {
      "cell_type": "code",
      "source": [
        "# Calculating VIF\n",
        "vif_cal(loans,'SeriousDlqin2yrs')"
      ],
      "metadata": {
        "id": "uAJTAWgd-nBq"
      },
      "execution_count": null,
      "outputs": []
    },
    {
      "cell_type": "code",
      "source": [],
      "metadata": {
        "id": "YiiqJqxboOLg"
      },
      "execution_count": null,
      "outputs": []
    },
    {
      "cell_type": "markdown",
      "source": [
        "## Building Model without Multicollinearity and with impactful variables"
      ],
      "metadata": {
        "id": "fZ6TYKUPuQPf"
      }
    },
    {
      "cell_type": "code",
      "source": [
        "#Drop DebtRatio_new based on the P-Value\n",
        "\n",
        "X=loans.drop([\"SeriousDlqin2yrs\",\"Sr_No\",\"DebtRatio_new\"],axis=1)\n",
        "y=loans[\"SeriousDlqin2yrs\"]\n",
        "\n",
        "import statsmodels.api as sm\n",
        "model_temp=sm.Logit(y,X)\n",
        "model=model_temp.fit()\n",
        "print(model.summary())\n"
      ],
      "metadata": {
        "id": "CFmcAtIcuP2V"
      },
      "execution_count": null,
      "outputs": []
    },
    {
      "cell_type": "markdown",
      "source": [
        "## Verifying Sensitivity and specificity"
      ],
      "metadata": {
        "id": "euJbbfR8odO2"
      }
    },
    {
      "cell_type": "code",
      "source": [
        "X = loans.drop(['Sr_No', 'SeriousDlqin2yrs',\"DebtRatio_new\"],axis = 1)\n",
        "y = loans['SeriousDlqin2yrs']"
      ],
      "metadata": {
        "id": "yC3VMkHKpGFb"
      },
      "execution_count": null,
      "outputs": []
    },
    {
      "cell_type": "code",
      "source": [
        "logistic = LogisticRegression()\n",
        "logistic.fit(X,y)"
      ],
      "metadata": {
        "id": "jgha6icMnpDv"
      },
      "execution_count": null,
      "outputs": []
    },
    {
      "cell_type": "markdown",
      "source": [
        "* Prediction"
      ],
      "metadata": {
        "id": "ofLy7l14ojsx"
      }
    },
    {
      "cell_type": "code",
      "source": [
        "# Predicting the if a person takes personal loan or not using logistic fit.\n",
        "prediction_probability = logistic.predict_proba(X)\n",
        "prediction_probability[: , 1]\n",
        "threshold = 0.5\n",
        "predict = [0 if x < threshold else 1 for x in list(prediction_probability[: , 1])]"
      ],
      "metadata": {
        "id": "DKSa6ejyHLB5"
      },
      "execution_count": null,
      "outputs": []
    },
    {
      "cell_type": "markdown",
      "source": [
        "* Calculating the accuracy, sensitivity, specificity"
      ],
      "metadata": {
        "id": "6ytIpFcRG5Vn"
      }
    },
    {
      "cell_type": "code",
      "source": [
        "cm = confusion_matrix(y,predict)\n",
        "print(\"Confusion matrix = \\n\" , cm)\n",
        "\n",
        "total = sum(sum(cm))\n",
        "accuracy = (cm[0,0] + cm[1,1]) / (total)\n",
        "print(\"Overall accuracy = \" , accuracy)\n",
        "\n",
        "sensitivity = (cm[0,0]) / (cm[0,0] + cm[0,1])\n",
        "print(\"Sensitivity = \" , sensitivity)\n",
        "\n",
        "specificity = cm[1,1] / (cm[1,0] + cm[1,1])\n",
        "print(\"Specificty = \" , specificity)"
      ],
      "metadata": {
        "id": "dMsmc4brIeXT"
      },
      "execution_count": null,
      "outputs": []
    },
    {
      "cell_type": "markdown",
      "source": [
        "### Varying the Threshold\n",
        "\n",
        "\n",
        "Sensitivity and Specificity with different thresholds"
      ],
      "metadata": {
        "id": "uXiBP0hTKN8T"
      }
    },
    {
      "cell_type": "code",
      "source": [
        "# Prediction for threshold\n",
        "threshold1 = 0.2\n",
        "predict1 = [0 if x < threshold1 else 1 for x in list(prediction_probability[: , 1])]\n",
        "print(predict1[0:10])\n",
        "\n",
        "\n",
        "cm1 = confusion_matrix(y,predict1)\n",
        "print(\"Confusion matrix = \\n\" , cm1)\n",
        "\n",
        "total1 = sum(sum(cm1))\n",
        "accuracy1 = (cm1[0,0] + cm1[1,1]) / (total1)\n",
        "print(\"Overall accuracy = \" , accuracy)\n",
        "\n",
        "sensitivity1 = (cm1[0,0]) / (cm1[0,0] + cm1[0,1])\n",
        "print(\"Sensitivity = \" , sensitivity1)\n",
        "\n",
        "specificity1 = cm1[1,1] / ((cm1[1,0] + cm1[1,1]))\n",
        "print(\"Specificty = \" , specificity1)"
      ],
      "metadata": {
        "id": "wdXggt24KSfC"
      },
      "execution_count": null,
      "outputs": []
    },
    {
      "cell_type": "markdown",
      "source": [
        "As threshold is decreases from 0.5 to 0.2, the sensitivity decreases(class 0 accuracy) and the specificity increases(class 1 accuracy)."
      ],
      "metadata": {
        "id": "0yYGtryDRME5"
      }
    },
    {
      "cell_type": "code",
      "source": [
        "# Prediction for threshold\n",
        "threshold2 = 0.8\n",
        "predict2 = [0 if x < threshold2 else 1 for x in list(prediction_probability[: , 1])]\n",
        "print(predict2[0:10])\n",
        "\n",
        "\n",
        "cm2 = confusion_matrix(y,predict2)\n",
        "print(\"Confusion matrix = \\n\" , cm2)\n",
        "\n",
        "total2 = sum(sum(cm2))\n",
        "accuracy2 = (cm2[0,0] + cm2[1,1]) / (total2)\n",
        "print(\"Overall accuracy = \" , accuracy)\n",
        "\n",
        "sensitivity2 = (cm2[0,0]) / (cm2[0,0] + cm2[0,1])\n",
        "print(\"Sensitivity = \" , sensitivity2)\n",
        "\n",
        "specificity2 = cm2[1,1] / (cm2[1,0] + cm2[1,1])\n",
        "print(\"Specificty = \" , specificity2)"
      ],
      "metadata": {
        "id": "1SFEFprjNIS5"
      },
      "execution_count": null,
      "outputs": []
    },
    {
      "cell_type": "markdown",
      "source": [
        "As threshold increases from 0.5 to 0.8, the sensitivity (class 0 accuracy) increases and specificity(class 1 accuracy) decreases."
      ],
      "metadata": {
        "id": "pnIr4vTiR8D8"
      }
    },
    {
      "cell_type": "code",
      "source": [
        " # Calculating precision, recall and F1 score\n",
        "threshold1 = 0.5\n",
        "predict1 = [0 if x < threshold1 else 1 for x in list(prediction_probability[: , 1] )]\n",
        "\n",
        "\n",
        "cm1 = confusion_matrix(y,predict1)\n",
        "print(\"Confusion matrix = \\n\" , cm1)\n",
        "\n",
        "total1 = sum(sum(cm1))\n",
        "accuracy1 = (cm1[0,0] + cm1[1,1]) / (total1)\n",
        "print(\"Overall accuracy = \" , accuracy)\n",
        "\n",
        "Precision_class0 = cm1[0,0] / (cm1[0,0] + cm1[1,0])\n",
        "print(\"Precision of class 0 = \" , Precision_class0)\n",
        "\n",
        "Precision_class1 = cm1[1,1] / (cm1[0,1] + cm1[1,1])\n",
        "print(\"Precision of class 1 = \" , Precision_class1)\n",
        "\n",
        "Recall_class0 = cm1[0,0] / (cm1[0,0] + cm1[0,1])\n",
        "print(\"Recall of class 0 = \" , Recall_class0)\n",
        "\n",
        "Recall_class1 = cm1[1,1] / (cm1[1,0] + cm1[1,1])\n",
        "print(\"Recall of class 1 = \" , Recall_class1)\n",
        "\n",
        "\n",
        "F1_Class1 = 2 / ((1/Precision_class1) + (1 / Recall_class1))\n",
        "print(\"F1 Score of class 1 = \" , F1_Class1)"
      ],
      "metadata": {
        "id": "vGFWhxSFSZqx"
      },
      "execution_count": null,
      "outputs": []
    },
    {
      "cell_type": "markdown",
      "source": [
        "* class 1 accuracy is very important. However it is very low.."
      ],
      "metadata": {
        "id": "Q49tPSvexNIj"
      }
    },
    {
      "cell_type": "markdown",
      "source": [
        "# Model - 2: Decision Trees"
      ],
      "metadata": {
        "id": "E0OduBYGphda"
      }
    },
    {
      "cell_type": "code",
      "source": [
        "X = loans.drop(['Sr_No', 'SeriousDlqin2yrs'],axis = 1)\n",
        "y = loans['SeriousDlqin2yrs']"
      ],
      "metadata": {
        "id": "zinesODRp2gY"
      },
      "execution_count": null,
      "outputs": []
    },
    {
      "cell_type": "code",
      "source": [
        "from sklearn.tree import DecisionTreeClassifier\n",
        "# Building a Decision Tree model\n",
        "Dtree= DecisionTreeClassifier(max_depth = 2)   # check for maxdept =2,1\n",
        "Dtree.fit(X,y)"
      ],
      "metadata": {
        "id": "xUkCVf8spvej"
      },
      "execution_count": null,
      "outputs": []
    },
    {
      "cell_type": "markdown",
      "source": [
        "* sklearn.tree is a module in scikit-learn that provides tools for creating decision tree models for classification and regression tasks."
      ],
      "metadata": {
        "id": "cZU4HpHZpmj2"
      }
    },
    {
      "cell_type": "code",
      "source": [
        "# Plotting the tree\n",
        "from sklearn.tree import plot_tree, export_text\n",
        "plt.figure(figsize = (15,7))\n",
        "plot_tree(Dtree , filled = True , rounded = True , impurity = False  , feature_names = list(X.columns))\n",
        "print(export_text(Dtree , feature_names = list(X.columns)))\n",
        "plt.show()"
      ],
      "metadata": {
        "id": "WKiwxPs5pve5"
      },
      "execution_count": null,
      "outputs": []
    },
    {
      "cell_type": "code",
      "source": [
        "# Finding the accuracy of the model\n",
        "predict = Dtree.predict(X) ## Prediction using decision tree model\n",
        "\n",
        "cm = confusion_matrix(y,predict) # constructing the confusion matrix.\n",
        "print(cm)\n",
        "\n",
        "total = sum(sum(cm))\n",
        "accuracy = (cm[0,0] + cm[1,1]) / total\n",
        "print(\"Accuracy of the decision tree model = \" , accuracy)"
      ],
      "metadata": {
        "id": "YajhZltupve6"
      },
      "execution_count": null,
      "outputs": []
    },
    {
      "cell_type": "markdown",
      "source": [
        "## Check for overfitting"
      ],
      "metadata": {
        "id": "TDCGK69GS8dF"
      }
    },
    {
      "cell_type": "markdown",
      "source": [
        "When really large tree is build ,  the model is very likely to be overfitted.\n",
        "Overfitted model means that the train accuracy is very large whereas the test accuracy is considerably very low.\n",
        "If the train and test accuracy differ by more than 5 points then the model is considered as overfitted model."
      ],
      "metadata": {
        "id": "P63tBuQdrF2v"
      }
    },
    {
      "cell_type": "code",
      "source": [
        "X = loans.drop(['Sr_No', 'SeriousDlqin2yrs'],axis = 1)\n",
        "y = loans['SeriousDlqin2yrs']\n",
        "\n",
        "# Creating train and test data\n",
        "from sklearn.model_selection import train_test_split\n",
        "X_train, X_test , y_train, y_test = train_test_split(X,y, train_size = 0.8 , random_state = 22)"
      ],
      "metadata": {
        "id": "DjlJE117pve7"
      },
      "execution_count": null,
      "outputs": []
    },
    {
      "cell_type": "code",
      "source": [
        "# training the model\n",
        "from sklearn import tree\n",
        "Dtree1 = tree.DecisionTreeClassifier(max_depth = 3)\n",
        "Dtree1.fit(X_train,y_train)"
      ],
      "metadata": {
        "id": "UJuvZPrApve8"
      },
      "execution_count": null,
      "outputs": []
    },
    {
      "cell_type": "code",
      "source": [
        "# Plotting the model using train data\n",
        "from sklearn.tree import plot_tree , export_text\n",
        "plt.figure(figsize = (15,7))\n",
        "plot_tree(Dtree1, filled = True , rounded = True , impurity = True , feature_names = list(X.columns))\n",
        "print( export_text(Dtree1, feature_names =list(X.columns)))\n"
      ],
      "metadata": {
        "id": "9PZ2W6Obpve8"
      },
      "execution_count": null,
      "outputs": []
    },
    {
      "cell_type": "markdown",
      "source": [
        "* Train Accuracy"
      ],
      "metadata": {
        "id": "ljm8ycFzma3Z"
      }
    },
    {
      "cell_type": "code",
      "source": [
        "# Finding the accuracy of the model on train data\n",
        "predict = Dtree1.predict(X_train)\n",
        "\n",
        "cm = confusion_matrix(y_train,predict)\n",
        "print(cm)\n",
        "\n",
        "total = sum(sum(cm))\n",
        "accuracy = (cm[0,0] + cm[1,1]) / total\n",
        "print(\"Accuracy of the  model on train data= \" , accuracy)"
      ],
      "metadata": {
        "id": "KZRA2jgKpve9"
      },
      "execution_count": null,
      "outputs": []
    },
    {
      "cell_type": "code",
      "source": [
        "sensitivity = (cm[0,0]) / (cm[0,0]+cm[0,1])\n",
        "print(\"Sensitivity of Train data = \" , sensitivity)\n",
        "\n",
        "specificity = (cm[1,1]) / (cm[1,0] + cm[1,1])\n",
        "print(\"Specificty of train data = \" , specificity)"
      ],
      "metadata": {
        "id": "p5sbfBu1yDkv"
      },
      "execution_count": null,
      "outputs": []
    },
    {
      "cell_type": "markdown",
      "source": [
        "* Test Accuracy"
      ],
      "metadata": {
        "id": "B0hnATqPmeQn"
      }
    },
    {
      "cell_type": "code",
      "source": [
        "# Finding the accuracy of the model on test data\n",
        "predict = Dtree1.predict(X_test)\n",
        "\n",
        "cm = confusion_matrix(y_test,predict)\n",
        "print(cm)\n",
        "\n",
        "total = sum(sum(cm))\n",
        "accuracy = (cm[0,0] + cm[1,1]) / total\n",
        "print(\"Accuracy of the decision tree model on test data = \" , accuracy)"
      ],
      "metadata": {
        "id": "kmajAc32pve9"
      },
      "execution_count": null,
      "outputs": []
    },
    {
      "cell_type": "code",
      "source": [
        "sensitivity = (cm[0,0]) / (cm[0,0]+cm[0,1])\n",
        "print(\"Sensitivity = \" , sensitivity)\n",
        "\n",
        "specificity = (cm[1,1]) / (cm[1,0] + cm[1,1])\n",
        "print(\"Specificty = \" , specificity)"
      ],
      "metadata": {
        "id": "d8Il02BpyH_d"
      },
      "execution_count": null,
      "outputs": []
    },
    {
      "cell_type": "markdown",
      "source": [
        "Here we can observe that the train and test accuracy are close enough. Hence the model is not overfitted."
      ],
      "metadata": {
        "id": "-doks-v3pG5l"
      }
    },
    {
      "cell_type": "markdown",
      "source": [
        "* No need to check for underfitting"
      ],
      "metadata": {
        "id": "OEgviLgqq68Q"
      }
    },
    {
      "cell_type": "markdown",
      "source": [
        "# Handling Class Imablance using SMOTE technique"
      ],
      "metadata": {
        "id": "SG6T_EkawS36"
      }
    },
    {
      "cell_type": "code",
      "source": [
        "from imblearn.over_sampling import SMOTE\n",
        "smote=SMOTE(sampling_strategy=0.6, random_state=44)\n",
        "\n",
        "X_train_smote, y_train_smote=smote.fit_resample(X_train,y_train)\n",
        "\n",
        "import collections\n",
        "print(\"Before SMOTE\", collections.Counter(y_train))\n",
        "print(\"After SMOTE\", collections.Counter(y_train_smote))"
      ],
      "metadata": {
        "id": "BHUenT6cv3vQ"
      },
      "execution_count": null,
      "outputs": []
    },
    {
      "cell_type": "markdown",
      "source": [
        "# Model-3 Logistic Regression with balanced data - SMOTE"
      ],
      "metadata": {
        "id": "cwGA9kLrwy0g"
      }
    },
    {
      "cell_type": "markdown",
      "source": [],
      "metadata": {
        "id": "_BDjs-g4Jkhk"
      }
    },
    {
      "cell_type": "code",
      "source": [
        "model=sm.Logit(y_train_smote,X_train_smote).fit()\n",
        "print(model.summary())"
      ],
      "metadata": {
        "id": "FiFbyzhwwm27"
      },
      "execution_count": null,
      "outputs": []
    },
    {
      "cell_type": "markdown",
      "source": [],
      "metadata": {
        "id": "oFlvfxLmKTE3"
      }
    },
    {
      "cell_type": "code",
      "source": [
        "#Confusion matrix and Accuracy\n",
        "tran_pred=model.predict(X_train_smote)\n",
        "test_pred=model.predict(X_test)\n",
        "\n",
        "#confusion matrix\n",
        "train_cm=confusion_matrix(y_train_smote,np.round(tran_pred))\n",
        "test_cm=confusion_matrix(y_test,np.round(test_pred))\n",
        "\n",
        "print(\"Train Confusion Matrix\\n\", train_cm)\n",
        "print(\"Test Confusion Matrix\\n\", test_cm)\n"
      ],
      "metadata": {
        "id": "bayG8l3Uw2Tn"
      },
      "execution_count": null,
      "outputs": []
    },
    {
      "cell_type": "code",
      "source": [
        "#Class-0 and Class-1 Accuracy\n",
        "class_0_acc=train_cm[0,0]/(train_cm[0,0]+train_cm[0,1])\n",
        "class_1_acc=train_cm[1,1]/(train_cm[1,0]+train_cm[1,1])\n",
        "\n",
        "print(\"Class-0 Accuracy\", class_0_acc)\n",
        "print(\"Class-1 Accuracy\", class_1_acc)"
      ],
      "metadata": {
        "id": "5k0wq-_Qw9Mu"
      },
      "execution_count": null,
      "outputs": []
    },
    {
      "cell_type": "code",
      "source": [
        "#Class-0 and Class-1 Accuracy on test data\n",
        "class_0_acc=test_cm[0,0]/(test_cm[0,0]+test_cm[0,1])\n",
        "class_1_acc=test_cm[1,1]/(test_cm[1,0]+test_cm[1,1])\n",
        "\n",
        "print(\"Class-0 Accuracy\", class_0_acc)\n",
        "print(\"Class-1 Accuracy\", class_1_acc)"
      ],
      "metadata": {
        "id": "6T0iDkZryAnP"
      },
      "execution_count": null,
      "outputs": []
    },
    {
      "cell_type": "markdown",
      "source": [
        "* Specificity has increased"
      ],
      "metadata": {
        "id": "VCuA0wOXrahi"
      }
    },
    {
      "cell_type": "markdown",
      "source": [
        "# Model-4: Decision Tree on Balanced Data -SMOTE"
      ],
      "metadata": {
        "id": "4HlodDij_zV_"
      }
    },
    {
      "cell_type": "markdown",
      "source": [
        "* with max depth = 2"
      ],
      "metadata": {
        "id": "IrjVZF2ARjqi"
      }
    },
    {
      "cell_type": "code",
      "source": [
        "# training the model\n",
        "from sklearn import tree\n",
        "Dtree2 = tree.DecisionTreeClassifier(max_depth = 2) #observe and change to 3\n",
        "Dtree2.fit(X_train_smote,y_train_smote) # Fit model on balanced data."
      ],
      "metadata": {
        "id": "F8cXuJo_SuDa"
      },
      "execution_count": null,
      "outputs": []
    },
    {
      "cell_type": "code",
      "source": [
        "# Plotting the model using train data\n",
        "from sklearn.tree import plot_tree , export_text\n",
        "plt.figure(figsize = (15,7))\n",
        "plot_tree(Dtree2, filled = True , rounded = True , impurity = False , feature_names = list(X_train_smote.columns))\n",
        "print( export_text(Dtree2, feature_names =list(X_train_smote.columns)))"
      ],
      "metadata": {
        "id": "j0UuOY1eSuHI"
      },
      "execution_count": null,
      "outputs": []
    },
    {
      "cell_type": "code",
      "source": [
        "# Finding the accuracy of the model on train data\n",
        "predict = Dtree2.predict(X_train_smote)\n",
        "\n",
        "cm = confusion_matrix(y_train_smote,predict)\n",
        "print(cm)\n",
        "\n",
        "total = sum(sum(cm))\n",
        "accuracy = (cm[0,0] + cm[1,1]) / total\n",
        "print(\"Accuracy of the  model on train data= \" , accuracy)"
      ],
      "metadata": {
        "id": "s7uSWn5ESuJp"
      },
      "execution_count": null,
      "outputs": []
    },
    {
      "cell_type": "code",
      "source": [
        "sensitivity = (cm[0,0]) / (cm[0,0]+cm[0,1])\n",
        "print(\"Sensitivity = \" , sensitivity)\n",
        "\n",
        "specificity = (cm[1,1]) / (cm[1,0] + cm[1,1])\n",
        "print(\"Specificty = \" , specificity)"
      ],
      "metadata": {
        "id": "zGweak3Pwjcs"
      },
      "execution_count": null,
      "outputs": []
    },
    {
      "cell_type": "code",
      "source": [
        "# Finding the accuracy of the model on test data\n",
        "predict = Dtree2.predict(X_test)\n",
        "\n",
        "cm = confusion_matrix(y_test,predict)\n",
        "print(cm)\n",
        "\n",
        "total = sum(sum(cm))\n",
        "accuracy = (cm[0,0] + cm[1,1]) / total\n",
        "print(\"Accuracy of the decision tree model on test data = \" , accuracy)"
      ],
      "metadata": {
        "id": "aymMZnx0l9iq"
      },
      "execution_count": null,
      "outputs": []
    },
    {
      "cell_type": "code",
      "source": [
        "sensitivity = (cm[0,0]) / (cm[0,0]+cm[0,1])\n",
        "print(\"Sensitivity = \" , sensitivity)\n",
        "\n",
        "specificity = (cm[1,1]) / (cm[1,0] + cm[1,1])\n",
        "print(\"Specificty = \" , specificity)"
      ],
      "metadata": {
        "id": "k6SY0wKpxoju"
      },
      "execution_count": null,
      "outputs": []
    },
    {
      "cell_type": "markdown",
      "source": [
        "* With Max_depth = 3"
      ],
      "metadata": {
        "id": "ypwjl2RZQupn"
      }
    },
    {
      "cell_type": "code",
      "source": [
        "# training the model\n",
        "from sklearn import tree\n",
        "Dtree2 = tree.DecisionTreeClassifier(max_depth = 3) #observe and change to 3\n",
        "Dtree2.fit(X_train_smote,y_train_smote) # Fit model on balanced data."
      ],
      "metadata": {
        "id": "MrqC0c7uRGh6"
      },
      "execution_count": null,
      "outputs": []
    },
    {
      "cell_type": "code",
      "source": [
        "# Plotting the model using train data\n",
        "from sklearn.tree import plot_tree , export_text\n",
        "plt.figure(figsize = (15,7))\n",
        "plot_tree(Dtree2, filled = True , rounded = True , impurity = False , feature_names = list(X_train_smote.columns))\n",
        "print( export_text(Dtree2, feature_names =list(X_train_smote.columns)))"
      ],
      "metadata": {
        "id": "PGXa27w3RGh6"
      },
      "execution_count": null,
      "outputs": []
    },
    {
      "cell_type": "code",
      "source": [
        "# Finding the accuracy of the model on train data\n",
        "predict = Dtree2.predict(X_train_smote)\n",
        "\n",
        "cm = confusion_matrix(y_train_smote,predict)\n",
        "print(cm)\n",
        "\n",
        "total = sum(sum(cm))\n",
        "accuracy = (cm[0,0] + cm[1,1]) / total\n",
        "print(\"Accuracy of the  model on train data= \" , accuracy)"
      ],
      "metadata": {
        "id": "lUJ118O5RGh7"
      },
      "execution_count": null,
      "outputs": []
    },
    {
      "cell_type": "code",
      "source": [
        "sensitivity = (cm[0,0]) / (cm[0,0]+cm[0,1])\n",
        "print(\"Sensitivity = \" , sensitivity)\n",
        "\n",
        "specificity = (cm[1,1]) / (cm[1,0] + cm[1,1])\n",
        "print(\"Specificty = \" , specificity)"
      ],
      "metadata": {
        "id": "pAHB6OCiRGh7"
      },
      "execution_count": null,
      "outputs": []
    },
    {
      "cell_type": "code",
      "source": [
        "# Finding the accuracy of the model on test data\n",
        "predict = Dtree2.predict(X_test)\n",
        "\n",
        "cm = confusion_matrix(y_test,predict)\n",
        "print(cm)\n",
        "\n",
        "total = sum(sum(cm))\n",
        "accuracy = (cm[0,0] + cm[1,1]) / total\n",
        "print(\"Accuracy of the decision tree model on test data = \" , accuracy)"
      ],
      "metadata": {
        "id": "TylWXDRARGh7"
      },
      "execution_count": null,
      "outputs": []
    },
    {
      "cell_type": "code",
      "source": [
        "sensitivity = (cm[0,0]) / (cm[0,0]+cm[0,1])\n",
        "print(\"Sensitivity = \" , sensitivity)\n",
        "\n",
        "specificity = (cm[1,1]) / (cm[1,0] + cm[1,1])\n",
        "print(\"Specificty = \" , specificity)"
      ],
      "metadata": {
        "id": "USyofOyyRGh7"
      },
      "execution_count": null,
      "outputs": []
    },
    {
      "cell_type": "markdown",
      "source": [
        "* with max_depth=4"
      ],
      "metadata": {
        "id": "4NrhyJApRZfo"
      }
    },
    {
      "cell_type": "code",
      "source": [
        "# training the model\n",
        "from sklearn import tree\n",
        "Dtree2 = tree.DecisionTreeClassifier(max_depth = 4) #observe and change to 3\n",
        "Dtree2.fit(X_train_smote,y_train_smote) # Fit model on balanced data."
      ],
      "metadata": {
        "id": "-G48ymRoQvVx"
      },
      "execution_count": null,
      "outputs": []
    },
    {
      "cell_type": "code",
      "source": [
        "# Plotting the model using train data\n",
        "from sklearn.tree import plot_tree , export_text\n",
        "plt.figure(figsize = (15,7))\n",
        "plot_tree(Dtree2, filled = True , rounded = True , impurity = False , feature_names = list(X_train_smote.columns))\n",
        "print( export_text(Dtree2, feature_names =list(X_train_smote.columns)))"
      ],
      "metadata": {
        "id": "Mm5uvsgsQvVy"
      },
      "execution_count": null,
      "outputs": []
    },
    {
      "cell_type": "code",
      "source": [
        "# Finding the accuracy of the model on train data\n",
        "predict = Dtree2.predict(X_train_smote)\n",
        "\n",
        "cm = confusion_matrix(y_train_smote,predict)\n",
        "print(cm)\n",
        "\n",
        "total = sum(sum(cm))\n",
        "accuracy = (cm[0,0] + cm[1,1]) / total\n",
        "print(\"Accuracy of the  model on train data= \" , accuracy)"
      ],
      "metadata": {
        "id": "TB063nMeQvVy"
      },
      "execution_count": null,
      "outputs": []
    },
    {
      "cell_type": "code",
      "source": [
        "sensitivity = (cm[0,0]) / (cm[0,0]+cm[0,1])\n",
        "print(\"Sensitivity = \" , sensitivity)\n",
        "\n",
        "specificity = (cm[1,1]) / (cm[1,0] + cm[1,1])\n",
        "print(\"Specificty = \" , specificity)"
      ],
      "metadata": {
        "id": "TNIKPdHmQvVy"
      },
      "execution_count": null,
      "outputs": []
    },
    {
      "cell_type": "code",
      "source": [
        "# Finding the accuracy of the model on test data\n",
        "predict = Dtree2.predict(X_test)\n",
        "\n",
        "cm = confusion_matrix(y_test,predict)\n",
        "print(cm)\n",
        "\n",
        "total = sum(sum(cm))\n",
        "accuracy = (cm[0,0] + cm[1,1]) / total\n",
        "print(\"Accuracy of the decision tree model on test data = \" , accuracy)"
      ],
      "metadata": {
        "id": "ygNSmCSdQvVy"
      },
      "execution_count": null,
      "outputs": []
    },
    {
      "cell_type": "code",
      "source": [
        "sensitivity = (cm[0,0]) / (cm[0,0]+cm[0,1])\n",
        "print(\"Sensitivity = \" , sensitivity)\n",
        "\n",
        "specificity = (cm[1,1]) / (cm[1,0] + cm[1,1])\n",
        "print(\"Specificty = \" , specificity)"
      ],
      "metadata": {
        "id": "0NlliOboQvVy"
      },
      "execution_count": null,
      "outputs": []
    }
  ]
}