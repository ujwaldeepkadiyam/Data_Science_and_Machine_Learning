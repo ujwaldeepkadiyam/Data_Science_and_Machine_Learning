{
  "nbformat": 4,
  "nbformat_minor": 0,
  "metadata": {
    "colab": {
      "provenance": [],
      "toc_visible": true
    },
    "kernelspec": {
      "name": "python3",
      "display_name": "Python 3"
    },
    "language_info": {
      "name": "python"
    }
  },
  "cells": [
    {
      "cell_type": "markdown",
      "source": [
        "#Issue: Missing Values."
      ],
      "metadata": {
        "id": "VyUn2h45Wtb_"
      }
    },
    {
      "cell_type": "code",
      "source": [
        "import pandas as pd\n",
        "import numpy as np"
      ],
      "metadata": {
        "id": "2pvLut8DXFyU"
      },
      "execution_count": null,
      "outputs": []
    },
    {
      "cell_type": "code",
      "execution_count": null,
      "metadata": {
        "id": "lWV00HrrWisl"
      },
      "outputs": [],
      "source": [
        "df=pd.read_csv('https://raw.githubusercontent.com/ujwaldeepk/Datasets/refs/heads/main/Lab/Lec02-Data_Cleaning/df_missing_100.csv')"
      ]
    },
    {
      "cell_type": "code",
      "source": [
        "df.info()"
      ],
      "metadata": {
        "id": "pa4eCO6uXNr8"
      },
      "execution_count": null,
      "outputs": []
    },
    {
      "cell_type": "code",
      "source": [
        "df.isnull().sum()"
      ],
      "metadata": {
        "id": "KtbhFcl7XOpn"
      },
      "execution_count": null,
      "outputs": []
    },
    {
      "cell_type": "code",
      "source": [
        "df.rename(columns={df.columns[0]:'serial number'}, inplace=True)"
      ],
      "metadata": {
        "id": "_eAlxxYGXROn"
      },
      "execution_count": null,
      "outputs": []
    },
    {
      "cell_type": "code",
      "source": [
        "df.info()"
      ],
      "metadata": {
        "id": "FFfpp_FZXkGw"
      },
      "execution_count": null,
      "outputs": []
    },
    {
      "cell_type": "markdown",
      "source": [
        "## Method-1"
      ],
      "metadata": {
        "id": "FfYqkl_zYqr4"
      }
    },
    {
      "cell_type": "code",
      "source": [
        "df['Age'].fillna(df['Age'].median(), inplace=True)  # Fill continuous with mean\n",
        "df['Salary'].fillna(df['Salary'].median(), inplace=True)  # Fill continuous with mean"
      ],
      "metadata": {
        "id": "wxDSI2DQXlkV"
      },
      "execution_count": null,
      "outputs": []
    },
    {
      "cell_type": "code",
      "source": [
        "df['Gender'].fillna(df['Gender'].mode()[0], inplace=True)  # Fill categorical with mode\n",
        "df['Department'].fillna(df['Department'].mode()[0], inplace=True)  # Fill categorical with mode"
      ],
      "metadata": {
        "id": "L_VwFGAqY5EU"
      },
      "execution_count": null,
      "outputs": []
    },
    {
      "cell_type": "code",
      "source": [
        "df.isnull().sum()"
      ],
      "metadata": {
        "id": "Kch9011ZZxdf"
      },
      "execution_count": null,
      "outputs": []
    },
    {
      "cell_type": "markdown",
      "source": [
        "## Method-2"
      ],
      "metadata": {
        "id": "Xt23O1rfZ-7A"
      }
    },
    {
      "cell_type": "code",
      "source": [
        "import pandas as pd\n",
        "import numpy as np\n",
        "from sklearn.impute import SimpleImputer"
      ],
      "metadata": {
        "id": "GjCMO6BuZzJH"
      },
      "execution_count": null,
      "outputs": []
    },
    {
      "cell_type": "code",
      "source": [
        "df_1=pd.read_csv('https://raw.githubusercontent.com/ujwaldeepk/Datasets/refs/heads/main/Lab/Lec02-Data_Cleaning/df_missing_100.csv')"
      ],
      "metadata": {
        "id": "74cyArXYaKei"
      },
      "execution_count": null,
      "outputs": []
    },
    {
      "cell_type": "code",
      "source": [
        "df_1.isnull().sum()"
      ],
      "metadata": {
        "id": "a_E5J1mtaPXf"
      },
      "execution_count": null,
      "outputs": []
    },
    {
      "cell_type": "code",
      "source": [
        "# Clean the dataset by imputing missing values\n",
        "# Impute continuous data with the mean\n",
        "continuous_imputer = SimpleImputer(strategy='mean')\n",
        "df_1[['Age', 'Salary']] = continuous_imputer.fit_transform(df_1[['Age', 'Salary']])\n",
        "\n",
        "# Impute categorical data with the mode (most frequent)\n",
        "categorical_imputer = SimpleImputer(strategy='most_frequent')\n",
        "df_1[['Gender', 'Department']] = categorical_imputer.fit_transform(df_1[['Gender', 'Department']])"
      ],
      "metadata": {
        "id": "99zNKr9PaRXf"
      },
      "execution_count": null,
      "outputs": []
    },
    {
      "cell_type": "code",
      "source": [
        "df_1.isnull().sum()"
      ],
      "metadata": {
        "id": "eYXXaDRfaZP9"
      },
      "execution_count": null,
      "outputs": []
    },
    {
      "cell_type": "code",
      "source": [],
      "metadata": {
        "id": "2c8et1eaabsn"
      },
      "execution_count": null,
      "outputs": []
    },
    {
      "cell_type": "markdown",
      "source": [
        "# Issue: Duplicate Rows"
      ],
      "metadata": {
        "id": "9eO0m0XIfns_"
      }
    },
    {
      "cell_type": "markdown",
      "source": [
        "## Type-1"
      ],
      "metadata": {
        "id": "KVpEYSfzk_Pw"
      }
    },
    {
      "cell_type": "code",
      "source": [
        "import pandas as pd\n",
        "\n",
        "# Load dataset\n",
        "df = pd.read_csv(\"https://raw.githubusercontent.com/ujwaldeepk/Datasets/refs/heads/main/Lab/Lec02-Data_Cleaning/duplicate_dataset.csv\")\n",
        "\n",
        "# Find duplicate rows (excluding the first occurrence)\n",
        "duplicates = df[df.duplicated()]\n",
        "print(duplicates)\n"
      ],
      "metadata": {
        "id": "-PMigociiLa5"
      },
      "execution_count": null,
      "outputs": []
    },
    {
      "cell_type": "code",
      "source": [
        "df.value_counts().reset_index(name=\"Count\")\n"
      ],
      "metadata": {
        "id": "YCJcodX6i4u7"
      },
      "execution_count": null,
      "outputs": []
    },
    {
      "cell_type": "code",
      "source": [
        "# Remove all duplicate rows (keeping only unique ones)\n",
        "df_unique = df.drop_duplicates(keep=False)"
      ],
      "metadata": {
        "id": "yIiAy8Zxjern"
      },
      "execution_count": null,
      "outputs": []
    },
    {
      "cell_type": "code",
      "source": [
        "df_unique.value_counts().reset_index(name=\"Count\")"
      ],
      "metadata": {
        "id": "CqgNCjVdjhD1"
      },
      "execution_count": null,
      "outputs": []
    },
    {
      "cell_type": "markdown",
      "source": [
        "## Type-2"
      ],
      "metadata": {
        "id": "mYhUyhfklKiq"
      }
    },
    {
      "cell_type": "code",
      "source": [
        "import pandas as pd\n",
        "\n",
        "# Load dataset\n",
        "df = pd.read_csv(\"https://raw.githubusercontent.com/ujwaldeepk/Datasets/refs/heads/main/Lab/Lec02-Data_Cleaning/duplicate_dataset-1.csv\")\n",
        "\n",
        "# Find duplicate rows (excluding the first occurrence)\n",
        "# duplicates = df[df.duplicated()]\n",
        "print(df[df.duplicated()])\n"
      ],
      "metadata": {
        "id": "VkseFZtLlQZM"
      },
      "execution_count": null,
      "outputs": []
    },
    {
      "cell_type": "code",
      "source": [
        "df.info()"
      ],
      "metadata": {
        "id": "-WlJOe6rltCr"
      },
      "execution_count": null,
      "outputs": []
    },
    {
      "cell_type": "code",
      "source": [
        "print(df.head(25))"
      ],
      "metadata": {
        "id": "BDyP5tV7lSvM"
      },
      "execution_count": null,
      "outputs": []
    },
    {
      "cell_type": "code",
      "source": [
        "df_1=df.drop(['ID'],axis=1)\n",
        "df_1.value_counts().reset_index(name=\"Count\")"
      ],
      "metadata": {
        "id": "a0atn8FYlUlC"
      },
      "execution_count": null,
      "outputs": []
    },
    {
      "cell_type": "code",
      "source": [
        "# Remove all duplicate rows (keeping only unique ones)\n",
        "df_unique_1 = df_1.drop_duplicates(keep=False)"
      ],
      "metadata": {
        "id": "yAAeVbaMmB7J"
      },
      "execution_count": null,
      "outputs": []
    },
    {
      "cell_type": "code",
      "source": [
        "df_unique_1.value_counts().reset_index(name=\"Count\")"
      ],
      "metadata": {
        "id": "mvHtJXFomLKa"
      },
      "execution_count": null,
      "outputs": []
    },
    {
      "cell_type": "markdown",
      "source": [
        "# Issue: Outliers"
      ],
      "metadata": {
        "id": "FKihGz8noKKq"
      }
    },
    {
      "cell_type": "markdown",
      "source": [
        "## Type-1"
      ],
      "metadata": {
        "id": "M4GV_citpFTt"
      }
    },
    {
      "cell_type": "code",
      "source": [
        "import pandas as pd\n",
        "import numpy as np\n",
        "\n",
        "# Load dataset\n",
        "df = pd.read_csv(\"https://raw.githubusercontent.com/ujwaldeepk/Datasets/refs/heads/main/Lab/Lec02-Data_Cleaning/mixed_outliers_dataset.csv\")"
      ],
      "metadata": {
        "id": "LqGNR87apMj6"
      },
      "execution_count": null,
      "outputs": []
    },
    {
      "cell_type": "code",
      "source": [
        "df.head(30)"
      ],
      "metadata": {
        "id": "NyR1wqgKqLGQ"
      },
      "execution_count": null,
      "outputs": []
    },
    {
      "cell_type": "code",
      "source": [
        "df.describe()"
      ],
      "metadata": {
        "id": "hhYK_6Cgqks8"
      },
      "execution_count": null,
      "outputs": []
    },
    {
      "cell_type": "markdown",
      "source": [
        "Identify outliers for numerical data"
      ],
      "metadata": {
        "id": "1J7UM--dpdo1"
      }
    },
    {
      "cell_type": "code",
      "source": [
        "df.info()"
      ],
      "metadata": {
        "id": "7azJl4CzpkgF"
      },
      "execution_count": null,
      "outputs": []
    },
    {
      "cell_type": "markdown",
      "source": [
        "Age"
      ],
      "metadata": {
        "id": "gFUxBfAtq_a3"
      }
    },
    {
      "cell_type": "code",
      "source": [
        "    Q1 = df['Age'].quantile(0.25)\n",
        "    Q3 = df['Age'].quantile(0.75)\n",
        "    IQR = Q3 - Q1\n",
        "    lower_bound = Q1 - 1.5 * IQR\n",
        "    upper_bound = Q3 + 1.5 * IQR"
      ],
      "metadata": {
        "id": "7-5ckmvxqxrS"
      },
      "execution_count": null,
      "outputs": []
    },
    {
      "cell_type": "code",
      "source": [
        "df.loc[(df['Age'] < lower_bound) | (df['Age'] > upper_bound), 'Age'] = df['Age'].median()"
      ],
      "metadata": {
        "id": "jA2ReufoqxrS"
      },
      "execution_count": null,
      "outputs": []
    },
    {
      "cell_type": "markdown",
      "source": [
        "Salary"
      ],
      "metadata": {
        "id": "rfXAO6ZbrA2m"
      }
    },
    {
      "cell_type": "code",
      "source": [
        "    Q1 = df['Salary ($)'].quantile(0.25)\n",
        "    Q3 = df['Salary ($)'].quantile(0.75)\n",
        "    IQR = Q3 - Q1\n",
        "    lower_bound = Q1 - 1.5 * IQR\n",
        "    upper_bound = Q3 + 1.5 * IQR"
      ],
      "metadata": {
        "id": "JBIhM6RipSHJ"
      },
      "execution_count": null,
      "outputs": []
    },
    {
      "cell_type": "code",
      "source": [
        "df.loc[(df['Salary ($)'] < lower_bound) | (df['Salary ($)'] > upper_bound), 'Salary ($)'] = df['Salary ($)'].median()"
      ],
      "metadata": {
        "id": "O4m6dAb2qA4M"
      },
      "execution_count": null,
      "outputs": []
    },
    {
      "cell_type": "markdown",
      "source": [
        "Satisfaction Level"
      ],
      "metadata": {
        "id": "w6RkUr3FrCVc"
      }
    },
    {
      "cell_type": "code",
      "source": [
        "    Q1 = df['Satisfaction Score'].quantile(0.25)\n",
        "    Q3 = df['Satisfaction Score'].quantile(0.75)\n",
        "    IQR = Q3 - Q1\n",
        "    lower_bound = Q1 - 1.5 * IQR\n",
        "    upper_bound = Q3 + 1.5 * IQR\n",
        "\n",
        "    df.loc[(df['Satisfaction Score'] < lower_bound) | (df['Satisfaction Score'] > upper_bound), 'Satisfaction Score'] = df['Satisfaction Score'].median()"
      ],
      "metadata": {
        "id": "G-wtEYrtrFQ1"
      },
      "execution_count": null,
      "outputs": []
    },
    {
      "cell_type": "code",
      "source": [
        "df.describe()"
      ],
      "metadata": {
        "id": "11JJThZIrS9Y"
      },
      "execution_count": null,
      "outputs": []
    },
    {
      "cell_type": "markdown",
      "source": [
        "## Type-2"
      ],
      "metadata": {
        "id": "87XsjMIrpOaF"
      }
    },
    {
      "cell_type": "code",
      "source": [
        "import pandas as pd\n",
        "import numpy as np\n",
        "\n",
        "# Load dataset\n",
        "df = pd.read_csv(\"https://raw.githubusercontent.com/ujwaldeepk/Datasets/refs/heads/main/Lab/Lec02-Data_Cleaning/mixed_outliers_dataset.csv\")"
      ],
      "metadata": {
        "id": "9i6ZaHURrjZc"
      },
      "execution_count": null,
      "outputs": []
    },
    {
      "cell_type": "code",
      "source": [
        "df.info()"
      ],
      "metadata": {
        "id": "OE38YfVCvETa"
      },
      "execution_count": null,
      "outputs": []
    },
    {
      "cell_type": "code",
      "source": [
        "df[['Age']].transpose()"
      ],
      "metadata": {
        "id": "2DihcG1Wr_OO"
      },
      "execution_count": null,
      "outputs": []
    },
    {
      "cell_type": "code",
      "source": [
        "df[['Age']].quantile([0,0.1, 0.2, 0.3, 0.4, 0.5, 0.6, 0.7, 0.8, 0.9, 1]).transpose()"
      ],
      "metadata": {
        "id": "MFlS8Ktirlx7"
      },
      "execution_count": null,
      "outputs": []
    },
    {
      "cell_type": "code",
      "source": [
        "df[['Age']].quantile([0,0.91, 0.92, 0.93, 0.94, 0.95, 0.96, 0.97, 0.98, 0.99, 1]).transpose()"
      ],
      "metadata": {
        "id": "KY6JYet5sTUc"
      },
      "execution_count": null,
      "outputs": []
    },
    {
      "cell_type": "markdown",
      "source": [
        "3% outliers...>66 are outliers."
      ],
      "metadata": {
        "id": "3OC-lmlpsbwU"
      }
    },
    {
      "cell_type": "code",
      "source": [
        "df.loc[(df[\"Age\"] > 10), \"Age\"] = df[\"Age\"].median()"
      ],
      "metadata": {
        "id": "nuJYkcdpu5Ai"
      },
      "execution_count": null,
      "outputs": []
    },
    {
      "cell_type": "code",
      "source": [
        "df[['Salary ($)']].quantile([0,0.1, 0.2, 0.3, 0.4, 0.5, 0.6, 0.7, 0.8, 0.9, 1]).transpose()"
      ],
      "metadata": {
        "id": "PdvDoeyGshuz"
      },
      "execution_count": null,
      "outputs": []
    },
    {
      "cell_type": "code",
      "source": [
        "df[['Salary ($)']].quantile([0,0.91, 0.92, 0.93, 0.94, 0.95, 0.96, 0.97, 0.98, 0.99, 1]).transpose()"
      ],
      "metadata": {
        "id": "qCJN6Lp6t8n9"
      },
      "execution_count": null,
      "outputs": []
    },
    {
      "cell_type": "markdown",
      "source": [
        "4% outliers....>64000 are outliers"
      ],
      "metadata": {
        "id": "Jf1MLILKuDIH"
      }
    },
    {
      "cell_type": "code",
      "source": [
        "df.loc[(df[\"Salary ($)\"] > 10), \"Salary ($)\"] = df[\"Salary ($)\"].median()"
      ],
      "metadata": {
        "id": "MmtossYhuviX"
      },
      "execution_count": null,
      "outputs": []
    },
    {
      "cell_type": "code",
      "source": [
        "df[['Satisfaction Score']].quantile([0,0.1, 0.2, 0.3, 0.4, 0.5, 0.6, 0.7, 0.8, 0.9, 1]).transpose()"
      ],
      "metadata": {
        "id": "0FjMZ7GYuJqQ"
      },
      "execution_count": null,
      "outputs": []
    },
    {
      "cell_type": "code",
      "source": [
        "df[['Satisfaction Score']].quantile([0,0.91, 0.92, 0.93, 0.94, 0.95, 0.96, 0.97, 0.98, 0.99, 1]).transpose()"
      ],
      "metadata": {
        "id": "6vxSklnzuPRj"
      },
      "execution_count": null,
      "outputs": []
    },
    {
      "cell_type": "markdown",
      "source": [
        "3% outliers......>10 are outliers and <0 are outliers"
      ],
      "metadata": {
        "id": "e1DQVsSRuXhq"
      }
    },
    {
      "cell_type": "code",
      "source": [
        "df.loc[(df[\"Satisfaction Score\"] > 10) | (df[\"Satisfaction Score\"] < 0), \"Satisfaction Score\"] = df[\"Satisfaction Score\"].median()"
      ],
      "metadata": {
        "id": "cS9D7VgLutcu"
      },
      "execution_count": null,
      "outputs": []
    },
    {
      "cell_type": "code",
      "source": [
        "df.describe()"
      ],
      "metadata": {
        "id": "7qbJbt6NvJ6c"
      },
      "execution_count": null,
      "outputs": []
    },
    {
      "cell_type": "markdown",
      "source": [],
      "metadata": {
        "id": "DZzSShfvtxiL"
      }
    },
    {
      "cell_type": "markdown",
      "source": [],
      "metadata": {
        "id": "td6eZrfo9TX0"
      }
    },
    {
      "cell_type": "markdown",
      "source": [
        "# Cross tab"
      ],
      "metadata": {
        "id": "wOY8X4MXnzTJ"
      }
    },
    {
      "cell_type": "code",
      "source": [
        "import pandas as pd\n",
        "import numpy as np\n",
        "\n",
        "# Step 1: Create the initial data with 'Unknown' values\n",
        "data = {\n",
        "    'Employee ID': [1, 2, 3, 4, 5, 6, 7, 8, 9, 10],\n",
        "    'Department': ['IT', 'IT', 'Unknown', 'HR', 'HR', 'Unknown', 'Finance', 'Finance', 'Sales', 'Unknown'],\n",
        "    'Salary': [85000, 95000, 90000, 60000, 55000, 50000, 88000, 110000, 75000, 45000],\n",
        "    'Experience': [3, 5, 4, 2, 1, 3, 6, 7, 4, 2],\n",
        "    'Promotion': ['Yes', 'No', 'Yes', 'No', 'No', 'No', 'Yes', 'Yes', 'No', 'No']\n",
        "}\n",
        "\n",
        "# Convert the data to a DataFrame\n",
        "df = pd.DataFrame(data)"
      ],
      "metadata": {
        "id": "aUGgVNO2BWAW"
      },
      "execution_count": null,
      "outputs": []
    },
    {
      "cell_type": "code",
      "source": [
        "df['Department'].value_counts()"
      ],
      "metadata": {
        "id": "yYAsI5xIDaXm"
      },
      "execution_count": null,
      "outputs": []
    },
    {
      "cell_type": "code",
      "source": [
        "# Step 2: Cross-tabulate the Department and Promotion, including 'Unknown'\n",
        "cross_tab = pd.crosstab(df['Department'], df['Promotion'], normalize='index') * 100\n",
        "cross_tab"
      ],
      "metadata": {
        "id": "47yaAXoYC_L6"
      },
      "execution_count": null,
      "outputs": []
    },
    {
      "cell_type": "code",
      "source": [
        "df['Department'] = df['Department'].replace('Unknown', 'IT') # Imputation"
      ],
      "metadata": {
        "id": "3SUnPA_dDPeb"
      },
      "execution_count": null,
      "outputs": []
    },
    {
      "cell_type": "code",
      "source": [
        "df['Department'].value_counts()"
      ],
      "metadata": {
        "id": "g2XUa4tmDTm7"
      },
      "execution_count": null,
      "outputs": []
    },
    {
      "cell_type": "code",
      "source": [
        "pd.crosstab(df['Department'], df['Promotion'], normalize='index') * 100"
      ],
      "metadata": {
        "id": "cpmurnm0Do72"
      },
      "execution_count": null,
      "outputs": []
    },
    {
      "cell_type": "markdown",
      "source": [
        "# Case Study: Give me some credit"
      ],
      "metadata": {
        "id": "VOBFunVXwm_a"
      }
    },
    {
      "cell_type": "code",
      "source": [
        "import matplotlib.pyplot as plt\n",
        "import pandas as pd\n",
        "import seaborn as sns"
      ],
      "metadata": {
        "id": "TGtOYaIwcvy4"
      },
      "execution_count": null,
      "outputs": []
    },
    {
      "cell_type": "markdown",
      "source": [],
      "metadata": {
        "id": "P5YCuNqYDbry"
      }
    },
    {
      "cell_type": "code",
      "source": [
        "data=pd.read_csv('https://raw.githubusercontent.com/ujwaldeepk/Datasets/refs/heads/main/Lab/Lec02-Data_Cleaning/cs-training.csv')"
      ],
      "metadata": {
        "id": "4kxQKqERczpn"
      },
      "execution_count": null,
      "outputs": []
    },
    {
      "cell_type": "markdown",
      "source": [
        "## basic data exploration"
      ],
      "metadata": {
        "id": "9BgGgz6cDaBi"
      }
    },
    {
      "cell_type": "code",
      "source": [
        "data.info()"
      ],
      "metadata": {
        "id": "HuKoV39bc3TV"
      },
      "execution_count": null,
      "outputs": []
    },
    {
      "cell_type": "code",
      "source": [
        "data.columns"
      ],
      "metadata": {
        "id": "9PWIozuOeUU_"
      },
      "execution_count": null,
      "outputs": []
    },
    {
      "cell_type": "code",
      "source": [
        "data.describe()"
      ],
      "metadata": {
        "id": "g3hvLAqreYAk"
      },
      "execution_count": null,
      "outputs": []
    },
    {
      "cell_type": "code",
      "source": [
        "data.describe().transpose()"
      ],
      "metadata": {
        "id": "iUcByaPAkKwU"
      },
      "execution_count": null,
      "outputs": []
    },
    {
      "cell_type": "code",
      "source": [
        "data.describe(percentiles=[0.25,0.5,0.75,0.90,0.95,0.99]).transpose()"
      ],
      "metadata": {
        "id": "hl9VlrbLkNYF"
      },
      "execution_count": null,
      "outputs": []
    },
    {
      "cell_type": "code",
      "source": [
        "data.dtypes"
      ],
      "metadata": {
        "id": "9ePIMjl4eco6"
      },
      "execution_count": null,
      "outputs": []
    },
    {
      "cell_type": "code",
      "source": [
        "data.head(10)"
      ],
      "metadata": {
        "id": "svyD6ZVEerdh"
      },
      "execution_count": null,
      "outputs": []
    },
    {
      "cell_type": "code",
      "source": [
        "data.sample(10)"
      ],
      "metadata": {
        "id": "LdXzzAj7evme"
      },
      "execution_count": null,
      "outputs": []
    },
    {
      "cell_type": "code",
      "source": [
        "#Check if column names are repeating\n",
        "data.columns.value_counts()"
      ],
      "metadata": {
        "id": "8MhIz0Itezqv"
      },
      "execution_count": null,
      "outputs": []
    },
    {
      "cell_type": "markdown",
      "source": [
        "discrete/categorical exploration"
      ],
      "metadata": {
        "id": "4eRRMJoBhnYh"
      }
    },
    {
      "cell_type": "code",
      "source": [
        "data['SeriousDlqin2yrs'].nunique()"
      ],
      "metadata": {
        "id": "3iv8a2Azhpm4"
      },
      "execution_count": null,
      "outputs": []
    },
    {
      "cell_type": "code",
      "source": [
        "for col in data.columns:\n",
        "    print(\"------------------------------------\")\n",
        "    print(f\"Unique values in {col}: {data[col].nunique()}\")\n",
        "    print(\"------------------------------------\")"
      ],
      "metadata": {
        "id": "GSgkkcrXhwqZ"
      },
      "execution_count": null,
      "outputs": []
    },
    {
      "cell_type": "code",
      "source": [
        "data['SeriousDlqin2yrs'].value_counts()"
      ],
      "metadata": {
        "id": "Ii9rvyBYiQe3"
      },
      "execution_count": null,
      "outputs": []
    },
    {
      "cell_type": "code",
      "source": [
        "for col in data.columns:\n",
        "    print(\"------------------------------------\")\n",
        "    print(f\"Unique values in {col}: \")\n",
        "    print(\"                      \")\n",
        "    counts=data[[col]].value_counts()\n",
        "    print(counts)\n",
        "    print(\"------------------------------------\")"
      ],
      "metadata": {
        "id": "BdNBE0KtiTA-"
      },
      "execution_count": null,
      "outputs": []
    },
    {
      "cell_type": "code",
      "source": [
        "for col in data.columns:\n",
        "    print(\"------------------------------------\")\n",
        "    print(f\"Unique values in {col}: {data[col].value_counts(normalize=True) * 100} \")\n",
        "    print(\"                      \")\n",
        "    # counts=data[[col]].value_counts()\n",
        "    # print(counts)\n",
        "    print(\"------------------------------------\")"
      ],
      "metadata": {
        "id": "OXmUDa50ixBd"
      },
      "execution_count": null,
      "outputs": []
    },
    {
      "cell_type": "markdown",
      "source": [
        "## categorical/discrete variable exploration\n",
        "\n",
        "Serious delinquency"
      ],
      "metadata": {
        "id": "PkSH6goQkbQm"
      }
    },
    {
      "cell_type": "code",
      "source": [
        "sns.countplot(x  = \"SeriousDlqin2yrs\" , data = data)"
      ],
      "metadata": {
        "id": "kqsVMMobka_R"
      },
      "execution_count": null,
      "outputs": []
    },
    {
      "cell_type": "code",
      "source": [
        "plt.figure(figsize=(10,5))\n",
        "sns.countplot(x='NumberOfDependents', hue = \"SeriousDlqin2yrs\" , data = data)\n",
        "plt.show()"
      ],
      "metadata": {
        "id": "rxyJuZsPkgtW"
      },
      "execution_count": null,
      "outputs": []
    },
    {
      "cell_type": "code",
      "source": [
        "pd.crosstab(data['NumberOfDependents'], data['SeriousDlqin2yrs'])"
      ],
      "metadata": {
        "id": "MQBemdhnlliP"
      },
      "execution_count": null,
      "outputs": []
    },
    {
      "cell_type": "code",
      "source": [
        "pd.crosstab(data['NumberOfDependents'], data['SeriousDlqin2yrs'], normalize='index')*100"
      ],
      "metadata": {
        "id": "Kl_o2UaWnxvf"
      },
      "execution_count": null,
      "outputs": []
    },
    {
      "cell_type": "code",
      "source": [
        "plt.figure(figsize=(6,4))\n",
        "sns.boxplot(data=data, x='SeriousDlqin2yrs', y='MonthlyIncome')\n",
        "plt.title('Salary Distribution by Gender')\n",
        "plt.show()"
      ],
      "metadata": {
        "id": "MKWSzA3jn-_l"
      },
      "execution_count": null,
      "outputs": []
    },
    {
      "cell_type": "code",
      "source": [
        "plt.figure(figsize=(15,8))\n",
        "sns.boxplot(data=data, x='NumberOfDependents', y='DebtRatio')\n",
        "plt.title('Salary Distribution by Gender')\n",
        "plt.show()"
      ],
      "metadata": {
        "id": "dwDtrtCDoasQ"
      },
      "execution_count": null,
      "outputs": []
    },
    {
      "cell_type": "code",
      "source": [
        "import matplotlib.pyplot as plt\n",
        "import seaborn as sns\n",
        "# df=data.copy()\n",
        "for col in data.select_dtypes(include=['int64', 'float64']).columns:\n",
        "    plt.figure(figsize=(6,4))\n",
        "    sns.histplot(data[col], bins=30, kde=True, color='lightblue')\n",
        "    plt.title(f\"Distribution of {col}\")\n",
        "    plt.xlabel(col)\n",
        "    plt.ylabel(\"Frequency\")\n",
        "    plt.show()\n"
      ],
      "metadata": {
        "id": "f4PHnqnSokYE"
      },
      "execution_count": null,
      "outputs": []
    },
    {
      "cell_type": "markdown",
      "source": [
        "## continuous variable exploration"
      ],
      "metadata": {
        "id": "9w1ATnyZDlyC"
      }
    },
    {
      "cell_type": "code",
      "source": [],
      "metadata": {
        "id": "1GpH3h__q4VY"
      },
      "execution_count": null,
      "outputs": []
    },
    {
      "cell_type": "markdown",
      "source": [
        "Different cases of missing values."
      ],
      "metadata": {
        "id": "T7GdRhcrDpTd"
      }
    },
    {
      "cell_type": "code",
      "source": [
        "import pandas as pd"
      ],
      "metadata": {
        "id": "Py56806D_2cO"
      },
      "execution_count": null,
      "outputs": []
    },
    {
      "cell_type": "code",
      "source": [
        "df=pd.read_csv('https://raw.githubusercontent.com/ujwaldeepk/Datasets/refs/heads/main/Lab/Lec02-Data_Cleaning/all_missing_values.csv')"
      ],
      "metadata": {
        "id": "7ZI2_PZI6bWM"
      },
      "execution_count": null,
      "outputs": []
    },
    {
      "cell_type": "code",
      "source": [
        "df.describe()"
      ],
      "metadata": {
        "id": "rezRhl4f-G3R"
      },
      "execution_count": null,
      "outputs": []
    },
    {
      "cell_type": "code",
      "source": [
        "df.isnull().sum()/len(df)"
      ],
      "metadata": {
        "id": "t2BzBDPd9yJz"
      },
      "execution_count": null,
      "outputs": []
    },
    {
      "cell_type": "markdown",
      "source": [
        ">50 missing"
      ],
      "metadata": {
        "id": "JKV8WbJp9_R9"
      }
    },
    {
      "cell_type": "code",
      "source": [
        "df['C_missing_flag'] = 1\n",
        "df.loc[df['C'].isnull(), 'C_missing_flag'] = 0"
      ],
      "metadata": {
        "id": "dMjNQQVg94M8"
      },
      "execution_count": null,
      "outputs": []
    },
    {
      "cell_type": "markdown",
      "source": [
        "10-50 missing"
      ],
      "metadata": {
        "id": "Z7zQiQ9a-Cf1"
      }
    },
    {
      "cell_type": "code",
      "source": [
        "df['D_missing_flag'] = 1\n",
        "df.loc[df['D'].isnull(), 'D_missing_flag'] = 0 #df['D'].median()"
      ],
      "metadata": {
        "id": "Kuiv7zfO-D92"
      },
      "execution_count": null,
      "outputs": []
    },
    {
      "cell_type": "code",
      "source": [
        "df['D_new'] = df['D']#.copy()\n",
        "df.loc[df['D'].isnull(), 'D_new'] = df['D'].median()"
      ],
      "metadata": {
        "id": "ZNfBt0Qr-1px"
      },
      "execution_count": null,
      "outputs": []
    },
    {
      "cell_type": "markdown",
      "source": [
        "<10 missing"
      ],
      "metadata": {
        "id": "MWx3NA1Y-ZQe"
      }
    },
    {
      "cell_type": "code",
      "source": [
        "df['E_new'] = df['E']#.copy()\n",
        "df.loc[df['E'].isnull(), 'E_new'] = df['E'].median()"
      ],
      "metadata": {
        "id": "v1IkBL7Z-YCZ"
      },
      "execution_count": null,
      "outputs": []
    },
    {
      "cell_type": "code",
      "source": [
        "df.head(10)"
      ],
      "metadata": {
        "id": "G3fj0iyt_RWg"
      },
      "execution_count": null,
      "outputs": []
    },
    {
      "cell_type": "markdown",
      "source": [
        "dropping original columns is optional... you can keep them, but dont use them"
      ],
      "metadata": {
        "id": "sxKGEjGLA87R"
      }
    },
    {
      "cell_type": "code",
      "source": [
        "# Drop the original columns with missing values\n",
        "#df.drop(columns=['C'], inplace=True)"
      ],
      "metadata": {
        "id": "-rDjJJtB_SfO"
      },
      "execution_count": null,
      "outputs": []
    }
  ]
}