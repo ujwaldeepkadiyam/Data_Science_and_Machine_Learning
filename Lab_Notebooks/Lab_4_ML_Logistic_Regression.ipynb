{
  "nbformat": 4,
  "nbformat_minor": 0,
  "metadata": {
    "colab": {
      "provenance": [],
      "toc_visible": true
    },
    "kernelspec": {
      "name": "python3",
      "display_name": "Python 3"
    },
    "language_info": {
      "name": "python"
    }
  },
  "cells": [
    {
      "cell_type": "markdown",
      "source": [
        "# Why is logistic regression needed ?"
      ],
      "metadata": {
        "id": "TLHVBO0GZtQg"
      }
    },
    {
      "cell_type": "code",
      "source": [
        "import numpy as np\n",
        "from sklearn.linear_model import LinearRegression\n",
        "\n",
        "# Generate synthetic data (age and bought)\n",
        "np.random.seed(0)\n",
        "age = np.random.randint(18, 65, 100)  # Age between 18 and 65\n",
        "bought = np.where(age > 30, 1, 0)  # People older than 30 are more likely to buy\n",
        "\n",
        "# Reshape age to a 2D array as required by scikit-learn\n",
        "X = age.reshape(-1, 1)"
      ],
      "metadata": {
        "id": "R6uYuSz0ZyiM"
      },
      "execution_count": null,
      "outputs": []
    },
    {
      "cell_type": "code",
      "source": [
        "\n",
        "\n",
        "import pandas as pd\n",
        "\n",
        "# Create a DataFrame\n",
        "df = pd.DataFrame({'age': age, 'bought': bought})\n",
        "print(df.head())\n"
      ],
      "metadata": {
        "id": "qE9LfdeFVgUe"
      },
      "execution_count": null,
      "outputs": []
    },
    {
      "cell_type": "code",
      "source": [
        "df.info()"
      ],
      "metadata": {
        "id": "DWrdf8B5VuEG"
      },
      "execution_count": null,
      "outputs": []
    },
    {
      "cell_type": "code",
      "source": [
        "# Create and train the linear regression model\n",
        "model = LinearRegression()\n",
        "model.fit(X, bought)\n",
        "\n",
        "# Make predictions on new data\n",
        "new_ages = np.array([25, 35, 45, 55]).reshape(-1, 1)  # Reshape to 2D\n",
        "predictions = model.predict(new_ages)\n",
        "\n",
        "# Print predictions\n",
        "print(\"Predictions:\")\n",
        "for i in range(len(new_ages)):\n",
        "    print(f\"Age: {new_ages[i][0]}, Predicted bought: {predictions[i]}\")"
      ],
      "metadata": {
        "id": "Dtd2TdtrU6XV"
      },
      "execution_count": null,
      "outputs": []
    },
    {
      "cell_type": "code",
      "source": [
        "# prompt: plot the data and linear regression line\n",
        "\n",
        "import matplotlib.pyplot as plt\n",
        "\n",
        "# Plot the data points\n",
        "plt.scatter(age, bought, color='blue', label='Data Points')\n",
        "\n",
        "# Plot the regression line\n",
        "plt.plot(new_ages, predictions, color='red', label='Linear Regression Line')\n",
        "\n",
        "# Add labels and title\n",
        "plt.xlabel(\"Age\")\n",
        "plt.ylabel(\"Bought\")\n",
        "plt.title(\"Linear Regression of Age vs. Bought\")\n",
        "plt.legend()\n",
        "\n",
        "# Show the plot\n",
        "plt.show()\n"
      ],
      "metadata": {
        "id": "7_0ARlRPYN2N"
      },
      "execution_count": null,
      "outputs": []
    },
    {
      "cell_type": "markdown",
      "source": [
        "# Build linear regression"
      ],
      "metadata": {
        "id": "gYwto9OFZTqf"
      }
    },
    {
      "cell_type": "code",
      "source": [
        "\n",
        "\n",
        "import pandas as pd\n",
        "import numpy as np\n",
        "from sklearn.linear_model import LinearRegression\n",
        "import matplotlib.pyplot as plt\n",
        "\n",
        "# Load the data from the URL\n",
        "url = \"https://raw.githubusercontent.com/venkatareddykonasani/Datasets/master/Product%20Sales%20Data/Product_sales.csv\"\n",
        "df = pd.read_csv(url)\n",
        "\n",
        "# Prepare the data\n",
        "X = df[[\"Age\"]] # Features (independent variable)\n",
        "y = df[\"Bought\"] # Target variable (dependent variable)\n",
        "\n",
        "# Create and train the linear regression model\n",
        "model = LinearRegression()\n",
        "model.fit(X, y)\n",
        "\n",
        "# Make predictions\n",
        "y_pred = model.predict(X)\n",
        "\n",
        "# Plot the data and the linear regression line\n",
        "plt.scatter(X, y, color='blue', label='Data Points')\n",
        "plt.plot(X, y_pred, color='red', label='Linear Regression Line')\n",
        "plt.xlabel(\"Sales\")\n",
        "plt.ylabel(\"Profit\")\n",
        "plt.title(\"Linear Regression of Sales vs. Profit\")\n",
        "plt.legend()\n",
        "plt.show()\n"
      ],
      "metadata": {
        "id": "CVxa7ohmYeoY"
      },
      "execution_count": null,
      "outputs": []
    },
    {
      "cell_type": "code",
      "source": [
        "print(\"intercept\",model.intercept_)\n",
        "print(\"Co-efficient\",model.coef_)"
      ],
      "metadata": {
        "id": "1zv5hJbAY9L5"
      },
      "execution_count": null,
      "outputs": []
    },
    {
      "cell_type": "code",
      "source": [
        "# Make predictions on new data\n",
        "new_ages = np.array([25, 35, 45, 55]).reshape(-1, 1)  # Reshape to 2D\n",
        "predictions = model.predict(new_ages)\n",
        "\n",
        "# Print predictions\n",
        "print(\"Predictions:\")\n",
        "for i in range(len(new_ages)):\n",
        "    print(f\"Age: {new_ages[i][0]}, Predicted bought: {predictions[i]}\")"
      ],
      "metadata": {
        "id": "YyoFMsjFZAYr"
      },
      "execution_count": null,
      "outputs": []
    },
    {
      "cell_type": "markdown",
      "source": [
        "# Build logistic regression"
      ],
      "metadata": {
        "id": "aS9AbMxPZOyg"
      }
    },
    {
      "cell_type": "code",
      "source": [
        "from sklearn.linear_model import LogisticRegression\n",
        "logistic = LogisticRegression()\n",
        "logistic.fit(df[[\"Age\"]],df[\"Bought\"])"
      ],
      "metadata": {
        "id": "Mp7wrMDNZLUM"
      },
      "execution_count": null,
      "outputs": []
    },
    {
      "cell_type": "code",
      "source": [
        "print(\"Intercept\", logistic.intercept_)\n",
        "print(\"Coefficient\", logistic.coef_)"
      ],
      "metadata": {
        "id": "aYRnmczmZeND"
      },
      "execution_count": null,
      "outputs": []
    },
    {
      "cell_type": "code",
      "source": [
        "# Make predictions on new data\n",
        "new_ages = np.array([25, 35, 45, 55]).reshape(-1, 1)  # Reshape to 2D\n",
        "predictions = logistic.predict(new_ages)\n",
        "\n",
        "# Print predictions\n",
        "print(\"Predictions:\")\n",
        "for i in range(len(new_ages)):\n",
        "    print(f\"Age: {new_ages[i][0]}, Predicted bought: {predictions[i]}\")"
      ],
      "metadata": {
        "id": "fLrTMsGNZzSb"
      },
      "execution_count": null,
      "outputs": []
    },
    {
      "cell_type": "code",
      "source": [
        "new_data=df.drop([\"Bought\"], axis=1)\n",
        "#Pass the variables to get the predicted values. Add actual values in a new column\n",
        "new_data[\"pred_values\"]= logistic.predict_proba(new_data)[:,1]\n",
        "new_data[\"Actual\"]=df[\"Bought\"]\n",
        "\n",
        "#Sort the data and draw the graph\n",
        "new_data=new_data.sort_values([\"pred_values\"])\n",
        "plt.scatter(new_data[\"Age\"], new_data[\"Actual\"])\n",
        "plt.plot(new_data[\"Age\"], new_data[\"pred_values\"], color='red')\n",
        "#Add lables and title\n",
        "plt.title('Predicted vs Actual Plot')\n",
        "plt.xlabel('Age')\n",
        "plt.ylabel('Bought')\n",
        "plt.show()"
      ],
      "metadata": {
        "id": "XqIeprNCabiK"
      },
      "execution_count": null,
      "outputs": []
    },
    {
      "cell_type": "markdown",
      "source": [
        "#Probability vs Logit Function"
      ],
      "metadata": {
        "id": "2cyvmr-ZbCkW"
      }
    },
    {
      "cell_type": "code",
      "source": [
        "# prompt: plot between probability and its logit function. import all necessary packages\n",
        "\n",
        "import numpy as np\n",
        "import matplotlib.pyplot as plt\n",
        "\n",
        "# Generate probability values between 0 and 1\n",
        "probabilities = np.linspace(0.01, 0.99, 100)  # Avoid 0 and 1 for logit\n",
        "\n",
        "# Calculate the logit for each probability\n",
        "logits = np.log(probabilities / (1 - probabilities))\n",
        "\n",
        "# Create the plot\n",
        "plt.figure(figsize=(12,8),dpi=300)\n",
        "# plt.plot(logits,probabilities)\n",
        "plt.plot(probabilities,logits)\n",
        "\n",
        "# Add labels and title\n",
        "plt.xlabel(\"Probability\")\n",
        "plt.ylabel(\"Logit\")\n",
        "plt.title(\"Probability vs. Logit Function\")\n",
        "plt.grid(True)\n",
        "\n",
        "# Display the plot\n",
        "plt.show()\n"
      ],
      "metadata": {
        "id": "mIdPCfIEa9y9"
      },
      "execution_count": null,
      "outputs": []
    },
    {
      "cell_type": "markdown",
      "source": [
        "# logit vs probability"
      ],
      "metadata": {
        "id": "L5PSuqEYdocp"
      }
    },
    {
      "cell_type": "code",
      "source": [
        "# prompt: Generate logit data and then compute the probability. draw the figure\n",
        "\n",
        "import pandas as pd\n",
        "import matplotlib.pyplot as plt\n",
        "import numpy as np\n",
        "\n",
        "# ... (Existing code from the provided file) ...\n",
        "\n",
        "# Generate logit data and compute probabilities\n",
        "logits = np.linspace(-50, 50, 1000)  # Generate logit values\n",
        "probabilities = 1 / (1 + np.exp(-logits)) # Compute the probabilities using the sigmoid function\n",
        "\n",
        "# Create the plot\n",
        "plt.figure(figsize=(12,8),dpi=300)\n",
        "plt.plot(logits, probabilities, label=\"Sigmoid function\", color=\"blue\")\n",
        "\n",
        "# Add labels and title\n",
        "plt.xlabel(\"Logit\")\n",
        "plt.ylabel(\"Probability\")\n",
        "plt.title(\"Logit vs Probability\")\n",
        "plt.grid(True)\n",
        "plt.legend()\n",
        "\n",
        "# Add points to visualize the relationship\n",
        "plt.scatter(logits, probabilities, s = 10, c=\"red\")\n",
        "\n",
        "\n",
        "# Display the plot\n",
        "plt.show()\n"
      ],
      "metadata": {
        "id": "1SdfykxVcUVy"
      },
      "execution_count": null,
      "outputs": []
    },
    {
      "cell_type": "markdown",
      "source": [
        "# Multipl Logistic Regression"
      ],
      "metadata": {
        "id": "R-KYSx1ZeMSI"
      }
    },
    {
      "cell_type": "code",
      "source": [
        "Fiber=pd.read_csv(\"https://raw.githubusercontent.com/venkatareddykonasani/Datasets/master/Fiberbits/Fiberbits_v1.csv\")"
      ],
      "metadata": {
        "id": "vrloiubDePM-"
      },
      "execution_count": null,
      "outputs": []
    },
    {
      "cell_type": "code",
      "metadata": {
        "id": "d2vRlUcrPqg1"
      },
      "source": [
        "Fiber.info()"
      ],
      "execution_count": null,
      "outputs": []
    },
    {
      "cell_type": "code",
      "metadata": {
        "id": "sSJTg_FmPsuU"
      },
      "source": [
        "logistic1= LogisticRegression()\n",
        "###fitting logistic regression for active customer on rest of the variables#######\n",
        "logistic1.fit(Fiber[[\"income\"]+['months_on_network']+['Num_complaints']+['number_plan_changes']+['relocated']+['monthly_bill']+['technical_issues_per_month']+['Speed_test_result']],Fiber[['active_cust']])\n"
      ],
      "execution_count": null,
      "outputs": []
    },
    {
      "cell_type": "code",
      "metadata": {
        "id": "VyF1ZoBmPxG_"
      },
      "source": [
        "print(\"Intercept\", logistic1.intercept_)\n",
        "print(\"Coefficients\", logistic1.coef_)"
      ],
      "execution_count": null,
      "outputs": []
    },
    {
      "cell_type": "markdown",
      "metadata": {
        "id": "iIAc4R7GQJp5"
      },
      "source": [
        "# Confusion Matrix & Accuracy"
      ]
    },
    {
      "cell_type": "code",
      "metadata": {
        "id": "HEYVmbh9QGWB"
      },
      "source": [
        "import numpy as np\n",
        "import matplotlib.pyplot as plt\n",
        "from sklearn.metrics import confusion_matrix"
      ],
      "execution_count": null,
      "outputs": []
    },
    {
      "cell_type": "code",
      "metadata": {
        "id": "6GoHb7olQL5J"
      },
      "source": [
        "predict1=logistic1.predict(Fiber[[\"income\"]+['months_on_network']+['Num_complaints']+['number_plan_changes']+['relocated']+['monthly_bill']+['technical_issues_per_month']+['Speed_test_result']])\n",
        "predict1\n",
        "\n",
        "cm1 = confusion_matrix(Fiber[['active_cust']],predict1)\n",
        "print(cm1)"
      ],
      "execution_count": null,
      "outputs": []
    },
    {
      "cell_type": "code",
      "metadata": {
        "id": "YKJ4zGZAQPn2"
      },
      "source": [
        "print(\"col sums\", sum(cm1))\n",
        "total1=sum(sum(cm1))\n",
        "print(\"Total\", total1)\n"
      ],
      "execution_count": null,
      "outputs": []
    },
    {
      "cell_type": "code",
      "metadata": {
        "id": "HiBbRB4mQQ9N"
      },
      "source": [
        "accuracy1=(cm1[0,0]+cm1[1,1])/total1\n",
        "accuracy1"
      ],
      "execution_count": null,
      "outputs": []
    },
    {
      "cell_type": "markdown",
      "metadata": {
        "id": "uTs9fXBgQdnD"
      },
      "source": [
        "# Multicollinearity"
      ]
    },
    {
      "cell_type": "code",
      "metadata": {
        "id": "6Ws_d_MGQecs"
      },
      "source": [
        "import statsmodels.formula.api as sm\n",
        "\n",
        "def vif_cal(input_data, dependent_col):\n",
        "    x_vars=input_data.drop([dependent_col], axis=1)\n",
        "    xvar_names=x_vars.columns\n",
        "    for i in range(0,xvar_names.shape[0]):\n",
        "        y=x_vars[xvar_names[i]]\n",
        "        x=x_vars[xvar_names.drop(xvar_names[i])]\n",
        "        rsq=sm.ols(formula=\"y~x\", data=x_vars).fit().rsquared\n",
        "        vif=round(1/(1-rsq),2)\n",
        "        print (xvar_names[i], \" VIF = \" , vif)"
      ],
      "execution_count": null,
      "outputs": []
    },
    {
      "cell_type": "code",
      "metadata": {
        "id": "3njhbd6nQg9R"
      },
      "source": [
        "vif_cal(input_data=Fiber, dependent_col=\"active_cust\")"
      ],
      "execution_count": null,
      "outputs": []
    },
    {
      "cell_type": "code",
      "metadata": {
        "id": "ULbBkLG316pc"
      },
      "source": [
        "#Drop the variable with highest VIF\n",
        "vif_cal(input_data=Fiber.drop(\"number_plan_changes\", axis=1), dependent_col=\"active_cust\")"
      ],
      "execution_count": null,
      "outputs": []
    },
    {
      "cell_type": "markdown",
      "metadata": {
        "id": "Q4rtUAbtQluo"
      },
      "source": [
        "# Individual Impact of Variables"
      ]
    },
    {
      "cell_type": "code",
      "metadata": {
        "id": "XmSSgXB2Qi6f"
      },
      "source": [
        "import statsmodels.api as sm\n",
        "m1=sm.Logit(Fiber['active_cust'],Fiber[[\"income\"]+['months_on_network']+['Num_complaints']+['relocated']+['monthly_bill']+['technical_issues_per_month']+['Speed_test_result']])\n",
        "m1.fit()\n",
        "print(m1.fit().summary())"
      ],
      "execution_count": null,
      "outputs": []
    },
    {
      "cell_type": "code",
      "metadata": {
        "id": "7cdZtYDa2oSO"
      },
      "source": [
        "m1=sm.Logit(Fiber['active_cust'],Fiber[[\"income\"]+['months_on_network']+['Num_complaints']+['relocated']+['technical_issues_per_month']+['Speed_test_result']])\n",
        "m1.fit()\n",
        "print(m1.fit().summary())"
      ],
      "execution_count": null,
      "outputs": []
    },
    {
      "cell_type": "markdown",
      "metadata": {
        "id": "yg0OFDDJ2jTY"
      },
      "source": [
        "# Rank Ordering of the impactful variables"
      ]
    },
    {
      "cell_type": "code",
      "metadata": {
        "id": "DXK0ku61Q6OE"
      },
      "source": [
        "m1=sm.Logit(Fiber['active_cust'],Fiber[[\"income\"]+['months_on_network']+['Num_complaints']+['relocated']+['technical_issues_per_month']+['Speed_test_result']])\n",
        "m1.fit()\n",
        "print(m1.fit().summary())"
      ],
      "execution_count": null,
      "outputs": []
    },
    {
      "cell_type": "code",
      "metadata": {
        "id": "x7aCIqUM4u7j"
      },
      "source": [],
      "execution_count": null,
      "outputs": []
    }
  ]
}