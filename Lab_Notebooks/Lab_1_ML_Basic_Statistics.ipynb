{
  "nbformat": 4,
  "nbformat_minor": 0,
  "metadata": {
    "colab": {
      "provenance": []
    },
    "kernelspec": {
      "name": "python3",
      "display_name": "Python 3"
    },
    "language_info": {
      "name": "python"
    }
  },
  "cells": [
    {
      "cell_type": "code",
      "source": [],
      "metadata": {
        "id": "iTLlru6KqJt4"
      },
      "execution_count": null,
      "outputs": []
    },
    {
      "cell_type": "code",
      "metadata": {
        "id": "D7isdRF-rP8j"
      },
      "source": [
        "import pandas as pd\n",
        "Income=pd.read_csv(\"https://raw.githubusercontent.com/venkatareddykonasani/Datasets/master/Census%20Income%20Data/Income_data.csv\")"
      ],
      "execution_count": null,
      "outputs": []
    },
    {
      "cell_type": "code",
      "metadata": {
        "id": "BVOEsxvXrwlt",
        "colab": {
          "base_uri": "https://localhost:8080/"
        },
        "outputId": "18f1775b-0c07-4e30-e5a6-4dcb777c381e"
      },
      "source": [
        "Income.shape #number of rows and columns"
      ],
      "execution_count": null,
      "outputs": [
        {
          "output_type": "execute_result",
          "data": {
            "text/plain": [
              "(32561, 15)"
            ]
          },
          "metadata": {},
          "execution_count": 2
        }
      ]
    },
    {
      "cell_type": "code",
      "metadata": {
        "id": "82_UT65Uryh4",
        "colab": {
          "base_uri": "https://localhost:8080/"
        },
        "outputId": "3b3df674-d0f4-46f7-d0bd-b193f3019cea"
      },
      "source": [
        "Income.info() #details"
      ],
      "execution_count": null,
      "outputs": [
        {
          "output_type": "stream",
          "name": "stdout",
          "text": [
            "<class 'pandas.core.frame.DataFrame'>\n",
            "RangeIndex: 32561 entries, 0 to 32560\n",
            "Data columns (total 15 columns):\n",
            " #   Column          Non-Null Count  Dtype \n",
            "---  ------          --------------  ----- \n",
            " 0   age             32561 non-null  int64 \n",
            " 1   workclass       32561 non-null  object\n",
            " 2   fnlwgt          32561 non-null  int64 \n",
            " 3   education       32561 non-null  object\n",
            " 4   education-num   32561 non-null  int64 \n",
            " 5   marital-status  32561 non-null  object\n",
            " 6   occupation      32561 non-null  object\n",
            " 7   relationship    32561 non-null  object\n",
            " 8   race            32561 non-null  object\n",
            " 9   sex             32561 non-null  object\n",
            " 10  capital-gain    32561 non-null  int64 \n",
            " 11  capital-loss    32561 non-null  int64 \n",
            " 12  hours-per-week  32561 non-null  int64 \n",
            " 13  native-country  32561 non-null  object\n",
            " 14  Income_band     32561 non-null  object\n",
            "dtypes: int64(6), object(9)\n",
            "memory usage: 3.7+ MB\n"
          ]
        }
      ]
    },
    {
      "cell_type": "markdown",
      "metadata": {
        "id": "ILdW-w-I26ir"
      },
      "source": [
        "#Mean"
      ]
    },
    {
      "cell_type": "code",
      "metadata": {
        "id": "sXK0NCV1r0ZA",
        "colab": {
          "base_uri": "https://localhost:8080/"
        },
        "outputId": "77269d6c-a0d1-413a-9fe7-8b6b91c7329b"
      },
      "source": [
        "Income[\"capital-gain\"].mean()"
      ],
      "execution_count": null,
      "outputs": [
        {
          "output_type": "execute_result",
          "data": {
            "text/plain": [
              "1077.6488437087312"
            ]
          },
          "metadata": {},
          "execution_count": 4
        }
      ]
    },
    {
      "cell_type": "markdown",
      "metadata": {
        "id": "iKD55Y1a2_Bk"
      },
      "source": [
        "#Median"
      ]
    },
    {
      "cell_type": "code",
      "metadata": {
        "id": "mu0LaSautG_9",
        "colab": {
          "base_uri": "https://localhost:8080/"
        },
        "outputId": "4d2ee81e-6a4f-403b-f966-8456d1287fad"
      },
      "source": [
        "Income[\"capital-gain\"].median()"
      ],
      "execution_count": null,
      "outputs": [
        {
          "output_type": "execute_result",
          "data": {
            "text/plain": [
              "0.0"
            ]
          },
          "metadata": {},
          "execution_count": 5
        }
      ]
    },
    {
      "cell_type": "markdown",
      "metadata": {
        "id": "GINLMiq1vdON"
      },
      "source": [
        "# Var and SD"
      ]
    },
    {
      "cell_type": "code",
      "metadata": {
        "id": "ShDSQodevxAb"
      },
      "source": [
        "Online_Retail=pd.read_csv(\"https://raw.githubusercontent.com/venkatareddykonasani/Datasets/master/Online%20Retail%20Sales%20Data/Online%20Retail.csv\",encoding = \"ISO-8859-1\")"
      ],
      "execution_count": null,
      "outputs": []
    },
    {
      "cell_type": "code",
      "metadata": {
        "id": "gu16uMTh0AcP",
        "colab": {
          "base_uri": "https://localhost:8080/"
        },
        "outputId": "8d613d26-e547-4594-9fa4-14d0684fac4d"
      },
      "source": [
        "Online_Retail.info()"
      ],
      "execution_count": null,
      "outputs": [
        {
          "output_type": "stream",
          "name": "stdout",
          "text": [
            "<class 'pandas.core.frame.DataFrame'>\n",
            "RangeIndex: 297895 entries, 0 to 297894\n",
            "Data columns (total 8 columns):\n",
            " #   Column       Non-Null Count   Dtype  \n",
            "---  ------       --------------   -----  \n",
            " 0   InvoiceNo    297895 non-null  object \n",
            " 1   StockCode    297895 non-null  object \n",
            " 2   Description  297070 non-null  object \n",
            " 3   Quantity     297895 non-null  int64  \n",
            " 4   InvoiceDate  297895 non-null  object \n",
            " 5   UnitPrice    297895 non-null  float64\n",
            " 6   CustomerID   223364 non-null  float64\n",
            " 7   Country      297895 non-null  object \n",
            "dtypes: float64(2), int64(1), object(5)\n",
            "memory usage: 18.2+ MB\n"
          ]
        }
      ]
    },
    {
      "cell_type": "code",
      "source": [
        "Online_Retail.head(10)"
      ],
      "metadata": {
        "colab": {
          "base_uri": "https://localhost:8080/",
          "height": 363
        },
        "id": "A0AZQLmzQiao",
        "outputId": "e21c1092-5feb-4296-e7bf-aa8863676812"
      },
      "execution_count": null,
      "outputs": [
        {
          "output_type": "execute_result",
          "data": {
            "text/plain": [
              "  InvoiceNo StockCode                         Description  Quantity  \\\n",
              "0    567578     23295    SET OF 12 MINI LOAF BAKING CASES         8   \n",
              "1    567578     20749          ASSORTED COLOUR MINI CASES         2   \n",
              "2    567579     82600               NO SINGING METAL SIGN        12   \n",
              "3    567579     21484         CHICK GREY HOT WATER BOTTLE         4   \n",
              "4    567579     23131        MISTLETOE HEART WREATH CREAM         4   \n",
              "5    567579     23060     HEART BEADED TRELLIS DECORATION        12   \n",
              "6    567580     23323                  WHITE WICKER STAR         12   \n",
              "7    567580     21124  SET/10 BLUE POLKADOT PARTY CANDLES        24   \n",
              "8    567580     23394          POSTE FRANCE CUSHION COVER         4   \n",
              "9    567580     23215    JINGLE BELL HEART ANTIQUE SILVER        12   \n",
              "\n",
              "       InvoiceDate  UnitPrice  CustomerID         Country  \n",
              "0  9/21/2011 10:47       0.83     12701.0         Germany  \n",
              "1  9/21/2011 10:47       7.95     12701.0         Germany  \n",
              "2  9/21/2011 10:48       2.10     18228.0  United Kingdom  \n",
              "3  9/21/2011 10:48       4.25     18228.0  United Kingdom  \n",
              "4  9/21/2011 10:48       4.15     18228.0  United Kingdom  \n",
              "5  9/21/2011 10:48       2.08     18228.0  United Kingdom  \n",
              "6  9/21/2011 11:10       2.10     16493.0  United Kingdom  \n",
              "7  9/21/2011 11:10       1.25     16493.0  United Kingdom  \n",
              "8  9/21/2011 11:10       3.75     16493.0  United Kingdom  \n",
              "9  9/21/2011 11:10       2.08     16493.0  United Kingdom  "
            ],
            "text/html": [
              "\n",
              "  <div id=\"df-2af8e717-394a-4f54-ab3e-ee0723bdd872\" class=\"colab-df-container\">\n",
              "    <div>\n",
              "<style scoped>\n",
              "    .dataframe tbody tr th:only-of-type {\n",
              "        vertical-align: middle;\n",
              "    }\n",
              "\n",
              "    .dataframe tbody tr th {\n",
              "        vertical-align: top;\n",
              "    }\n",
              "\n",
              "    .dataframe thead th {\n",
              "        text-align: right;\n",
              "    }\n",
              "</style>\n",
              "<table border=\"1\" class=\"dataframe\">\n",
              "  <thead>\n",
              "    <tr style=\"text-align: right;\">\n",
              "      <th></th>\n",
              "      <th>InvoiceNo</th>\n",
              "      <th>StockCode</th>\n",
              "      <th>Description</th>\n",
              "      <th>Quantity</th>\n",
              "      <th>InvoiceDate</th>\n",
              "      <th>UnitPrice</th>\n",
              "      <th>CustomerID</th>\n",
              "      <th>Country</th>\n",
              "    </tr>\n",
              "  </thead>\n",
              "  <tbody>\n",
              "    <tr>\n",
              "      <th>0</th>\n",
              "      <td>567578</td>\n",
              "      <td>23295</td>\n",
              "      <td>SET OF 12 MINI LOAF BAKING CASES</td>\n",
              "      <td>8</td>\n",
              "      <td>9/21/2011 10:47</td>\n",
              "      <td>0.83</td>\n",
              "      <td>12701.0</td>\n",
              "      <td>Germany</td>\n",
              "    </tr>\n",
              "    <tr>\n",
              "      <th>1</th>\n",
              "      <td>567578</td>\n",
              "      <td>20749</td>\n",
              "      <td>ASSORTED COLOUR MINI CASES</td>\n",
              "      <td>2</td>\n",
              "      <td>9/21/2011 10:47</td>\n",
              "      <td>7.95</td>\n",
              "      <td>12701.0</td>\n",
              "      <td>Germany</td>\n",
              "    </tr>\n",
              "    <tr>\n",
              "      <th>2</th>\n",
              "      <td>567579</td>\n",
              "      <td>82600</td>\n",
              "      <td>NO SINGING METAL SIGN</td>\n",
              "      <td>12</td>\n",
              "      <td>9/21/2011 10:48</td>\n",
              "      <td>2.10</td>\n",
              "      <td>18228.0</td>\n",
              "      <td>United Kingdom</td>\n",
              "    </tr>\n",
              "    <tr>\n",
              "      <th>3</th>\n",
              "      <td>567579</td>\n",
              "      <td>21484</td>\n",
              "      <td>CHICK GREY HOT WATER BOTTLE</td>\n",
              "      <td>4</td>\n",
              "      <td>9/21/2011 10:48</td>\n",
              "      <td>4.25</td>\n",
              "      <td>18228.0</td>\n",
              "      <td>United Kingdom</td>\n",
              "    </tr>\n",
              "    <tr>\n",
              "      <th>4</th>\n",
              "      <td>567579</td>\n",
              "      <td>23131</td>\n",
              "      <td>MISTLETOE HEART WREATH CREAM</td>\n",
              "      <td>4</td>\n",
              "      <td>9/21/2011 10:48</td>\n",
              "      <td>4.15</td>\n",
              "      <td>18228.0</td>\n",
              "      <td>United Kingdom</td>\n",
              "    </tr>\n",
              "    <tr>\n",
              "      <th>5</th>\n",
              "      <td>567579</td>\n",
              "      <td>23060</td>\n",
              "      <td>HEART BEADED TRELLIS DECORATION</td>\n",
              "      <td>12</td>\n",
              "      <td>9/21/2011 10:48</td>\n",
              "      <td>2.08</td>\n",
              "      <td>18228.0</td>\n",
              "      <td>United Kingdom</td>\n",
              "    </tr>\n",
              "    <tr>\n",
              "      <th>6</th>\n",
              "      <td>567580</td>\n",
              "      <td>23323</td>\n",
              "      <td>WHITE WICKER STAR</td>\n",
              "      <td>12</td>\n",
              "      <td>9/21/2011 11:10</td>\n",
              "      <td>2.10</td>\n",
              "      <td>16493.0</td>\n",
              "      <td>United Kingdom</td>\n",
              "    </tr>\n",
              "    <tr>\n",
              "      <th>7</th>\n",
              "      <td>567580</td>\n",
              "      <td>21124</td>\n",
              "      <td>SET/10 BLUE POLKADOT PARTY CANDLES</td>\n",
              "      <td>24</td>\n",
              "      <td>9/21/2011 11:10</td>\n",
              "      <td>1.25</td>\n",
              "      <td>16493.0</td>\n",
              "      <td>United Kingdom</td>\n",
              "    </tr>\n",
              "    <tr>\n",
              "      <th>8</th>\n",
              "      <td>567580</td>\n",
              "      <td>23394</td>\n",
              "      <td>POSTE FRANCE CUSHION COVER</td>\n",
              "      <td>4</td>\n",
              "      <td>9/21/2011 11:10</td>\n",
              "      <td>3.75</td>\n",
              "      <td>16493.0</td>\n",
              "      <td>United Kingdom</td>\n",
              "    </tr>\n",
              "    <tr>\n",
              "      <th>9</th>\n",
              "      <td>567580</td>\n",
              "      <td>23215</td>\n",
              "      <td>JINGLE BELL HEART ANTIQUE SILVER</td>\n",
              "      <td>12</td>\n",
              "      <td>9/21/2011 11:10</td>\n",
              "      <td>2.08</td>\n",
              "      <td>16493.0</td>\n",
              "      <td>United Kingdom</td>\n",
              "    </tr>\n",
              "  </tbody>\n",
              "</table>\n",
              "</div>\n",
              "    <div class=\"colab-df-buttons\">\n",
              "\n",
              "  <div class=\"colab-df-container\">\n",
              "    <button class=\"colab-df-convert\" onclick=\"convertToInteractive('df-2af8e717-394a-4f54-ab3e-ee0723bdd872')\"\n",
              "            title=\"Convert this dataframe to an interactive table.\"\n",
              "            style=\"display:none;\">\n",
              "\n",
              "  <svg xmlns=\"http://www.w3.org/2000/svg\" height=\"24px\" viewBox=\"0 -960 960 960\">\n",
              "    <path d=\"M120-120v-720h720v720H120Zm60-500h600v-160H180v160Zm220 220h160v-160H400v160Zm0 220h160v-160H400v160ZM180-400h160v-160H180v160Zm440 0h160v-160H620v160ZM180-180h160v-160H180v160Zm440 0h160v-160H620v160Z\"/>\n",
              "  </svg>\n",
              "    </button>\n",
              "\n",
              "  <style>\n",
              "    .colab-df-container {\n",
              "      display:flex;\n",
              "      gap: 12px;\n",
              "    }\n",
              "\n",
              "    .colab-df-convert {\n",
              "      background-color: #E8F0FE;\n",
              "      border: none;\n",
              "      border-radius: 50%;\n",
              "      cursor: pointer;\n",
              "      display: none;\n",
              "      fill: #1967D2;\n",
              "      height: 32px;\n",
              "      padding: 0 0 0 0;\n",
              "      width: 32px;\n",
              "    }\n",
              "\n",
              "    .colab-df-convert:hover {\n",
              "      background-color: #E2EBFA;\n",
              "      box-shadow: 0px 1px 2px rgba(60, 64, 67, 0.3), 0px 1px 3px 1px rgba(60, 64, 67, 0.15);\n",
              "      fill: #174EA6;\n",
              "    }\n",
              "\n",
              "    .colab-df-buttons div {\n",
              "      margin-bottom: 4px;\n",
              "    }\n",
              "\n",
              "    [theme=dark] .colab-df-convert {\n",
              "      background-color: #3B4455;\n",
              "      fill: #D2E3FC;\n",
              "    }\n",
              "\n",
              "    [theme=dark] .colab-df-convert:hover {\n",
              "      background-color: #434B5C;\n",
              "      box-shadow: 0px 1px 3px 1px rgba(0, 0, 0, 0.15);\n",
              "      filter: drop-shadow(0px 1px 2px rgba(0, 0, 0, 0.3));\n",
              "      fill: #FFFFFF;\n",
              "    }\n",
              "  </style>\n",
              "\n",
              "    <script>\n",
              "      const buttonEl =\n",
              "        document.querySelector('#df-2af8e717-394a-4f54-ab3e-ee0723bdd872 button.colab-df-convert');\n",
              "      buttonEl.style.display =\n",
              "        google.colab.kernel.accessAllowed ? 'block' : 'none';\n",
              "\n",
              "      async function convertToInteractive(key) {\n",
              "        const element = document.querySelector('#df-2af8e717-394a-4f54-ab3e-ee0723bdd872');\n",
              "        const dataTable =\n",
              "          await google.colab.kernel.invokeFunction('convertToInteractive',\n",
              "                                                    [key], {});\n",
              "        if (!dataTable) return;\n",
              "\n",
              "        const docLinkHtml = 'Like what you see? Visit the ' +\n",
              "          '<a target=\"_blank\" href=https://colab.research.google.com/notebooks/data_table.ipynb>data table notebook</a>'\n",
              "          + ' to learn more about interactive tables.';\n",
              "        element.innerHTML = '';\n",
              "        dataTable['output_type'] = 'display_data';\n",
              "        await google.colab.output.renderOutput(dataTable, element);\n",
              "        const docLink = document.createElement('div');\n",
              "        docLink.innerHTML = docLinkHtml;\n",
              "        element.appendChild(docLink);\n",
              "      }\n",
              "    </script>\n",
              "  </div>\n",
              "\n",
              "\n",
              "<div id=\"df-728b4e68-0899-4837-9c81-8db4f5eb3797\">\n",
              "  <button class=\"colab-df-quickchart\" onclick=\"quickchart('df-728b4e68-0899-4837-9c81-8db4f5eb3797')\"\n",
              "            title=\"Suggest charts\"\n",
              "            style=\"display:none;\">\n",
              "\n",
              "<svg xmlns=\"http://www.w3.org/2000/svg\" height=\"24px\"viewBox=\"0 0 24 24\"\n",
              "     width=\"24px\">\n",
              "    <g>\n",
              "        <path d=\"M19 3H5c-1.1 0-2 .9-2 2v14c0 1.1.9 2 2 2h14c1.1 0 2-.9 2-2V5c0-1.1-.9-2-2-2zM9 17H7v-7h2v7zm4 0h-2V7h2v10zm4 0h-2v-4h2v4z\"/>\n",
              "    </g>\n",
              "</svg>\n",
              "  </button>\n",
              "\n",
              "<style>\n",
              "  .colab-df-quickchart {\n",
              "      --bg-color: #E8F0FE;\n",
              "      --fill-color: #1967D2;\n",
              "      --hover-bg-color: #E2EBFA;\n",
              "      --hover-fill-color: #174EA6;\n",
              "      --disabled-fill-color: #AAA;\n",
              "      --disabled-bg-color: #DDD;\n",
              "  }\n",
              "\n",
              "  [theme=dark] .colab-df-quickchart {\n",
              "      --bg-color: #3B4455;\n",
              "      --fill-color: #D2E3FC;\n",
              "      --hover-bg-color: #434B5C;\n",
              "      --hover-fill-color: #FFFFFF;\n",
              "      --disabled-bg-color: #3B4455;\n",
              "      --disabled-fill-color: #666;\n",
              "  }\n",
              "\n",
              "  .colab-df-quickchart {\n",
              "    background-color: var(--bg-color);\n",
              "    border: none;\n",
              "    border-radius: 50%;\n",
              "    cursor: pointer;\n",
              "    display: none;\n",
              "    fill: var(--fill-color);\n",
              "    height: 32px;\n",
              "    padding: 0;\n",
              "    width: 32px;\n",
              "  }\n",
              "\n",
              "  .colab-df-quickchart:hover {\n",
              "    background-color: var(--hover-bg-color);\n",
              "    box-shadow: 0 1px 2px rgba(60, 64, 67, 0.3), 0 1px 3px 1px rgba(60, 64, 67, 0.15);\n",
              "    fill: var(--button-hover-fill-color);\n",
              "  }\n",
              "\n",
              "  .colab-df-quickchart-complete:disabled,\n",
              "  .colab-df-quickchart-complete:disabled:hover {\n",
              "    background-color: var(--disabled-bg-color);\n",
              "    fill: var(--disabled-fill-color);\n",
              "    box-shadow: none;\n",
              "  }\n",
              "\n",
              "  .colab-df-spinner {\n",
              "    border: 2px solid var(--fill-color);\n",
              "    border-color: transparent;\n",
              "    border-bottom-color: var(--fill-color);\n",
              "    animation:\n",
              "      spin 1s steps(1) infinite;\n",
              "  }\n",
              "\n",
              "  @keyframes spin {\n",
              "    0% {\n",
              "      border-color: transparent;\n",
              "      border-bottom-color: var(--fill-color);\n",
              "      border-left-color: var(--fill-color);\n",
              "    }\n",
              "    20% {\n",
              "      border-color: transparent;\n",
              "      border-left-color: var(--fill-color);\n",
              "      border-top-color: var(--fill-color);\n",
              "    }\n",
              "    30% {\n",
              "      border-color: transparent;\n",
              "      border-left-color: var(--fill-color);\n",
              "      border-top-color: var(--fill-color);\n",
              "      border-right-color: var(--fill-color);\n",
              "    }\n",
              "    40% {\n",
              "      border-color: transparent;\n",
              "      border-right-color: var(--fill-color);\n",
              "      border-top-color: var(--fill-color);\n",
              "    }\n",
              "    60% {\n",
              "      border-color: transparent;\n",
              "      border-right-color: var(--fill-color);\n",
              "    }\n",
              "    80% {\n",
              "      border-color: transparent;\n",
              "      border-right-color: var(--fill-color);\n",
              "      border-bottom-color: var(--fill-color);\n",
              "    }\n",
              "    90% {\n",
              "      border-color: transparent;\n",
              "      border-bottom-color: var(--fill-color);\n",
              "    }\n",
              "  }\n",
              "</style>\n",
              "\n",
              "  <script>\n",
              "    async function quickchart(key) {\n",
              "      const quickchartButtonEl =\n",
              "        document.querySelector('#' + key + ' button');\n",
              "      quickchartButtonEl.disabled = true;  // To prevent multiple clicks.\n",
              "      quickchartButtonEl.classList.add('colab-df-spinner');\n",
              "      try {\n",
              "        const charts = await google.colab.kernel.invokeFunction(\n",
              "            'suggestCharts', [key], {});\n",
              "      } catch (error) {\n",
              "        console.error('Error during call to suggestCharts:', error);\n",
              "      }\n",
              "      quickchartButtonEl.classList.remove('colab-df-spinner');\n",
              "      quickchartButtonEl.classList.add('colab-df-quickchart-complete');\n",
              "    }\n",
              "    (() => {\n",
              "      let quickchartButtonEl =\n",
              "        document.querySelector('#df-728b4e68-0899-4837-9c81-8db4f5eb3797 button');\n",
              "      quickchartButtonEl.style.display =\n",
              "        google.colab.kernel.accessAllowed ? 'block' : 'none';\n",
              "    })();\n",
              "  </script>\n",
              "</div>\n",
              "\n",
              "    </div>\n",
              "  </div>\n"
            ],
            "application/vnd.google.colaboratory.intrinsic+json": {
              "type": "dataframe",
              "variable_name": "Online_Retail"
            }
          },
          "metadata": {},
          "execution_count": 8
        }
      ]
    },
    {
      "cell_type": "code",
      "source": [
        "#var and sd UnitPrice\n",
        "Online_Retail_germany=Online_Retail[Online_Retail['Country']=='Germany']\n",
        "Online_Retail_france=Online_Retail[Online_Retail['Country']=='France']\n",
        "\n",
        "var_UnitPrice_germany=Online_Retail_germany['UnitPrice'].var()\n",
        "print(\"Variance of UnitPrice Germany\", var_UnitPrice_germany)\n",
        "\n",
        "var_UnitPrice_france=Online_Retail_france['UnitPrice'].var()\n",
        "print(\"Variance of UnitPrice France\", var_UnitPrice_france)\n"
      ],
      "metadata": {
        "id": "kZnbYa1oJQn4",
        "colab": {
          "base_uri": "https://localhost:8080/"
        },
        "outputId": "bd94aeea-5c72-449f-f07b-c59cf796f4f0"
      },
      "execution_count": null,
      "outputs": [
        {
          "output_type": "stream",
          "name": "stdout",
          "text": [
            "Variance of UnitPrice Germany 385.4169418111093\n",
            "Variance of UnitPrice France 7910.4537000139335\n"
          ]
        }
      ]
    },
    {
      "cell_type": "code",
      "source": [
        "Online_Retail_france.head(10)"
      ],
      "metadata": {
        "colab": {
          "base_uri": "https://localhost:8080/",
          "height": 363
        },
        "id": "W88RXwKUQxxp",
        "outputId": "496a078e-6726-45a9-852b-a7baeeb9c4d2"
      },
      "execution_count": null,
      "outputs": [
        {
          "output_type": "execute_result",
          "data": {
            "text/plain": [
              "    InvoiceNo StockCode                       Description  Quantity  \\\n",
              "24     567618     22708                   WRAP DOLLY GIRL        25   \n",
              "25     567618     22704                  WRAP RED APPLES         25   \n",
              "58     567640     21880                RED RETROSPOT TAPE        24   \n",
              "328    567756     23295  SET OF 12 MINI LOAF BAKING CASES        56   \n",
              "335    567793     22625                RED KITCHEN SCALES         2   \n",
              "336    567793     21212   PACK OF 72 RETROSPOT CAKE CASES        24   \n",
              "337    567793      POST                           POSTAGE         4   \n",
              "504    567910     22435    SET OF 9 HEART SHAPED BALLOONS        24   \n",
              "511    567915     20750          RED RETROSPOT MINI CASES         2   \n",
              "512    567915     23204       CHARLOTTE BAG APPLES DESIGN        10   \n",
              "\n",
              "         InvoiceDate  UnitPrice  CustomerID Country  \n",
              "24   9/21/2011 12:26       0.42     12721.0  France  \n",
              "25   9/21/2011 12:26       0.42     12721.0  France  \n",
              "58   9/21/2011 14:08       0.65     12604.0  France  \n",
              "328  9/22/2011 10:52       0.83     12678.0  France  \n",
              "335  9/22/2011 11:40       8.50     12657.0  France  \n",
              "336  9/22/2011 11:40       0.55     12657.0  France  \n",
              "337  9/22/2011 11:40      18.00     12657.0  France  \n",
              "504  9/22/2011 16:58       1.25     12437.0  France  \n",
              "511  9/22/2011 17:15       7.95     12579.0  France  \n",
              "512  9/22/2011 17:15       0.85     12579.0  France  "
            ],
            "text/html": [
              "\n",
              "  <div id=\"df-e41211f6-91d3-476a-8077-641a8e4208c8\" class=\"colab-df-container\">\n",
              "    <div>\n",
              "<style scoped>\n",
              "    .dataframe tbody tr th:only-of-type {\n",
              "        vertical-align: middle;\n",
              "    }\n",
              "\n",
              "    .dataframe tbody tr th {\n",
              "        vertical-align: top;\n",
              "    }\n",
              "\n",
              "    .dataframe thead th {\n",
              "        text-align: right;\n",
              "    }\n",
              "</style>\n",
              "<table border=\"1\" class=\"dataframe\">\n",
              "  <thead>\n",
              "    <tr style=\"text-align: right;\">\n",
              "      <th></th>\n",
              "      <th>InvoiceNo</th>\n",
              "      <th>StockCode</th>\n",
              "      <th>Description</th>\n",
              "      <th>Quantity</th>\n",
              "      <th>InvoiceDate</th>\n",
              "      <th>UnitPrice</th>\n",
              "      <th>CustomerID</th>\n",
              "      <th>Country</th>\n",
              "    </tr>\n",
              "  </thead>\n",
              "  <tbody>\n",
              "    <tr>\n",
              "      <th>24</th>\n",
              "      <td>567618</td>\n",
              "      <td>22708</td>\n",
              "      <td>WRAP DOLLY GIRL</td>\n",
              "      <td>25</td>\n",
              "      <td>9/21/2011 12:26</td>\n",
              "      <td>0.42</td>\n",
              "      <td>12721.0</td>\n",
              "      <td>France</td>\n",
              "    </tr>\n",
              "    <tr>\n",
              "      <th>25</th>\n",
              "      <td>567618</td>\n",
              "      <td>22704</td>\n",
              "      <td>WRAP RED APPLES</td>\n",
              "      <td>25</td>\n",
              "      <td>9/21/2011 12:26</td>\n",
              "      <td>0.42</td>\n",
              "      <td>12721.0</td>\n",
              "      <td>France</td>\n",
              "    </tr>\n",
              "    <tr>\n",
              "      <th>58</th>\n",
              "      <td>567640</td>\n",
              "      <td>21880</td>\n",
              "      <td>RED RETROSPOT TAPE</td>\n",
              "      <td>24</td>\n",
              "      <td>9/21/2011 14:08</td>\n",
              "      <td>0.65</td>\n",
              "      <td>12604.0</td>\n",
              "      <td>France</td>\n",
              "    </tr>\n",
              "    <tr>\n",
              "      <th>328</th>\n",
              "      <td>567756</td>\n",
              "      <td>23295</td>\n",
              "      <td>SET OF 12 MINI LOAF BAKING CASES</td>\n",
              "      <td>56</td>\n",
              "      <td>9/22/2011 10:52</td>\n",
              "      <td>0.83</td>\n",
              "      <td>12678.0</td>\n",
              "      <td>France</td>\n",
              "    </tr>\n",
              "    <tr>\n",
              "      <th>335</th>\n",
              "      <td>567793</td>\n",
              "      <td>22625</td>\n",
              "      <td>RED KITCHEN SCALES</td>\n",
              "      <td>2</td>\n",
              "      <td>9/22/2011 11:40</td>\n",
              "      <td>8.50</td>\n",
              "      <td>12657.0</td>\n",
              "      <td>France</td>\n",
              "    </tr>\n",
              "    <tr>\n",
              "      <th>336</th>\n",
              "      <td>567793</td>\n",
              "      <td>21212</td>\n",
              "      <td>PACK OF 72 RETROSPOT CAKE CASES</td>\n",
              "      <td>24</td>\n",
              "      <td>9/22/2011 11:40</td>\n",
              "      <td>0.55</td>\n",
              "      <td>12657.0</td>\n",
              "      <td>France</td>\n",
              "    </tr>\n",
              "    <tr>\n",
              "      <th>337</th>\n",
              "      <td>567793</td>\n",
              "      <td>POST</td>\n",
              "      <td>POSTAGE</td>\n",
              "      <td>4</td>\n",
              "      <td>9/22/2011 11:40</td>\n",
              "      <td>18.00</td>\n",
              "      <td>12657.0</td>\n",
              "      <td>France</td>\n",
              "    </tr>\n",
              "    <tr>\n",
              "      <th>504</th>\n",
              "      <td>567910</td>\n",
              "      <td>22435</td>\n",
              "      <td>SET OF 9 HEART SHAPED BALLOONS</td>\n",
              "      <td>24</td>\n",
              "      <td>9/22/2011 16:58</td>\n",
              "      <td>1.25</td>\n",
              "      <td>12437.0</td>\n",
              "      <td>France</td>\n",
              "    </tr>\n",
              "    <tr>\n",
              "      <th>511</th>\n",
              "      <td>567915</td>\n",
              "      <td>20750</td>\n",
              "      <td>RED RETROSPOT MINI CASES</td>\n",
              "      <td>2</td>\n",
              "      <td>9/22/2011 17:15</td>\n",
              "      <td>7.95</td>\n",
              "      <td>12579.0</td>\n",
              "      <td>France</td>\n",
              "    </tr>\n",
              "    <tr>\n",
              "      <th>512</th>\n",
              "      <td>567915</td>\n",
              "      <td>23204</td>\n",
              "      <td>CHARLOTTE BAG APPLES DESIGN</td>\n",
              "      <td>10</td>\n",
              "      <td>9/22/2011 17:15</td>\n",
              "      <td>0.85</td>\n",
              "      <td>12579.0</td>\n",
              "      <td>France</td>\n",
              "    </tr>\n",
              "  </tbody>\n",
              "</table>\n",
              "</div>\n",
              "    <div class=\"colab-df-buttons\">\n",
              "\n",
              "  <div class=\"colab-df-container\">\n",
              "    <button class=\"colab-df-convert\" onclick=\"convertToInteractive('df-e41211f6-91d3-476a-8077-641a8e4208c8')\"\n",
              "            title=\"Convert this dataframe to an interactive table.\"\n",
              "            style=\"display:none;\">\n",
              "\n",
              "  <svg xmlns=\"http://www.w3.org/2000/svg\" height=\"24px\" viewBox=\"0 -960 960 960\">\n",
              "    <path d=\"M120-120v-720h720v720H120Zm60-500h600v-160H180v160Zm220 220h160v-160H400v160Zm0 220h160v-160H400v160ZM180-400h160v-160H180v160Zm440 0h160v-160H620v160ZM180-180h160v-160H180v160Zm440 0h160v-160H620v160Z\"/>\n",
              "  </svg>\n",
              "    </button>\n",
              "\n",
              "  <style>\n",
              "    .colab-df-container {\n",
              "      display:flex;\n",
              "      gap: 12px;\n",
              "    }\n",
              "\n",
              "    .colab-df-convert {\n",
              "      background-color: #E8F0FE;\n",
              "      border: none;\n",
              "      border-radius: 50%;\n",
              "      cursor: pointer;\n",
              "      display: none;\n",
              "      fill: #1967D2;\n",
              "      height: 32px;\n",
              "      padding: 0 0 0 0;\n",
              "      width: 32px;\n",
              "    }\n",
              "\n",
              "    .colab-df-convert:hover {\n",
              "      background-color: #E2EBFA;\n",
              "      box-shadow: 0px 1px 2px rgba(60, 64, 67, 0.3), 0px 1px 3px 1px rgba(60, 64, 67, 0.15);\n",
              "      fill: #174EA6;\n",
              "    }\n",
              "\n",
              "    .colab-df-buttons div {\n",
              "      margin-bottom: 4px;\n",
              "    }\n",
              "\n",
              "    [theme=dark] .colab-df-convert {\n",
              "      background-color: #3B4455;\n",
              "      fill: #D2E3FC;\n",
              "    }\n",
              "\n",
              "    [theme=dark] .colab-df-convert:hover {\n",
              "      background-color: #434B5C;\n",
              "      box-shadow: 0px 1px 3px 1px rgba(0, 0, 0, 0.15);\n",
              "      filter: drop-shadow(0px 1px 2px rgba(0, 0, 0, 0.3));\n",
              "      fill: #FFFFFF;\n",
              "    }\n",
              "  </style>\n",
              "\n",
              "    <script>\n",
              "      const buttonEl =\n",
              "        document.querySelector('#df-e41211f6-91d3-476a-8077-641a8e4208c8 button.colab-df-convert');\n",
              "      buttonEl.style.display =\n",
              "        google.colab.kernel.accessAllowed ? 'block' : 'none';\n",
              "\n",
              "      async function convertToInteractive(key) {\n",
              "        const element = document.querySelector('#df-e41211f6-91d3-476a-8077-641a8e4208c8');\n",
              "        const dataTable =\n",
              "          await google.colab.kernel.invokeFunction('convertToInteractive',\n",
              "                                                    [key], {});\n",
              "        if (!dataTable) return;\n",
              "\n",
              "        const docLinkHtml = 'Like what you see? Visit the ' +\n",
              "          '<a target=\"_blank\" href=https://colab.research.google.com/notebooks/data_table.ipynb>data table notebook</a>'\n",
              "          + ' to learn more about interactive tables.';\n",
              "        element.innerHTML = '';\n",
              "        dataTable['output_type'] = 'display_data';\n",
              "        await google.colab.output.renderOutput(dataTable, element);\n",
              "        const docLink = document.createElement('div');\n",
              "        docLink.innerHTML = docLinkHtml;\n",
              "        element.appendChild(docLink);\n",
              "      }\n",
              "    </script>\n",
              "  </div>\n",
              "\n",
              "\n",
              "<div id=\"df-56c53fbc-f461-4d0e-b482-5275b47a9883\">\n",
              "  <button class=\"colab-df-quickchart\" onclick=\"quickchart('df-56c53fbc-f461-4d0e-b482-5275b47a9883')\"\n",
              "            title=\"Suggest charts\"\n",
              "            style=\"display:none;\">\n",
              "\n",
              "<svg xmlns=\"http://www.w3.org/2000/svg\" height=\"24px\"viewBox=\"0 0 24 24\"\n",
              "     width=\"24px\">\n",
              "    <g>\n",
              "        <path d=\"M19 3H5c-1.1 0-2 .9-2 2v14c0 1.1.9 2 2 2h14c1.1 0 2-.9 2-2V5c0-1.1-.9-2-2-2zM9 17H7v-7h2v7zm4 0h-2V7h2v10zm4 0h-2v-4h2v4z\"/>\n",
              "    </g>\n",
              "</svg>\n",
              "  </button>\n",
              "\n",
              "<style>\n",
              "  .colab-df-quickchart {\n",
              "      --bg-color: #E8F0FE;\n",
              "      --fill-color: #1967D2;\n",
              "      --hover-bg-color: #E2EBFA;\n",
              "      --hover-fill-color: #174EA6;\n",
              "      --disabled-fill-color: #AAA;\n",
              "      --disabled-bg-color: #DDD;\n",
              "  }\n",
              "\n",
              "  [theme=dark] .colab-df-quickchart {\n",
              "      --bg-color: #3B4455;\n",
              "      --fill-color: #D2E3FC;\n",
              "      --hover-bg-color: #434B5C;\n",
              "      --hover-fill-color: #FFFFFF;\n",
              "      --disabled-bg-color: #3B4455;\n",
              "      --disabled-fill-color: #666;\n",
              "  }\n",
              "\n",
              "  .colab-df-quickchart {\n",
              "    background-color: var(--bg-color);\n",
              "    border: none;\n",
              "    border-radius: 50%;\n",
              "    cursor: pointer;\n",
              "    display: none;\n",
              "    fill: var(--fill-color);\n",
              "    height: 32px;\n",
              "    padding: 0;\n",
              "    width: 32px;\n",
              "  }\n",
              "\n",
              "  .colab-df-quickchart:hover {\n",
              "    background-color: var(--hover-bg-color);\n",
              "    box-shadow: 0 1px 2px rgba(60, 64, 67, 0.3), 0 1px 3px 1px rgba(60, 64, 67, 0.15);\n",
              "    fill: var(--button-hover-fill-color);\n",
              "  }\n",
              "\n",
              "  .colab-df-quickchart-complete:disabled,\n",
              "  .colab-df-quickchart-complete:disabled:hover {\n",
              "    background-color: var(--disabled-bg-color);\n",
              "    fill: var(--disabled-fill-color);\n",
              "    box-shadow: none;\n",
              "  }\n",
              "\n",
              "  .colab-df-spinner {\n",
              "    border: 2px solid var(--fill-color);\n",
              "    border-color: transparent;\n",
              "    border-bottom-color: var(--fill-color);\n",
              "    animation:\n",
              "      spin 1s steps(1) infinite;\n",
              "  }\n",
              "\n",
              "  @keyframes spin {\n",
              "    0% {\n",
              "      border-color: transparent;\n",
              "      border-bottom-color: var(--fill-color);\n",
              "      border-left-color: var(--fill-color);\n",
              "    }\n",
              "    20% {\n",
              "      border-color: transparent;\n",
              "      border-left-color: var(--fill-color);\n",
              "      border-top-color: var(--fill-color);\n",
              "    }\n",
              "    30% {\n",
              "      border-color: transparent;\n",
              "      border-left-color: var(--fill-color);\n",
              "      border-top-color: var(--fill-color);\n",
              "      border-right-color: var(--fill-color);\n",
              "    }\n",
              "    40% {\n",
              "      border-color: transparent;\n",
              "      border-right-color: var(--fill-color);\n",
              "      border-top-color: var(--fill-color);\n",
              "    }\n",
              "    60% {\n",
              "      border-color: transparent;\n",
              "      border-right-color: var(--fill-color);\n",
              "    }\n",
              "    80% {\n",
              "      border-color: transparent;\n",
              "      border-right-color: var(--fill-color);\n",
              "      border-bottom-color: var(--fill-color);\n",
              "    }\n",
              "    90% {\n",
              "      border-color: transparent;\n",
              "      border-bottom-color: var(--fill-color);\n",
              "    }\n",
              "  }\n",
              "</style>\n",
              "\n",
              "  <script>\n",
              "    async function quickchart(key) {\n",
              "      const quickchartButtonEl =\n",
              "        document.querySelector('#' + key + ' button');\n",
              "      quickchartButtonEl.disabled = true;  // To prevent multiple clicks.\n",
              "      quickchartButtonEl.classList.add('colab-df-spinner');\n",
              "      try {\n",
              "        const charts = await google.colab.kernel.invokeFunction(\n",
              "            'suggestCharts', [key], {});\n",
              "      } catch (error) {\n",
              "        console.error('Error during call to suggestCharts:', error);\n",
              "      }\n",
              "      quickchartButtonEl.classList.remove('colab-df-spinner');\n",
              "      quickchartButtonEl.classList.add('colab-df-quickchart-complete');\n",
              "    }\n",
              "    (() => {\n",
              "      let quickchartButtonEl =\n",
              "        document.querySelector('#df-56c53fbc-f461-4d0e-b482-5275b47a9883 button');\n",
              "      quickchartButtonEl.style.display =\n",
              "        google.colab.kernel.accessAllowed ? 'block' : 'none';\n",
              "    })();\n",
              "  </script>\n",
              "</div>\n",
              "\n",
              "    </div>\n",
              "  </div>\n"
            ],
            "application/vnd.google.colaboratory.intrinsic+json": {
              "type": "dataframe",
              "variable_name": "Online_Retail_france",
              "summary": "{\n  \"name\": \"Online_Retail_france\",\n  \"rows\": 4710,\n  \"fields\": [\n    {\n      \"column\": \"InvoiceNo\",\n      \"properties\": {\n        \"dtype\": \"category\",\n        \"num_unique_values\": 429,\n        \"samples\": [\n          \"C578743\",\n          \"577687\",\n          \"547722\"\n        ],\n        \"semantic_type\": \"\",\n        \"description\": \"\"\n      }\n    },\n    {\n      \"column\": \"StockCode\",\n      \"properties\": {\n        \"dtype\": \"category\",\n        \"num_unique_values\": 1233,\n        \"samples\": [\n          \"22963\",\n          \"21871\",\n          \"72586\"\n        ],\n        \"semantic_type\": \"\",\n        \"description\": \"\"\n      }\n    },\n    {\n      \"column\": \"Description\",\n      \"properties\": {\n        \"dtype\": \"category\",\n        \"num_unique_values\": 1250,\n        \"samples\": [\n          \"CREAM HEART CARD HOLDER\",\n          \"GLITTER CHRISTMAS TREE WITH BELLS\",\n          \"GREEN POLKADOT BOWL\"\n        ],\n        \"semantic_type\": \"\",\n        \"description\": \"\"\n      }\n    },\n    {\n      \"column\": \"Quantity\",\n      \"properties\": {\n        \"dtype\": \"number\",\n        \"std\": 22,\n        \"min\": -120,\n        \"max\": 912,\n        \"num_unique_values\": 63,\n        \"samples\": [\n          52,\n          64,\n          25\n        ],\n        \"semantic_type\": \"\",\n        \"description\": \"\"\n      }\n    },\n    {\n      \"column\": \"InvoiceDate\",\n      \"properties\": {\n        \"dtype\": \"category\",\n        \"num_unique_values\": 429,\n        \"samples\": [\n          \"11/25/2011 11:35\",\n          \"11/21/2011 11:16\",\n          \"3/23/2011 14:55\"\n        ],\n        \"semantic_type\": \"\",\n        \"description\": \"\"\n      }\n    },\n    {\n      \"column\": \"UnitPrice\",\n      \"properties\": {\n        \"dtype\": \"number\",\n        \"std\": 88.94073138902071,\n        \"min\": 0.06,\n        \"max\": 4161.06,\n        \"num_unique_values\": 86,\n        \"samples\": [\n          5.39,\n          0.42,\n          29.95\n        ],\n        \"semantic_type\": \"\",\n        \"description\": \"\"\n      }\n    },\n    {\n      \"column\": \"CustomerID\",\n      \"properties\": {\n        \"dtype\": \"number\",\n        \"std\": 275.4326144805658,\n        \"min\": 12413.0,\n        \"max\": 14277.0,\n        \"num_unique_values\": 87,\n        \"samples\": [\n          12624.0,\n          12721.0,\n          12691.0\n        ],\n        \"semantic_type\": \"\",\n        \"description\": \"\"\n      }\n    },\n    {\n      \"column\": \"Country\",\n      \"properties\": {\n        \"dtype\": \"category\",\n        \"num_unique_values\": 1,\n        \"samples\": [\n          \"France\"\n        ],\n        \"semantic_type\": \"\",\n        \"description\": \"\"\n      }\n    }\n  ]\n}"
            }
          },
          "metadata": {},
          "execution_count": 10
        }
      ]
    },
    {
      "cell_type": "code",
      "metadata": {
        "id": "R13wQ0-q0C_Z",
        "colab": {
          "base_uri": "https://localhost:8080/"
        },
        "outputId": "36437106-3296-4992-ba13-f484d12675cb"
      },
      "source": [
        "print(Online_Retail_germany['UnitPrice'].std())\n",
        "print(Online_Retail_france['UnitPrice'].std())"
      ],
      "execution_count": null,
      "outputs": [
        {
          "output_type": "stream",
          "name": "stdout",
          "text": [
            "19.63203865652035\n",
            "88.94073138902071\n"
          ]
        }
      ]
    },
    {
      "cell_type": "markdown",
      "metadata": {
        "id": "mEPvciAt3H8l"
      },
      "source": [
        "#Percentiles"
      ]
    },
    {
      "cell_type": "code",
      "metadata": {
        "id": "wfF37klW2KEY",
        "colab": {
          "base_uri": "https://localhost:8080/",
          "height": 429
        },
        "outputId": "094e2675-037e-472d-f15b-2c1677c9edc5"
      },
      "source": [
        "Income[\"capital-gain\"].quantile([0,0.1,0.2,0.3,0.4,0.5,0.6,0.7,0.8,0.9,1])"
      ],
      "execution_count": null,
      "outputs": [
        {
          "output_type": "execute_result",
          "data": {
            "text/plain": [
              "0.0        0.0\n",
              "0.1        0.0\n",
              "0.2        0.0\n",
              "0.3        0.0\n",
              "0.4        0.0\n",
              "0.5        0.0\n",
              "0.6        0.0\n",
              "0.7        0.0\n",
              "0.8        0.0\n",
              "0.9        0.0\n",
              "1.0    99999.0\n",
              "Name: capital-gain, dtype: float64"
            ],
            "text/html": [
              "<div>\n",
              "<style scoped>\n",
              "    .dataframe tbody tr th:only-of-type {\n",
              "        vertical-align: middle;\n",
              "    }\n",
              "\n",
              "    .dataframe tbody tr th {\n",
              "        vertical-align: top;\n",
              "    }\n",
              "\n",
              "    .dataframe thead th {\n",
              "        text-align: right;\n",
              "    }\n",
              "</style>\n",
              "<table border=\"1\" class=\"dataframe\">\n",
              "  <thead>\n",
              "    <tr style=\"text-align: right;\">\n",
              "      <th></th>\n",
              "      <th>capital-gain</th>\n",
              "    </tr>\n",
              "  </thead>\n",
              "  <tbody>\n",
              "    <tr>\n",
              "      <th>0.0</th>\n",
              "      <td>0.0</td>\n",
              "    </tr>\n",
              "    <tr>\n",
              "      <th>0.1</th>\n",
              "      <td>0.0</td>\n",
              "    </tr>\n",
              "    <tr>\n",
              "      <th>0.2</th>\n",
              "      <td>0.0</td>\n",
              "    </tr>\n",
              "    <tr>\n",
              "      <th>0.3</th>\n",
              "      <td>0.0</td>\n",
              "    </tr>\n",
              "    <tr>\n",
              "      <th>0.4</th>\n",
              "      <td>0.0</td>\n",
              "    </tr>\n",
              "    <tr>\n",
              "      <th>0.5</th>\n",
              "      <td>0.0</td>\n",
              "    </tr>\n",
              "    <tr>\n",
              "      <th>0.6</th>\n",
              "      <td>0.0</td>\n",
              "    </tr>\n",
              "    <tr>\n",
              "      <th>0.7</th>\n",
              "      <td>0.0</td>\n",
              "    </tr>\n",
              "    <tr>\n",
              "      <th>0.8</th>\n",
              "      <td>0.0</td>\n",
              "    </tr>\n",
              "    <tr>\n",
              "      <th>0.9</th>\n",
              "      <td>0.0</td>\n",
              "    </tr>\n",
              "    <tr>\n",
              "      <th>1.0</th>\n",
              "      <td>99999.0</td>\n",
              "    </tr>\n",
              "  </tbody>\n",
              "</table>\n",
              "</div><br><label><b>dtype:</b> float64</label>"
            ]
          },
          "metadata": {},
          "execution_count": 12
        }
      ]
    },
    {
      "cell_type": "code",
      "metadata": {
        "id": "-v28tIMI6q2E",
        "colab": {
          "base_uri": "https://localhost:8080/",
          "height": 429
        },
        "outputId": "4677e6c6-45c9-4cec-c7c0-ac41ef5a00ae"
      },
      "source": [
        "Income[\"capital-gain\"].quantile([0.9,0.91,0.92,0.93,0.94,0.95,0.96,0.97,0.98,0.995,1])"
      ],
      "execution_count": null,
      "outputs": [
        {
          "output_type": "execute_result",
          "data": {
            "text/plain": [
              "0.900        0.0\n",
              "0.910        0.0\n",
              "0.920     1458.2\n",
              "0.930     2885.0\n",
              "0.940     3818.0\n",
              "0.950     5013.0\n",
              "0.960     7298.0\n",
              "0.970     7688.0\n",
              "0.980    14084.0\n",
              "0.995    34095.0\n",
              "1.000    99999.0\n",
              "Name: capital-gain, dtype: float64"
            ],
            "text/html": [
              "<div>\n",
              "<style scoped>\n",
              "    .dataframe tbody tr th:only-of-type {\n",
              "        vertical-align: middle;\n",
              "    }\n",
              "\n",
              "    .dataframe tbody tr th {\n",
              "        vertical-align: top;\n",
              "    }\n",
              "\n",
              "    .dataframe thead th {\n",
              "        text-align: right;\n",
              "    }\n",
              "</style>\n",
              "<table border=\"1\" class=\"dataframe\">\n",
              "  <thead>\n",
              "    <tr style=\"text-align: right;\">\n",
              "      <th></th>\n",
              "      <th>capital-gain</th>\n",
              "    </tr>\n",
              "  </thead>\n",
              "  <tbody>\n",
              "    <tr>\n",
              "      <th>0.900</th>\n",
              "      <td>0.0</td>\n",
              "    </tr>\n",
              "    <tr>\n",
              "      <th>0.910</th>\n",
              "      <td>0.0</td>\n",
              "    </tr>\n",
              "    <tr>\n",
              "      <th>0.920</th>\n",
              "      <td>1458.2</td>\n",
              "    </tr>\n",
              "    <tr>\n",
              "      <th>0.930</th>\n",
              "      <td>2885.0</td>\n",
              "    </tr>\n",
              "    <tr>\n",
              "      <th>0.940</th>\n",
              "      <td>3818.0</td>\n",
              "    </tr>\n",
              "    <tr>\n",
              "      <th>0.950</th>\n",
              "      <td>5013.0</td>\n",
              "    </tr>\n",
              "    <tr>\n",
              "      <th>0.960</th>\n",
              "      <td>7298.0</td>\n",
              "    </tr>\n",
              "    <tr>\n",
              "      <th>0.970</th>\n",
              "      <td>7688.0</td>\n",
              "    </tr>\n",
              "    <tr>\n",
              "      <th>0.980</th>\n",
              "      <td>14084.0</td>\n",
              "    </tr>\n",
              "    <tr>\n",
              "      <th>0.995</th>\n",
              "      <td>34095.0</td>\n",
              "    </tr>\n",
              "    <tr>\n",
              "      <th>1.000</th>\n",
              "      <td>99999.0</td>\n",
              "    </tr>\n",
              "  </tbody>\n",
              "</table>\n",
              "</div><br><label><b>dtype:</b> float64</label>"
            ]
          },
          "metadata": {},
          "execution_count": 13
        }
      ]
    },
    {
      "cell_type": "markdown",
      "metadata": {
        "id": "qSIguItHvIIm"
      },
      "source": [
        "## Credit Risk Data"
      ]
    },
    {
      "cell_type": "code",
      "metadata": {
        "id": "K5eU1oVD9OZY"
      },
      "source": [
        "loans=pd.read_csv(\"https://raw.githubusercontent.com/venkatareddykonasani/Datasets/master/Give%20me%20some%20Credit/cs-training.csv\")"
      ],
      "execution_count": null,
      "outputs": []
    },
    {
      "cell_type": "code",
      "metadata": {
        "id": "ket9wSDs_wO8",
        "colab": {
          "base_uri": "https://localhost:8080/"
        },
        "outputId": "ba3bf814-d56c-44b8-acfe-ef6e4b3d5d98"
      },
      "source": [
        "loans.info()"
      ],
      "execution_count": null,
      "outputs": [
        {
          "output_type": "stream",
          "name": "stdout",
          "text": [
            "<class 'pandas.core.frame.DataFrame'>\n",
            "RangeIndex: 150000 entries, 0 to 149999\n",
            "Data columns (total 12 columns):\n",
            " #   Column                                Non-Null Count   Dtype  \n",
            "---  ------                                --------------   -----  \n",
            " 0   Sr_No                                 150000 non-null  int64  \n",
            " 1   SeriousDlqin2yrs                      150000 non-null  int64  \n",
            " 2   monthly_utilization                   150000 non-null  float64\n",
            " 3   age                                   150000 non-null  int64  \n",
            " 4   NumberOfTime30-59DaysPastDueNotWorse  150000 non-null  int64  \n",
            " 5   DebtRatio                             150000 non-null  float64\n",
            " 6   MonthlyIncome                         120269 non-null  float64\n",
            " 7   NumberOfOpenCreditLinesAndLoans       150000 non-null  int64  \n",
            " 8   NumberOfTimes90DaysLate               150000 non-null  int64  \n",
            " 9   NumberRealEstateLoansOrLines          150000 non-null  int64  \n",
            " 10  NumberOfTime60-89DaysPastDueNotWorse  150000 non-null  int64  \n",
            " 11  NumberOfDependents                    146076 non-null  float64\n",
            "dtypes: float64(4), int64(8)\n",
            "memory usage: 13.7 MB\n"
          ]
        }
      ]
    },
    {
      "cell_type": "code",
      "metadata": {
        "id": "z6HjnoHQ_zFo",
        "colab": {
          "base_uri": "https://localhost:8080/",
          "height": 429
        },
        "outputId": "769a5b5a-234d-40b1-8aff-ea1ce094915c"
      },
      "source": [
        "loans['monthly_utilization'].quantile([0, 0.1, 0.2, 0.3, 0.4, 0.5, 0.6, 0.7, 0.8, 0.9, 1])"
      ],
      "execution_count": null,
      "outputs": [
        {
          "output_type": "execute_result",
          "data": {
            "text/plain": [
              "0.0        0.000000\n",
              "0.1        0.002969\n",
              "0.2        0.019222\n",
              "0.3        0.043461\n",
              "0.4        0.083181\n",
              "0.5        0.154181\n",
              "0.6        0.271493\n",
              "0.7        0.445136\n",
              "0.8        0.698857\n",
              "0.9        0.981278\n",
              "1.0    50708.000000\n",
              "Name: monthly_utilization, dtype: float64"
            ],
            "text/html": [
              "<div>\n",
              "<style scoped>\n",
              "    .dataframe tbody tr th:only-of-type {\n",
              "        vertical-align: middle;\n",
              "    }\n",
              "\n",
              "    .dataframe tbody tr th {\n",
              "        vertical-align: top;\n",
              "    }\n",
              "\n",
              "    .dataframe thead th {\n",
              "        text-align: right;\n",
              "    }\n",
              "</style>\n",
              "<table border=\"1\" class=\"dataframe\">\n",
              "  <thead>\n",
              "    <tr style=\"text-align: right;\">\n",
              "      <th></th>\n",
              "      <th>monthly_utilization</th>\n",
              "    </tr>\n",
              "  </thead>\n",
              "  <tbody>\n",
              "    <tr>\n",
              "      <th>0.0</th>\n",
              "      <td>0.000000</td>\n",
              "    </tr>\n",
              "    <tr>\n",
              "      <th>0.1</th>\n",
              "      <td>0.002969</td>\n",
              "    </tr>\n",
              "    <tr>\n",
              "      <th>0.2</th>\n",
              "      <td>0.019222</td>\n",
              "    </tr>\n",
              "    <tr>\n",
              "      <th>0.3</th>\n",
              "      <td>0.043461</td>\n",
              "    </tr>\n",
              "    <tr>\n",
              "      <th>0.4</th>\n",
              "      <td>0.083181</td>\n",
              "    </tr>\n",
              "    <tr>\n",
              "      <th>0.5</th>\n",
              "      <td>0.154181</td>\n",
              "    </tr>\n",
              "    <tr>\n",
              "      <th>0.6</th>\n",
              "      <td>0.271493</td>\n",
              "    </tr>\n",
              "    <tr>\n",
              "      <th>0.7</th>\n",
              "      <td>0.445136</td>\n",
              "    </tr>\n",
              "    <tr>\n",
              "      <th>0.8</th>\n",
              "      <td>0.698857</td>\n",
              "    </tr>\n",
              "    <tr>\n",
              "      <th>0.9</th>\n",
              "      <td>0.981278</td>\n",
              "    </tr>\n",
              "    <tr>\n",
              "      <th>1.0</th>\n",
              "      <td>50708.000000</td>\n",
              "    </tr>\n",
              "  </tbody>\n",
              "</table>\n",
              "</div><br><label><b>dtype:</b> float64</label>"
            ]
          },
          "metadata": {},
          "execution_count": 16
        }
      ]
    },
    {
      "cell_type": "code",
      "metadata": {
        "id": "BvNnFquFGyve",
        "colab": {
          "base_uri": "https://localhost:8080/",
          "height": 429
        },
        "outputId": "52351c50-797e-4ffb-876c-c38fe5459ad1"
      },
      "source": [
        "loans['monthly_utilization'].quantile([0.9, 0.91, 0.92, 0.93, 0.94, 0.95, 0.96, 0.97, 0.98, 0.99, 1])"
      ],
      "execution_count": null,
      "outputs": [
        {
          "output_type": "execute_result",
          "data": {
            "text/plain": [
              "0.90        0.981278\n",
              "0.91        1.000000\n",
              "0.92        1.000000\n",
              "0.93        1.000000\n",
              "0.94        1.000000\n",
              "0.95        1.000000\n",
              "0.96        1.000000\n",
              "0.97        1.000000\n",
              "0.98        1.006199\n",
              "0.99        1.092956\n",
              "1.00    50708.000000\n",
              "Name: monthly_utilization, dtype: float64"
            ],
            "text/html": [
              "<div>\n",
              "<style scoped>\n",
              "    .dataframe tbody tr th:only-of-type {\n",
              "        vertical-align: middle;\n",
              "    }\n",
              "\n",
              "    .dataframe tbody tr th {\n",
              "        vertical-align: top;\n",
              "    }\n",
              "\n",
              "    .dataframe thead th {\n",
              "        text-align: right;\n",
              "    }\n",
              "</style>\n",
              "<table border=\"1\" class=\"dataframe\">\n",
              "  <thead>\n",
              "    <tr style=\"text-align: right;\">\n",
              "      <th></th>\n",
              "      <th>monthly_utilization</th>\n",
              "    </tr>\n",
              "  </thead>\n",
              "  <tbody>\n",
              "    <tr>\n",
              "      <th>0.90</th>\n",
              "      <td>0.981278</td>\n",
              "    </tr>\n",
              "    <tr>\n",
              "      <th>0.91</th>\n",
              "      <td>1.000000</td>\n",
              "    </tr>\n",
              "    <tr>\n",
              "      <th>0.92</th>\n",
              "      <td>1.000000</td>\n",
              "    </tr>\n",
              "    <tr>\n",
              "      <th>0.93</th>\n",
              "      <td>1.000000</td>\n",
              "    </tr>\n",
              "    <tr>\n",
              "      <th>0.94</th>\n",
              "      <td>1.000000</td>\n",
              "    </tr>\n",
              "    <tr>\n",
              "      <th>0.95</th>\n",
              "      <td>1.000000</td>\n",
              "    </tr>\n",
              "    <tr>\n",
              "      <th>0.96</th>\n",
              "      <td>1.000000</td>\n",
              "    </tr>\n",
              "    <tr>\n",
              "      <th>0.97</th>\n",
              "      <td>1.000000</td>\n",
              "    </tr>\n",
              "    <tr>\n",
              "      <th>0.98</th>\n",
              "      <td>1.006199</td>\n",
              "    </tr>\n",
              "    <tr>\n",
              "      <th>0.99</th>\n",
              "      <td>1.092956</td>\n",
              "    </tr>\n",
              "    <tr>\n",
              "      <th>1.00</th>\n",
              "      <td>50708.000000</td>\n",
              "    </tr>\n",
              "  </tbody>\n",
              "</table>\n",
              "</div><br><label><b>dtype:</b> float64</label>"
            ]
          },
          "metadata": {},
          "execution_count": 16
        }
      ]
    },
    {
      "cell_type": "code",
      "source": [
        "loans['monthly_utilization'].quantile([0.97, 0.971, 0.972, 0.973, 0.974, 0.975, 0.976, 0.977, 0.978, 0.979, 0.98])"
      ],
      "metadata": {
        "colab": {
          "base_uri": "https://localhost:8080/",
          "height": 429
        },
        "id": "h1mShpmx29Fd",
        "outputId": "f6c8a1ea-aad5-4bdd-bca4-42be8833354c"
      },
      "execution_count": null,
      "outputs": [
        {
          "output_type": "execute_result",
          "data": {
            "text/plain": [
              "0.970    1.000000\n",
              "0.971    1.000000\n",
              "0.972    1.000000\n",
              "0.973    1.000000\n",
              "0.974    1.000000\n",
              "0.975    1.000000\n",
              "0.976    1.000000\n",
              "0.977    1.000000\n",
              "0.978    1.000601\n",
              "0.979    1.003322\n",
              "0.980    1.006199\n",
              "Name: monthly_utilization, dtype: float64"
            ],
            "text/html": [
              "<div>\n",
              "<style scoped>\n",
              "    .dataframe tbody tr th:only-of-type {\n",
              "        vertical-align: middle;\n",
              "    }\n",
              "\n",
              "    .dataframe tbody tr th {\n",
              "        vertical-align: top;\n",
              "    }\n",
              "\n",
              "    .dataframe thead th {\n",
              "        text-align: right;\n",
              "    }\n",
              "</style>\n",
              "<table border=\"1\" class=\"dataframe\">\n",
              "  <thead>\n",
              "    <tr style=\"text-align: right;\">\n",
              "      <th></th>\n",
              "      <th>monthly_utilization</th>\n",
              "    </tr>\n",
              "  </thead>\n",
              "  <tbody>\n",
              "    <tr>\n",
              "      <th>0.970</th>\n",
              "      <td>1.000000</td>\n",
              "    </tr>\n",
              "    <tr>\n",
              "      <th>0.971</th>\n",
              "      <td>1.000000</td>\n",
              "    </tr>\n",
              "    <tr>\n",
              "      <th>0.972</th>\n",
              "      <td>1.000000</td>\n",
              "    </tr>\n",
              "    <tr>\n",
              "      <th>0.973</th>\n",
              "      <td>1.000000</td>\n",
              "    </tr>\n",
              "    <tr>\n",
              "      <th>0.974</th>\n",
              "      <td>1.000000</td>\n",
              "    </tr>\n",
              "    <tr>\n",
              "      <th>0.975</th>\n",
              "      <td>1.000000</td>\n",
              "    </tr>\n",
              "    <tr>\n",
              "      <th>0.976</th>\n",
              "      <td>1.000000</td>\n",
              "    </tr>\n",
              "    <tr>\n",
              "      <th>0.977</th>\n",
              "      <td>1.000000</td>\n",
              "    </tr>\n",
              "    <tr>\n",
              "      <th>0.978</th>\n",
              "      <td>1.000601</td>\n",
              "    </tr>\n",
              "    <tr>\n",
              "      <th>0.979</th>\n",
              "      <td>1.003322</td>\n",
              "    </tr>\n",
              "    <tr>\n",
              "      <th>0.980</th>\n",
              "      <td>1.006199</td>\n",
              "    </tr>\n",
              "  </tbody>\n",
              "</table>\n",
              "</div><br><label><b>dtype:</b> float64</label>"
            ]
          },
          "metadata": {},
          "execution_count": 17
        }
      ]
    },
    {
      "cell_type": "code",
      "source": [
        "loans['monthly_utilization'].quantile([0.977, 0.9771, 0.9772, 0.9773, 0.9774, 0.9775, 0.9776, 0.9777, 0.9778, 0.9779, 0.9780])"
      ],
      "metadata": {
        "colab": {
          "base_uri": "https://localhost:8080/",
          "height": 429
        },
        "id": "nbx6HBkX3IjN",
        "outputId": "0502c053-e083-47d2-8427-c01c8ece19c2"
      },
      "execution_count": null,
      "outputs": [
        {
          "output_type": "execute_result",
          "data": {
            "text/plain": [
              "0.9770    1.000000\n",
              "0.9771    1.000000\n",
              "0.9772    1.000000\n",
              "0.9773    1.000000\n",
              "0.9774    1.000000\n",
              "0.9775    1.000000\n",
              "0.9776    1.000000\n",
              "0.9777    1.000000\n",
              "0.9778    1.000000\n",
              "0.9779    1.000193\n",
              "0.9780    1.000601\n",
              "Name: monthly_utilization, dtype: float64"
            ],
            "text/html": [
              "<div>\n",
              "<style scoped>\n",
              "    .dataframe tbody tr th:only-of-type {\n",
              "        vertical-align: middle;\n",
              "    }\n",
              "\n",
              "    .dataframe tbody tr th {\n",
              "        vertical-align: top;\n",
              "    }\n",
              "\n",
              "    .dataframe thead th {\n",
              "        text-align: right;\n",
              "    }\n",
              "</style>\n",
              "<table border=\"1\" class=\"dataframe\">\n",
              "  <thead>\n",
              "    <tr style=\"text-align: right;\">\n",
              "      <th></th>\n",
              "      <th>monthly_utilization</th>\n",
              "    </tr>\n",
              "  </thead>\n",
              "  <tbody>\n",
              "    <tr>\n",
              "      <th>0.9770</th>\n",
              "      <td>1.000000</td>\n",
              "    </tr>\n",
              "    <tr>\n",
              "      <th>0.9771</th>\n",
              "      <td>1.000000</td>\n",
              "    </tr>\n",
              "    <tr>\n",
              "      <th>0.9772</th>\n",
              "      <td>1.000000</td>\n",
              "    </tr>\n",
              "    <tr>\n",
              "      <th>0.9773</th>\n",
              "      <td>1.000000</td>\n",
              "    </tr>\n",
              "    <tr>\n",
              "      <th>0.9774</th>\n",
              "      <td>1.000000</td>\n",
              "    </tr>\n",
              "    <tr>\n",
              "      <th>0.9775</th>\n",
              "      <td>1.000000</td>\n",
              "    </tr>\n",
              "    <tr>\n",
              "      <th>0.9776</th>\n",
              "      <td>1.000000</td>\n",
              "    </tr>\n",
              "    <tr>\n",
              "      <th>0.9777</th>\n",
              "      <td>1.000000</td>\n",
              "    </tr>\n",
              "    <tr>\n",
              "      <th>0.9778</th>\n",
              "      <td>1.000000</td>\n",
              "    </tr>\n",
              "    <tr>\n",
              "      <th>0.9779</th>\n",
              "      <td>1.000193</td>\n",
              "    </tr>\n",
              "    <tr>\n",
              "      <th>0.9780</th>\n",
              "      <td>1.000601</td>\n",
              "    </tr>\n",
              "  </tbody>\n",
              "</table>\n",
              "</div><br><label><b>dtype:</b> float64</label>"
            ]
          },
          "metadata": {},
          "execution_count": 18
        }
      ]
    },
    {
      "cell_type": "markdown",
      "metadata": {
        "id": "y67ZZZyLvWd6"
      },
      "source": [
        "# Box Plots"
      ]
    },
    {
      "cell_type": "code",
      "metadata": {
        "id": "3eviohPnKTUS"
      },
      "source": [
        "import pandas as pd\n",
        "bank=pd.read_csv(\"https://raw.githubusercontent.com/venkatareddykonasani/Datasets/master/Bank%20Tele%20Marketing/bank_market.csv\")"
      ],
      "execution_count": null,
      "outputs": []
    },
    {
      "cell_type": "code",
      "metadata": {
        "id": "HeBnLPv5KTeB",
        "colab": {
          "base_uri": "https://localhost:8080/"
        },
        "outputId": "231503ee-36e2-4a56-90fc-594fcff88e4a"
      },
      "source": [
        "bank.info()"
      ],
      "execution_count": null,
      "outputs": [
        {
          "output_type": "stream",
          "name": "stdout",
          "text": [
            "<class 'pandas.core.frame.DataFrame'>\n",
            "RangeIndex: 45211 entries, 0 to 45210\n",
            "Data columns (total 18 columns):\n",
            " #   Column     Non-Null Count  Dtype \n",
            "---  ------     --------------  ----- \n",
            " 0   Cust_num   45211 non-null  int64 \n",
            " 1   age        45211 non-null  int64 \n",
            " 2   job        45211 non-null  object\n",
            " 3   marital    45211 non-null  object\n",
            " 4   education  45211 non-null  object\n",
            " 5   default    45211 non-null  object\n",
            " 6   balance    45211 non-null  int64 \n",
            " 7   housing    45211 non-null  object\n",
            " 8   loan       45211 non-null  object\n",
            " 9   contact    45211 non-null  object\n",
            " 10  day        45211 non-null  int64 \n",
            " 11  month      45211 non-null  object\n",
            " 12  duration   45211 non-null  int64 \n",
            " 13  campaign   45211 non-null  int64 \n",
            " 14  pdays      45211 non-null  int64 \n",
            " 15  previous   45211 non-null  int64 \n",
            " 16  poutcome   45211 non-null  object\n",
            " 17  y          45211 non-null  object\n",
            "dtypes: int64(8), object(10)\n",
            "memory usage: 6.2+ MB\n"
          ]
        }
      ]
    },
    {
      "cell_type": "code",
      "metadata": {
        "id": "4fHsok6fKhx0",
        "colab": {
          "base_uri": "https://localhost:8080/",
          "height": 575
        },
        "outputId": "3c2771d5-bb5a-4176-a343-0fce70bf356b"
      },
      "source": [
        "import matplotlib.pyplot as plt\n",
        "plt.boxplot(bank[\"balance\"])"
      ],
      "execution_count": null,
      "outputs": [
        {
          "output_type": "execute_result",
          "data": {
            "text/plain": [
              "{'whiskers': [<matplotlib.lines.Line2D at 0x79947270a320>,\n",
              "  <matplotlib.lines.Line2D at 0x79947270bbe0>],\n",
              " 'caps': [<matplotlib.lines.Line2D at 0x79947270b940>,\n",
              "  <matplotlib.lines.Line2D at 0x79947270b5b0>],\n",
              " 'boxes': [<matplotlib.lines.Line2D at 0x79947270a080>],\n",
              " 'medians': [<matplotlib.lines.Line2D at 0x79947634d120>],\n",
              " 'fliers': [<matplotlib.lines.Line2D at 0x79947270b0a0>],\n",
              " 'means': []}"
            ]
          },
          "metadata": {},
          "execution_count": 19
        },
        {
          "output_type": "display_data",
          "data": {
            "text/plain": [
              "<Figure size 640x480 with 1 Axes>"
            ],
            "image/png": "[encoded data removed]"
          },
          "metadata": {}
        }
      ]
    },
    {
      "cell_type": "code",
      "metadata": {
        "id": "PQdL-6-yKz68",
        "colab": {
          "base_uri": "https://localhost:8080/",
          "height": 575
        },
        "outputId": "ee1e2108-75e2-4f0e-89be-0bc2c83dca88"
      },
      "source": [
        "plt.boxplot(bank[\"age\"])"
      ],
      "execution_count": null,
      "outputs": [
        {
          "output_type": "execute_result",
          "data": {
            "text/plain": [
              "{'whiskers': [<matplotlib.lines.Line2D at 0x799475660e80>,\n",
              "  <matplotlib.lines.Line2D at 0x799475660be0>],\n",
              " 'caps': [<matplotlib.lines.Line2D at 0x799475660940>,\n",
              "  <matplotlib.lines.Line2D at 0x7994756607c0>],\n",
              " 'boxes': [<matplotlib.lines.Line2D at 0x799475661120>],\n",
              " 'medians': [<matplotlib.lines.Line2D at 0x799475660520>],\n",
              " 'fliers': [<matplotlib.lines.Line2D at 0x7994756601c0>],\n",
              " 'means': []}"
            ]
          },
          "metadata": {},
          "execution_count": 20
        },
        {
          "output_type": "display_data",
          "data": {
            "text/plain": [
              "<Figure size 640x480 with 1 Axes>"
            ],
            "image/png": "[encoded data removed]"
          },
          "metadata": {}
        }
      ]
    },
    {
      "cell_type": "code",
      "metadata": {
        "id": "4h6S-3JCLVAi",
        "colab": {
          "base_uri": "https://localhost:8080/",
          "height": 575
        },
        "outputId": "b18240bc-7544-4834-8cf2-4e0a2924fbe8"
      },
      "source": [
        "loans=pd.read_csv(\"https://raw.githubusercontent.com/venkatareddykonasani/Datasets/master/Give%20me%20some%20Credit/cs-training.csv\")\n",
        "plt.boxplot(loans['monthly_utilization'])"
      ],
      "execution_count": null,
      "outputs": [
        {
          "output_type": "execute_result",
          "data": {
            "text/plain": [
              "{'whiskers': [<matplotlib.lines.Line2D at 0x7994734fefb0>,\n",
              "  <matplotlib.lines.Line2D at 0x7994734ff250>],\n",
              " 'caps': [<matplotlib.lines.Line2D at 0x7994734ff3d0>,\n",
              "  <matplotlib.lines.Line2D at 0x7994734ff670>],\n",
              " 'boxes': [<matplotlib.lines.Line2D at 0x7994734fed10>],\n",
              " 'medians': [<matplotlib.lines.Line2D at 0x7994734ffe50>],\n",
              " 'fliers': [<matplotlib.lines.Line2D at 0x7994734ffbb0>],\n",
              " 'means': []}"
            ]
          },
          "metadata": {},
          "execution_count": 21
        },
        {
          "output_type": "display_data",
          "data": {
            "text/plain": [
              "<Figure size 640x480 with 1 Axes>"
            ],
            "image/png": "[encoded data removed]"
          },
          "metadata": {}
        }
      ]
    },
    {
      "cell_type": "code",
      "metadata": {
        "id": "mNNEYYc4P1-Z"
      },
      "source": [],
      "execution_count": null,
      "outputs": []
    }
  ]
}