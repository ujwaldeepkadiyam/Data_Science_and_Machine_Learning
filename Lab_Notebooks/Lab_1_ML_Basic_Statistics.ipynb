{
  "nbformat": 4,
  "nbformat_minor": 0,
  "metadata": {
    "colab": {
      "provenance": []
    },
    "kernelspec": {
      "name": "python3",
      "display_name": "Python 3"
    },
    "language_info": {
      "name": "python"
    }
  },
  "cells": [
    {
      "cell_type": "code",
      "source": [],
      "metadata": {
        "id": "iTLlru6KqJt4"
      },
      "execution_count": null,
      "outputs": []
    },
    {
      "cell_type": "code",
      "metadata": {
        "id": "D7isdRF-rP8j"
      },
      "source": [
        "import pandas as pd\n",
        "Income=pd.read_csv(\"https://raw.githubusercontent.com/venkatareddykonasani/Datasets/master/Census%20Income%20Data/Income_data.csv\")"
      ],
      "execution_count": null,
      "outputs": []
    },
    {
      "cell_type": "code",
      "metadata": {
        "id": "BVOEsxvXrwlt",
        "collapsed": true
      },
      "source": [
        "Income.shape #number of rows and columns"
      ],
      "execution_count": null,
      "outputs": []
    },
    {
      "cell_type": "code",
      "metadata": {
        "id": "82_UT65Uryh4",
        "collapsed": true
      },
      "source": [
        "Income.info() #details"
      ],
      "execution_count": null,
      "outputs": []
    },
    {
      "cell_type": "markdown",
      "metadata": {
        "id": "ILdW-w-I26ir"
      },
      "source": [
        "#Mean"
      ]
    },
    {
      "cell_type": "code",
      "metadata": {
        "id": "sXK0NCV1r0ZA",
        "collapsed": true
      },
      "source": [
        "Income[\"capital-gain\"].mean()"
      ],
      "execution_count": null,
      "outputs": []
    },
    {
      "cell_type": "markdown",
      "metadata": {
        "id": "iKD55Y1a2_Bk"
      },
      "source": [
        "#Median"
      ]
    },
    {
      "cell_type": "code",
      "metadata": {
        "id": "mu0LaSautG_9",
        "collapsed": true
      },
      "source": [
        "Income[\"capital-gain\"].median()"
      ],
      "execution_count": null,
      "outputs": []
    },
    {
      "cell_type": "markdown",
      "metadata": {
        "id": "GINLMiq1vdON"
      },
      "source": [
        "# Var and SD"
      ]
    },
    {
      "cell_type": "code",
      "metadata": {
        "id": "ShDSQodevxAb"
      },
      "source": [
        "Online_Retail=pd.read_csv(\"https://raw.githubusercontent.com/venkatareddykonasani/Datasets/master/Online%20Retail%20Sales%20Data/Online%20Retail.csv\",encoding = \"ISO-8859-1\")"
      ],
      "execution_count": null,
      "outputs": []
    },
    {
      "cell_type": "code",
      "metadata": {
        "id": "gu16uMTh0AcP",
        "collapsed": true
      },
      "source": [
        "Online_Retail.info()"
      ],
      "execution_count": null,
      "outputs": []
    },
    {
      "cell_type": "code",
      "source": [
        "Online_Retail.head(10)"
      ],
      "metadata": {
        "id": "A0AZQLmzQiao",
        "collapsed": true
      },
      "execution_count": null,
      "outputs": []
    },
    {
      "cell_type": "code",
      "source": [
        "#var and sd UnitPrice\n",
        "Online_Retail_germany=Online_Retail[Online_Retail['Country']=='Germany']\n",
        "Online_Retail_france=Online_Retail[Online_Retail['Country']=='France']\n",
        "\n",
        "var_UnitPrice_germany=Online_Retail_germany['UnitPrice'].var()\n",
        "print(\"Variance of UnitPrice Germany\", var_UnitPrice_germany)\n",
        "\n",
        "var_UnitPrice_france=Online_Retail_france['UnitPrice'].var()\n",
        "print(\"Variance of UnitPrice France\", var_UnitPrice_france)\n"
      ],
      "metadata": {
        "id": "kZnbYa1oJQn4",
        "collapsed": true
      },
      "execution_count": null,
      "outputs": []
    },
    {
      "cell_type": "code",
      "source": [
        "Online_Retail_france.head(10)"
      ],
      "metadata": {
        "id": "W88RXwKUQxxp",
        "collapsed": true
      },
      "execution_count": null,
      "outputs": []
    },
    {
      "cell_type": "code",
      "metadata": {
        "id": "R13wQ0-q0C_Z",
        "collapsed": true
      },
      "source": [
        "print(Online_Retail_germany['UnitPrice'].std())\n",
        "print(Online_Retail_france['UnitPrice'].std())"
      ],
      "execution_count": null,
      "outputs": []
    },
    {
      "cell_type": "markdown",
      "metadata": {
        "id": "mEPvciAt3H8l"
      },
      "source": [
        "#Percentiles"
      ]
    },
    {
      "cell_type": "code",
      "metadata": {
        "id": "wfF37klW2KEY",
        "collapsed": true
      },
      "source": [
        "Income[\"capital-gain\"].quantile([0,0.1,0.2,0.3,0.4,0.5,0.6,0.7,0.8,0.9,1])"
      ],
      "execution_count": null,
      "outputs": []
    },
    {
      "cell_type": "code",
      "metadata": {
        "id": "-v28tIMI6q2E",
        "collapsed": true
      },
      "source": [
        "Income[\"capital-gain\"].quantile([0.9,0.91,0.92,0.93,0.94,0.95,0.96,0.97,0.98,0.995,1])"
      ],
      "execution_count": null,
      "outputs": []
    },
    {
      "cell_type": "markdown",
      "metadata": {
        "id": "qSIguItHvIIm"
      },
      "source": [
        "## Credit Risk Data"
      ]
    },
    {
      "cell_type": "code",
      "metadata": {
        "id": "K5eU1oVD9OZY"
      },
      "source": [
        "loans=pd.read_csv(\"https://raw.githubusercontent.com/venkatareddykonasani/Datasets/master/Give%20me%20some%20Credit/cs-training.csv\")"
      ],
      "execution_count": null,
      "outputs": []
    },
    {
      "cell_type": "code",
      "metadata": {
        "id": "ket9wSDs_wO8",
        "collapsed": true
      },
      "source": [
        "loans.info()"
      ],
      "execution_count": null,
      "outputs": []
    },
    {
      "cell_type": "code",
      "metadata": {
        "id": "z6HjnoHQ_zFo",
        "collapsed": true
      },
      "source": [
        "loans['monthly_utilization'].quantile([0, 0.1, 0.2, 0.3, 0.4, 0.5, 0.6, 0.7, 0.8, 0.9, 1])"
      ],
      "execution_count": null,
      "outputs": []
    },
    {
      "cell_type": "code",
      "metadata": {
        "id": "BvNnFquFGyve",
        "collapsed": true
      },
      "source": [
        "loans['monthly_utilization'].quantile([0.9, 0.91, 0.92, 0.93, 0.94, 0.95, 0.96, 0.97, 0.98, 0.99, 1])"
      ],
      "execution_count": null,
      "outputs": []
    },
    {
      "cell_type": "code",
      "source": [
        "loans['monthly_utilization'].quantile([0.97, 0.971, 0.972, 0.973, 0.974, 0.975, 0.976, 0.977, 0.978, 0.979, 0.98])"
      ],
      "metadata": {
        "id": "h1mShpmx29Fd",
        "collapsed": true
      },
      "execution_count": null,
      "outputs": []
    },
    {
      "cell_type": "code",
      "source": [
        "loans['monthly_utilization'].quantile([0.977, 0.9771, 0.9772, 0.9773, 0.9774, 0.9775, 0.9776, 0.9777, 0.9778, 0.9779, 0.9780])"
      ],
      "metadata": {
        "id": "nbx6HBkX3IjN",
        "collapsed": true
      },
      "execution_count": null,
      "outputs": []
    },
    {
      "cell_type": "markdown",
      "metadata": {
        "id": "y67ZZZyLvWd6"
      },
      "source": [
        "# Box Plots"
      ]
    },
    {
      "cell_type": "code",
      "metadata": {
        "id": "3eviohPnKTUS"
      },
      "source": [
        "import pandas as pd\n",
        "bank=pd.read_csv(\"https://raw.githubusercontent.com/venkatareddykonasani/Datasets/master/Bank%20Tele%20Marketing/bank_market.csv\")"
      ],
      "execution_count": null,
      "outputs": []
    },
    {
      "cell_type": "code",
      "metadata": {
        "id": "HeBnLPv5KTeB",
        "collapsed": true
      },
      "source": [
        "bank.info()"
      ],
      "execution_count": null,
      "outputs": []
    },
    {
      "cell_type": "code",
      "metadata": {
        "id": "4fHsok6fKhx0",
        "collapsed": true
      },
      "source": [
        "import matplotlib.pyplot as plt\n",
        "plt.boxplot(bank[\"balance\"])"
      ],
      "execution_count": null,
      "outputs": []
    },
    {
      "cell_type": "code",
      "metadata": {
        "id": "PQdL-6-yKz68",
        "collapsed": true
      },
      "source": [
        "plt.boxplot(bank[\"age\"])"
      ],
      "execution_count": null,
      "outputs": []
    },
    {
      "cell_type": "code",
      "metadata": {
        "id": "4h6S-3JCLVAi",
        "collapsed": true
      },
      "source": [
        "loans=pd.read_csv(\"https://raw.githubusercontent.com/venkatareddykonasani/Datasets/master/Give%20me%20some%20Credit/cs-training.csv\")\n",
        "plt.boxplot(loans['monthly_utilization'])"
      ],
      "execution_count": null,
      "outputs": []
    },
    {
      "cell_type": "code",
      "metadata": {
        "id": "mNNEYYc4P1-Z"
      },
      "source": [],
      "execution_count": null,
      "outputs": []
    }
  ]
}