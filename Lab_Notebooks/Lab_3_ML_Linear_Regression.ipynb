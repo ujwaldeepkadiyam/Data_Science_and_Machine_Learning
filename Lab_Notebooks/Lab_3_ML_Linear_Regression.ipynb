{
  "nbformat": 4,
  "nbformat_minor": 0,
  "metadata": {
    "colab": {
      "provenance": [],
      "toc_visible": true
    },
    "kernelspec": {
      "name": "python3",
      "display_name": "Python 3"
    },
    "language_info": {
      "name": "python"
    }
  },
  "cells": [
    {
      "cell_type": "code",
      "execution_count": null,
      "metadata": {
        "id": "psd9I4LTmiQb"
      },
      "outputs": [],
      "source": []
    },
    {
      "cell_type": "markdown",
      "source": [
        "# **Association**\n",
        "\n",
        "### Scatter plot"
      ],
      "metadata": {
        "id": "jAqR0qkr6wfu"
      }
    },
    {
      "cell_type": "code",
      "source": [
        "\n",
        "\n",
        "import matplotlib.pyplot as plt\n",
        "\n",
        "import numpy as np\n",
        "\n",
        "# Generate 100 samples between 1 and 200\n",
        "x = np.random.randint(1, 1201, size=500)\n",
        "y = np.random.randint(1, 201, size=500) #[-2 * val for val in x]\n",
        "\n",
        "plt.scatter(x, y)\n",
        "plt.xlabel(\"X-axis\")\n",
        "plt.ylabel(\"Y-axis\")\n",
        "plt.title(\"Scatter Plot of X and Y\")\n",
        "plt.show()\n"
      ],
      "metadata": {
        "id": "-ArqH5WvLes2"
      },
      "execution_count": null,
      "outputs": []
    },
    {
      "cell_type": "markdown",
      "source": [
        "### Linear negative association"
      ],
      "metadata": {
        "id": "_8xh517Cl00y"
      }
    },
    {
      "cell_type": "code",
      "source": [
        "\n",
        "\n",
        "import matplotlib.pyplot as plt\n",
        "\n",
        "import numpy as np\n",
        "\n",
        "# Generate 100 samples between 1 and 200\n",
        "x = np.random.randint(1, 1201, size=50)\n",
        "y = [-2 * val for val in x]\n",
        "\n",
        "plt.scatter(x, y)\n",
        "plt.xlabel(\"X-axis\")\n",
        "plt.ylabel(\"Y-axis\")\n",
        "plt.title(\"Scatter Plot of X and Y\")\n",
        "plt.show()\n"
      ],
      "metadata": {
        "id": "h9GyN2hK6Zg4"
      },
      "execution_count": null,
      "outputs": []
    },
    {
      "cell_type": "markdown",
      "source": [
        "### linear positive association"
      ],
      "metadata": {
        "id": "2mx1egaBmbxr"
      }
    },
    {
      "cell_type": "code",
      "source": [
        "# prompt: draw scatterplot for x and y\n",
        "\n",
        "import matplotlib.pyplot as plt\n",
        "\n",
        "import numpy as np\n",
        "\n",
        "# Generate 100 samples between 1 and 200\n",
        "x = np.random.randint(1, 1201, size=50)\n",
        "y = [3 * val for val in x]\n",
        "\n",
        "plt.scatter(x, y)\n",
        "plt.xlabel(\"X-axis\")\n",
        "plt.ylabel(\"Y-axis\")\n",
        "plt.title(\"Scatter Plot of X and Y\")\n",
        "plt.show()\n"
      ],
      "metadata": {
        "id": "LKvTEWH46mPv"
      },
      "execution_count": null,
      "outputs": []
    },
    {
      "cell_type": "markdown",
      "source": [
        "# Observe Correlation Using Heat Map"
      ],
      "metadata": {
        "id": "ZJC_y9Jz64y3"
      }
    },
    {
      "cell_type": "code",
      "source": [
        "import numpy as np\n",
        "import pandas as pd\n",
        "import seaborn as sns\n",
        "import matplotlib.pyplot as plt\n",
        "\n",
        "# Set random seed for reproducibility\n",
        "np.random.seed(42)\n",
        "\n",
        "# Generate 50 random numbers for the base variables\n",
        "X1 = np.random.randint(1, 100, 50)  # Random values from 1 to 100\n",
        "X2 = X1 + np.random.normal(0, 5, 50)  # Strong positive correlation with X1\n",
        "X3 = np.random.randint(1, 100, 50)  # Random values\n",
        "X4 = -X3 + np.random.normal(0, 5, 50)  # Strong negative correlation with X3\n",
        "X5 = X1 * 0.2 + np.random.normal(0, 10, 50)  # Weak positive correlation with X1\n",
        "X6 = np.random.randint(1, 100, 50)  # No correlation with any variable\n",
        "\n",
        "# Create DataFrame\n",
        "df = pd.DataFrame({'X1': X1, 'X2': X2, 'X3': X3, 'X4': X4, 'X5': X5, 'X6': X6})\n",
        "\n",
        "# Display first few rows\n",
        "print(df.head())\n"
      ],
      "metadata": {
        "id": "v1qtGzEvp7Id"
      },
      "execution_count": null,
      "outputs": []
    },
    {
      "cell_type": "code",
      "source": [
        "correlation_matrix = df.corr()\n",
        "print(correlation_matrix)\n"
      ],
      "metadata": {
        "id": "-jlBP54dqAE5"
      },
      "execution_count": null,
      "outputs": []
    },
    {
      "cell_type": "code",
      "source": [
        "plt.figure(figsize=(8, 6))\n",
        "sns.heatmap(correlation_matrix, annot=True, cmap='coolwarm', fmt=\".2f\")\n",
        "plt.title(\"Correlation Heatmap\")\n",
        "plt.show()\n"
      ],
      "metadata": {
        "id": "VPfVbRn7qAml"
      },
      "execution_count": null,
      "outputs": []
    },
    {
      "cell_type": "code",
      "source": [],
      "metadata": {
        "id": "yNGB0JoVqPxw"
      },
      "execution_count": null,
      "outputs": []
    },
    {
      "cell_type": "markdown",
      "source": [
        " **Interpretation**\n",
        "- **Correlation Heatmap** (Left Plot):  \n",
        "  - Shows how strongly two variables are correlated.  \n",
        "  - Dark red = strong positive correlation.  \n",
        "  - Dark blue = strong negative correlation.  \n",
        "  - Near zero = no correlation.  \n",
        "\n",
        "\n",
        "\n",
        "\n",
        "\n"
      ],
      "metadata": {
        "id": "tkaF-nHaqQQi"
      }
    },
    {
      "cell_type": "markdown",
      "source": [
        "# Linear Regression\n",
        "\n",
        "## Case Study: Air passenger prediction\n",
        "### Correlation among variables"
      ],
      "metadata": {
        "id": "2EQ-9C3E7EPn"
      }
    },
    {
      "cell_type": "code",
      "source": [
        "import pandas as pd\n",
        "import numpy as np\n",
        "import seaborn as sns\n",
        "import matplotlib.pyplot as plt\n",
        "from sklearn.datasets import fetch_openml\n",
        "from sklearn.linear_model import LinearRegression\n",
        "from sklearn.model_selection import train_test_split\n",
        "from sklearn.metrics import r2_score\n",
        "\n",
        "df = pd.read_csv('https://raw.githubusercontent.com/venkatareddykonasani/Datasets/refs/heads/master/AirPassengers/AirPassengers.csv')"
      ],
      "metadata": {
        "id": "xJdqzRCZE67a"
      },
      "execution_count": null,
      "outputs": []
    },
    {
      "cell_type": "code",
      "source": [
        "df.columns"
      ],
      "metadata": {
        "id": "eqHZYoxhFCOK"
      },
      "execution_count": null,
      "outputs": []
    },
    {
      "cell_type": "code",
      "source": [
        "# prompt: plot heat plot using seaborn for only numerical columns\n",
        "\n",
        "import seaborn as sns\n",
        "import matplotlib.pyplot as plt\n",
        "\n",
        "# Select only numerical columns\n",
        "numerical_cols = df.select_dtypes(include=['number']).columns\n",
        "df_numerical = df[numerical_cols]\n",
        "\n",
        "# Calculate the correlation matrix\n",
        "correlation_matrix = df_numerical.corr()\n",
        "\n",
        "# Create the heatmap\n",
        "plt.figure(figsize=(10, 8))\n",
        "sns.heatmap(correlation_matrix, annot=True, cmap='coolwarm', fmt=\".2f\")\n",
        "plt.title('Correlation Matrix Heatmap (Numerical Columns)')\n",
        "plt.show()\n"
      ],
      "metadata": {
        "id": "Cm5blM7BFeL-"
      },
      "execution_count": null,
      "outputs": []
    },
    {
      "cell_type": "markdown",
      "source": [
        "### Correlation between each feature and target variable"
      ],
      "metadata": {
        "id": "OAcL-tOk7xQ3"
      }
    },
    {
      "cell_type": "code",
      "source": [
        "for col in df.select_dtypes(include=['number']).columns:\n",
        "  print(\"Correlation between \",col,\" and Passengers\")\n",
        "  print(\"                                       \")\n",
        "  print(np.corrcoef(df.Passengers,df[col]))\n",
        "  print(\"---------------------------------\")\n",
        "  # print(col)\n",
        "\n",
        "# np.corrcoef(air.Passengers,air.Promotion_Budget)"
      ],
      "metadata": {
        "id": "RSbgKufUIHzo"
      },
      "execution_count": null,
      "outputs": []
    },
    {
      "cell_type": "markdown",
      "source": [
        "### Model - 1: Promotion Budget vs Passengers"
      ],
      "metadata": {
        "id": "KDuKWIB7643t"
      }
    },
    {
      "cell_type": "code",
      "source": [
        "\n",
        "# Target variable\n",
        "y = df[\"Passengers\"]\n",
        "\n",
        "# Feature\n",
        "X1 = df[[\"Promotion_Budget\"]]\n",
        "\n",
        "\n",
        "\n",
        "# Train Linear Regression models\n",
        "model_high = LinearRegression().fit(X1, y)\n",
        "\n",
        "# Predictions\n",
        "y_pred = model_high.predict(X1)\n",
        "\n",
        "\n",
        "# Calculate R² scores\n",
        "r2_high = r2_score(y, y_pred)\n",
        "\n",
        "print(f\"R² Score ( Promotion Budget vs Passengers): {r2_high:.4f}\")\n",
        "\n",
        "\n",
        "# Model\n",
        "sns.scatterplot(x=df['Promotion_Budget'], y=y, label=\"Actual\")\n",
        "sns.lineplot(x=df['Promotion_Budget'], y=y_pred, color=\"red\", label=\"Predicted\")\n",
        "axes[0].set_title(f\" R²:  Promotion Budget vs Passengers ({r2_high:.4f})\")\n",
        "\n",
        "plt.tight_layout()\n",
        "plt.show()\n"
      ],
      "metadata": {
        "id": "Cl7RvD1FFDCS"
      },
      "execution_count": null,
      "outputs": []
    },
    {
      "cell_type": "markdown",
      "source": [
        "### Model - 2: Inter Metro Flight Ratio vs Passengers"
      ],
      "metadata": {
        "id": "5rOMtuwp7CLm"
      }
    },
    {
      "cell_type": "code",
      "source": [
        "\n",
        "# Target variable\n",
        "\n",
        "# Feature\n",
        "X1 = df[[\"Inter_metro_flight_ratio\"]]\n",
        "\n",
        "\n",
        "# Train Linear Regression models\n",
        "model_high = LinearRegression().fit(X1, y)\n",
        "\n",
        "# Predictions\n",
        "y_pred = model_high.predict(X1)\n",
        "\n",
        "\n",
        "# Calculate R² scores\n",
        "r2_high = r2_score(y, y_pred)\n",
        "\n",
        "print(f\"R² Score (Inter_metro_flight_ratio vs Passengers ): {r2_high:.4f}\")\n",
        "# Plot results\n",
        "# fig, axes = plt.subplots(1, 2, figsize=(12, 5))\n",
        "\n",
        "# High Correlation Model\n",
        "sns.scatterplot(x=df['Inter_metro_flight_ratio'], y=y, label=\"Actual\")\n",
        "sns.lineplot(x=df['Inter_metro_flight_ratio'], y=y_pred, color=\"red\", label=\"Predicted\")\n",
        "axes[0].set_title(f\"R²: Inter_metro_flight_ratio vs Passengers ({r2_high:.4f})\")\n",
        "\n",
        "plt.tight_layout()\n",
        "plt.show()\n"
      ],
      "metadata": {
        "id": "08U5MuT8J1W7"
      },
      "execution_count": null,
      "outputs": []
    },
    {
      "cell_type": "markdown",
      "source": [
        "### Model - 3: Service Quality Score vs Passengers"
      ],
      "metadata": {
        "id": "3yVsIqkH7HID"
      }
    },
    {
      "cell_type": "code",
      "source": [
        "\n",
        "# Target variable\n",
        "y = df[\"Passengers\"]\n",
        "\n",
        "# Feature\n",
        "X1 = df[[\"Service_Quality_Score\"]]\n",
        "\n",
        "\n",
        "# Train Linear Regression models\n",
        "model_high = LinearRegression().fit(X1, y)\n",
        "\n",
        "# Predictions\n",
        "y_pred = model_high.predict(X1)\n",
        "\n",
        "\n",
        "# Calculate R² scores\n",
        "r2_high = r2_score(y, y_pred)\n",
        "\n",
        "print(f\"R² Score (Service_Quality_Score vs Passengers): {r2_high:.4f}\")\n",
        "# Plot results\n",
        "# fig, axes = plt.subplots(1, 2, figsize=(12, 5))\n",
        "\n",
        "# High Correlation Model\n",
        "sns.scatterplot(x=df['Service_Quality_Score'], y=y, label=\"Actual\")\n",
        "sns.lineplot(x=df['Service_Quality_Score'], y=y_pred, color=\"red\", label=\"Predicted\")\n",
        "axes[0].set_title(f\"R²: Service_Quality_Score vs Passengers({r2_high:.4f})\")\n",
        "\n",
        "plt.tight_layout()\n",
        "plt.show()\n"
      ],
      "metadata": {
        "id": "zT0BUF4-Gv5L"
      },
      "execution_count": null,
      "outputs": []
    },
    {
      "cell_type": "markdown",
      "source": [
        "### **Model for Predicting Number of passangers**"
      ],
      "metadata": {
        "id": "sT5-QVrVMjMn"
      }
    },
    {
      "cell_type": "code",
      "source": [
        "import statsmodels.formula.api as sm\n",
        "model = sm.ols(formula='Passengers ~ Promotion_Budget', data=df)\n",
        "fitted1 = model.fit()\n",
        "print(fitted1.summary())"
      ],
      "metadata": {
        "id": "YKxD4MfPL4Ii"
      },
      "execution_count": null,
      "outputs": []
    },
    {
      "cell_type": "code",
      "source": [
        "# y = b0 +b1*x\n",
        "# Passengers = 1259.6058 + 0.0695 * (promo_budget)\n",
        "# promo_budget = 500,000 ==> Predict passengers ?\n",
        "\n",
        "1259.6058 + 0.0695 * (500000)"
      ],
      "metadata": {
        "id": "WubbRr66L6u5"
      },
      "execution_count": null,
      "outputs": []
    },
    {
      "cell_type": "markdown",
      "source": [
        "# **Multiple Linear Regression**"
      ],
      "metadata": {
        "id": "Re5Esk4JMzwH"
      }
    },
    {
      "cell_type": "code",
      "source": [
        "\n",
        "# Target variable\n",
        "y = df[\"Passengers\"]\n",
        "\n",
        "\n",
        "X1 = df_numerical.drop(['Passengers'],axis=1)\n",
        "\n",
        "\n",
        "# Train Linear Regression models\n",
        "model_high = LinearRegression().fit(X1, y)\n",
        "\n",
        "# Predictions\n",
        "y_pred = model_high.predict(X1)\n",
        "\n",
        "\n",
        "# Calculate R² scores\n",
        "r2_high = r2_score(y, y_pred)\n",
        "\n",
        "print(f\"R² Score (High Correlation - LSTAT vs MEDV): {r2_high:.4f}\")"
      ],
      "metadata": {
        "id": "AQje2wNjM4HP"
      },
      "execution_count": null,
      "outputs": []
    },
    {
      "cell_type": "code",
      "source": [
        "model = sm.ols(formula='Passengers ~ Promotion_Budget+Service_Quality_Score+Inter_metro_flight_ratio', data=df)\n",
        "fitted = model.fit()\n",
        "print(fitted.summary())"
      ],
      "metadata": {
        "id": "xHwGsyJENG9Z"
      },
      "execution_count": null,
      "outputs": []
    },
    {
      "cell_type": "markdown",
      "source": [
        "### Impact of Individual variables"
      ],
      "metadata": {
        "id": "0bbVJeaVN7yF"
      }
    },
    {
      "cell_type": "code",
      "source": [
        "#Are there any predictor variables that are not impacting the dependent variable\n",
        "##Inter_metro_flight_ratio is dropped\n",
        "import statsmodels.formula.api as sm\n",
        "model = sm.ols(formula='Passengers ~ Promotion_Budget+Service_Quality_Score', data=df)\n",
        "fitted = model.fit()\n",
        "print(fitted.summary())"
      ],
      "metadata": {
        "id": "sn_pLVXBNwyx"
      },
      "execution_count": null,
      "outputs": []
    },
    {
      "cell_type": "code",
      "source": [],
      "metadata": {
        "id": "tH6JkAbqOCeK"
      },
      "execution_count": null,
      "outputs": []
    },
    {
      "cell_type": "markdown",
      "source": [
        "### **Adjusted R square**"
      ],
      "metadata": {
        "id": "TCVCMMQyV-8D"
      }
    },
    {
      "cell_type": "code",
      "source": [
        "adj_sample=pd.read_csv(\"https://raw.githubusercontent.com/venkatareddykonasani/Datasets/master/Adjusted%20RSquare/Adj_Sample.csv\")\n",
        "#Build a model to predict y using x1,x2 and x3. Note down R-Square and Adj R-Square values\n",
        "model = sm.ols(formula='Y ~ x1+x2+x3', data=adj_sample)\n",
        "fitted = model.fit()\n",
        "print(fitted.summary())\n",
        "#R-Squared"
      ],
      "metadata": {
        "id": "tehoJ0JdWIHx"
      },
      "execution_count": null,
      "outputs": []
    },
    {
      "cell_type": "code",
      "source": [
        "#Model2\n",
        "model = sm.ols(formula='Y ~ x1+x2+x3+x4+x5+x6', data=adj_sample)\n",
        "fitted = model.fit()\n",
        "print(fitted.summary())"
      ],
      "metadata": {
        "id": "v_xj1FZuWIr5"
      },
      "execution_count": null,
      "outputs": []
    },
    {
      "cell_type": "code",
      "source": [
        "#Model3\n",
        "model = sm.ols(formula='Y ~ x1+x2+x3+x4+x5+x6+x7+x8', data=adj_sample)\n",
        "fitted = model.fit()\n",
        "print(fitted.summary())"
      ],
      "metadata": {
        "id": "CF-hdhIAWLxp"
      },
      "execution_count": null,
      "outputs": []
    },
    {
      "cell_type": "markdown",
      "source": [],
      "metadata": {
        "id": "RS4eRQd_W-p7"
      }
    },
    {
      "cell_type": "markdown",
      "metadata": {
        "id": "iYoq4GaiAPsA"
      },
      "source": [
        "### Multiple Regression- issues"
      ]
    },
    {
      "cell_type": "code",
      "metadata": {
        "id": "b5UlwdLCALD4"
      },
      "source": [
        "#Import Regional Sales data\n",
        "regional_sales=pd.read_csv(\"https://raw.githubusercontent.com/venkatareddykonasani/Datasets/master/Regional_Sales/Sales_by_Region.csv\")\n",
        "\n",
        "#Variable names\n",
        "regional_sales.columns"
      ],
      "execution_count": null,
      "outputs": []
    },
    {
      "cell_type": "code",
      "metadata": {
        "id": "hc6i_1q-AbUT"
      },
      "source": [
        "model1 = sm.ols(formula='Regional_Sales ~ Avg_Income+Avg_Expenses+Percent_Male+Percent_Female', data=regional_sales)\n",
        "fitted1 = model1.fit()\n",
        "print(fitted1.summary())"
      ],
      "execution_count": null,
      "outputs": []
    },
    {
      "cell_type": "markdown",
      "metadata": {
        "id": "Ipa7gOWJm_gY"
      },
      "source": [
        "Model After dropping Avg Income"
      ]
    },
    {
      "cell_type": "code",
      "metadata": {
        "id": "U-H9it5jApez"
      },
      "source": [
        "model1 = sm.ols(formula='Regional_Sales ~ Avg_Expenses+Percent_Male+Percent_Female', data=regional_sales)\n",
        "fitted1 = model1.fit()\n",
        "print(fitted1.summary())"
      ],
      "execution_count": null,
      "outputs": []
    },
    {
      "cell_type": "markdown",
      "metadata": {
        "id": "ROTfGpTNnJsR"
      },
      "source": [
        "### VIF"
      ]
    },
    {
      "cell_type": "code",
      "metadata": {
        "id": "ZTTfVYFYAzGH"
      },
      "source": [
        "#Code for VIF Calculation\n",
        "#Writing a function to calculate the VIF values\n",
        "\n",
        "def vif_cal(input_data):\n",
        "    x_vars = input_data\n",
        "    xvar_names=x_vars.columns\n",
        "    for i in range(0,xvar_names.shape[0]):\n",
        "        y=x_vars[xvar_names[i]]\n",
        "        x=x_vars[xvar_names.drop(xvar_names[i])]\n",
        "        rsq=sm.ols(formula=\"y~x\", data=x_vars).fit().rsquared\n",
        "        vif=round(1/(1-rsq),2)\n",
        "        print (xvar_names[i], \" VIF = \" , vif)"
      ],
      "execution_count": null,
      "outputs": []
    },
    {
      "cell_type": "code",
      "metadata": {
        "id": "sOCQVbdbA6eL"
      },
      "source": [
        "#Calculating VIF values using that function\n",
        "X_Data=regional_sales.drop([\"Region_id\",\"Regional_Sales\"],axis=1)\n",
        "vif_cal(input_data=X_Data)"
      ],
      "execution_count": null,
      "outputs": []
    },
    {
      "cell_type": "code",
      "metadata": {
        "id": "zt6gIIZSA9Ra"
      },
      "source": [
        "vif_cal(input_data=X_Data.drop([\"Avg_Income\"], axis=1))"
      ],
      "execution_count": null,
      "outputs": []
    },
    {
      "cell_type": "code",
      "metadata": {
        "id": "g2oafXb4A_hN"
      },
      "source": [
        "vif_cal(input_data=X_Data.drop([\"Avg_Income\",\"Percent_Female\"], axis=1))"
      ],
      "execution_count": null,
      "outputs": []
    },
    {
      "cell_type": "code",
      "metadata": {
        "id": "P0suyPm5oIXA"
      },
      "source": [
        "model1 = sm.ols(formula='Regional_Sales ~ Avg_Expenses+Percent_Male', data=regional_sales)\n",
        "fitted1 = model1.fit()\n",
        "print(fitted1.summary())"
      ],
      "execution_count": null,
      "outputs": []
    },
    {
      "cell_type": "markdown",
      "metadata": {
        "id": "F4AMj-H2BDSu"
      },
      "source": [
        "# Multiple Regression model building steps"
      ]
    },
    {
      "cell_type": "code",
      "metadata": {
        "id": "Vn4vQfXuBA9J"
      },
      "source": [
        "Webpage_Product_Sales=pd.read_csv(\"https://raw.githubusercontent.com/venkatareddykonasani/Datasets/master/Webpage_Product_Sales/Webpage_Product_Sales.csv\")\n",
        "Webpage_Product_Sales.shape\n",
        "Webpage_Product_Sales.columns"
      ],
      "execution_count": null,
      "outputs": []
    },
    {
      "cell_type": "code",
      "metadata": {
        "id": "PkD4fxW4BOgB"
      },
      "source": [
        "model1 = sm.ols(formula='Sales ~ Web_UI_Score+Server_Down_time_Sec+Holiday+Special_Discount+Clicks_From_Serach_Engine+Online_Ad_Paid_ref_links+Social_Network_Ref_links+Month+Weekday+DayofMonth', data=Webpage_Product_Sales)\n",
        "fitted1 = model1.fit()\n",
        "print(fitted1.summary())"
      ],
      "execution_count": null,
      "outputs": []
    },
    {
      "cell_type": "code",
      "metadata": {
        "id": "4B4MbKtvhnqT"
      },
      "source": [
        "model1 = sm.ols(formula='Sales ~ Web_UI_Score+Server_Down_time_Sec+Holiday+Special_Discount+Online_Ad_Paid_ref_links+Social_Network_Ref_links+Month+Weekday+DayofMonth', data=Webpage_Product_Sales)\n",
        "fitted1 = model1.fit()\n",
        "print(fitted1.summary())"
      ],
      "execution_count": null,
      "outputs": []
    },
    {
      "cell_type": "code",
      "metadata": {
        "id": "R7UvipUiBTVh"
      },
      "source": [
        "#VIF\n",
        "vif_cal(Webpage_Product_Sales.drop([\"Clicks_From_Serach_Engine\"], axis=1))#,\"Sales\")"
      ],
      "execution_count": null,
      "outputs": []
    },
    {
      "cell_type": "code",
      "metadata": {
        "id": "FOSR-tYzBVeb"
      },
      "source": [
        "model1 = sm.ols(formula='Sales ~ Web_UI_Score+Server_Down_time_Sec+Holiday+Special_Discount+Online_Ad_Paid_ref_links+Social_Network_Ref_links+Month+Weekday+DayofMonth', data=Webpage_Product_Sales)\n",
        "fitted1 = model1.fit()\n",
        "print(fitted1.summary())"
      ],
      "execution_count": null,
      "outputs": []
    }
  ]
}